{
 "cells": [
  {
   "cell_type": "markdown",
   "id": "ffcac17a",
   "metadata": {},
   "source": [
    "We will use boolean operators. There are 3: and , or , not\n",
    "Priorities:\n",
    "1. and \n",
    "2. or\n",
    "3. not"
   ]
  },
  {
   "cell_type": "code",
   "execution_count": 2,
   "id": "fc649819",
   "metadata": {},
   "outputs": [
    {
     "name": "stdout",
     "output_type": "stream",
     "text": [
      "Sorry you do not qualify\n"
     ]
    }
   ],
   "source": [
    "user_age = int(input('What is your age? '))\n",
    "user_country = input('What is your country? ')\n",
    "\n",
    "if user_age < 25 and user_country == 'Germany' :\n",
    "    print('You can apply for a German student exchange program')\n",
    "else:\n",
    "    print('Sorry you do not qualify')\n"
   ]
  },
  {
   "cell_type": "code",
   "execution_count": 3,
   "id": "88ee636b",
   "metadata": {},
   "outputs": [
    {
     "name": "stdout",
     "output_type": "stream",
     "text": [
      "Sorry, you do not qualify\n"
     ]
    }
   ],
   "source": [
    "user_country = input('What is your country? ')\n",
    "\n",
    "if user_country == 'Sweden' or user_country == 'Denmark' or user_country == 'Norway' :\n",
    "    print('You can apply for a Scandinavian student exchange program')\n",
    "else:\n",
    "    print('Sorry, you do not qualify')"
   ]
  },
  {
   "cell_type": "code",
   "execution_count": null,
   "id": "d2ee5ca3",
   "metadata": {},
   "outputs": [
    {
     "name": "stdout",
     "output_type": "stream",
     "text": [
      "You are not from Germany\n"
     ]
    }
   ],
   "source": [
    "user_country = input('Where do you come from? ')\n",
    "if not user_country == 'Germany' :\n",
    "    print('You are not from Germany')\n",
    "else:\n",
    "    print('You are from Germany')"
   ]
  },
  {
   "cell_type": "code",
   "execution_count": 6,
   "id": "377d9bf7",
   "metadata": {},
   "outputs": [
    {
     "name": "stdout",
     "output_type": "stream",
     "text": [
      "You qualify!\n"
     ]
    }
   ],
   "source": [
    "# We can join all of them\n",
    "\n",
    "user_age = int(input('What is your age?' ))\n",
    "user_country = input('What is your country? ')\n",
    "\n",
    "if not user_country == 'Germany' and user_age < 25 or \\\n",
    "    user_country == 'Germany' and user_age < 23:\n",
    "    print('You qualify!')\n",
    "else:\n",
    "    print(\"You don't qualify\")"
   ]
  },
  {
   "cell_type": "markdown",
   "id": "c9b9c099",
   "metadata": {},
   "source": [
    "We can use brackets for conditions because of priorities to be understand our program more clear\n",
    "Also \n",
    "Why is \\ used?\n",
    "The backslash \\ is used to continue a line of code onto the next line.\n",
    "In this case, the condition was too long for one line and split for better readability.\n",
    "\n",
    "Without \\, Python would raise a syntax error:"
   ]
  },
  {
   "cell_type": "code",
   "execution_count": null,
   "id": "3b995a7a",
   "metadata": {},
   "outputs": [],
   "source": [
    "user_age = int(input('What is your age?' ))\n",
    "user_country = input('What is your country? ')\n",
    "\n",
    "if ((not user_country == 'Germany') and user_age < 25) or \\\n",
    "    (user_country == 'Germany' and user_age < 23):\n",
    "    print('You qualify!')\n",
    "else:\n",
    "    print(\"You don't qualify\")"
   ]
  }
 ],
 "metadata": {
  "kernelspec": {
   "display_name": ".venv",
   "language": "python",
   "name": "python3"
  },
  "language_info": {
   "codemirror_mode": {
    "name": "ipython",
    "version": 3
   },
   "file_extension": ".py",
   "mimetype": "text/x-python",
   "name": "python",
   "nbconvert_exporter": "python",
   "pygments_lexer": "ipython3",
   "version": "3.9.21"
  }
 },
 "nbformat": 4,
 "nbformat_minor": 5
}
