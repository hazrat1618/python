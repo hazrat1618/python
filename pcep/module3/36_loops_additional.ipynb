{
 "cells": [
  {
   "cell_type": "code",
   "execution_count": 1,
   "id": "de1e0ea8",
   "metadata": {},
   "outputs": [],
   "source": [
    "for i in range(11):\n",
    "    pass"
   ]
  },
  {
   "cell_type": "markdown",
   "id": "9c253a33",
   "metadata": {},
   "source": [
    "Below is nested loop. Which means loop inside of the loop.\n",
    "For each cycle of outer loop, the inner loop runs completely"
   ]
  },
  {
   "cell_type": "code",
   "execution_count": 3,
   "id": "ae55fc8f",
   "metadata": {},
   "outputs": [
    {
     "name": "stdout",
     "output_type": "stream",
     "text": [
      "1 x 1 = 1\n",
      "1 x 2 = 2\n",
      "1 x 3 = 3\n",
      "1 x 4 = 4\n",
      "1 x 5 = 5\n",
      "2 x 1 = 2\n",
      "2 x 2 = 4\n",
      "2 x 3 = 6\n",
      "2 x 4 = 8\n",
      "2 x 5 = 10\n",
      "3 x 1 = 3\n",
      "3 x 2 = 6\n",
      "3 x 3 = 9\n",
      "3 x 4 = 12\n",
      "3 x 5 = 15\n",
      "4 x 1 = 4\n",
      "4 x 2 = 8\n",
      "4 x 3 = 12\n",
      "4 x 4 = 16\n",
      "4 x 5 = 20\n",
      "5 x 1 = 5\n",
      "5 x 2 = 10\n",
      "5 x 3 = 15\n",
      "5 x 4 = 20\n",
      "5 x 5 = 25\n"
     ]
    }
   ],
   "source": [
    "for a in range(1, 6):\n",
    "    for b in range(1, 6):\n",
    "        print(a, 'x', b, '=', a * b )"
   ]
  },
  {
   "cell_type": "markdown",
   "id": "6d6495be",
   "metadata": {},
   "source": [
    "For exam. loops with else statement. That term is rarely used\n",
    "for and while can have else close at end of body"
   ]
  },
  {
   "cell_type": "code",
   "execution_count": 4,
   "id": "2e1c7246",
   "metadata": {},
   "outputs": [
    {
     "name": "stdout",
     "output_type": "stream",
     "text": [
      "2\n",
      "3\n",
      "4\n",
      "else: 5\n"
     ]
    }
   ],
   "source": [
    "i = 2\n",
    "while i < 5:\n",
    "    print(i)\n",
    "    i += 1\n",
    "else:\n",
    "    print('else:', i)"
   ]
  },
  {
   "cell_type": "markdown",
   "id": "67245a8f",
   "metadata": {},
   "source": [
    "Remember:\n",
    "The else branch of a loop is always executed exactly once (exception: break statement)"
   ]
  }
 ],
 "metadata": {
  "kernelspec": {
   "display_name": ".venv",
   "language": "python",
   "name": "python3"
  },
  "language_info": {
   "codemirror_mode": {
    "name": "ipython",
    "version": 3
   },
   "file_extension": ".py",
   "mimetype": "text/x-python",
   "name": "python",
   "nbconvert_exporter": "python",
   "pygments_lexer": "ipython3",
   "version": "3.9.21"
  }
 },
 "nbformat": 4,
 "nbformat_minor": 5
}
