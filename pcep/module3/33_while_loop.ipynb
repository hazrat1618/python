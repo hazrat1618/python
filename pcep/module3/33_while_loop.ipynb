{
 "cells": [
  {
   "cell_type": "markdown",
   "id": "699862ba",
   "metadata": {},
   "source": [
    "# While syntax\n",
    "\n",
    "while condition:\n",
    "    do_something()\n",
    "    do_something2()"
   ]
  },
  {
   "cell_type": "code",
   "execution_count": 6,
   "id": "cac20077",
   "metadata": {},
   "outputs": [
    {
     "name": "stdout",
     "output_type": "stream",
     "text": [
      "1\n",
      "2\n",
      "3\n",
      "4\n",
      "5\n",
      "6\n",
      "7\n",
      "8\n",
      "9\n",
      "10\n",
      "Finished\n"
     ]
    }
   ],
   "source": [
    "counter = 1\n",
    "while counter < 11:\n",
    "    print(counter)\n",
    "    counter += 1\n",
    "print('Finished')\n"
   ]
  },
  {
   "cell_type": "markdown",
   "id": "cc1e2a65",
   "metadata": {},
   "source": [
    "Remember:\n",
    "Increasing by 1 is called incrementation"
   ]
  },
  {
   "cell_type": "code",
   "execution_count": 9,
   "id": "2b19863c",
   "metadata": {},
   "outputs": [
    {
     "name": "stdout",
     "output_type": "stream",
     "text": [
      "\n",
      "    ========================\n",
      "    ===== GAME NUMBERS =====  \n",
      "    ========================\n",
      "     \n",
      "Wrong!\n",
      "Perfect! You have guessed the secret number.\n"
     ]
    }
   ],
   "source": [
    "secret_number = 14\n",
    "print('''\n",
    "    ========================\n",
    "    ===== GAME NUMBERS =====  \n",
    "    ========================\n",
    "     ''' )\n",
    "user_input = int(input('Try to guess the secret number from 0 to 20: '))\n",
    "while user_input != secret_number:\n",
    "    print('Wrong!')\n",
    "    user_input = int(input('Try to guess the secret number from 0 to 20: '))\n",
    "print('Perfect! You have guessed the secret number.')"
   ]
  }
 ],
 "metadata": {
  "kernelspec": {
   "display_name": ".venv",
   "language": "python",
   "name": "python3"
  },
  "language_info": {
   "codemirror_mode": {
    "name": "ipython",
    "version": 3
   },
   "file_extension": ".py",
   "mimetype": "text/x-python",
   "name": "python",
   "nbconvert_exporter": "python",
   "pygments_lexer": "ipython3",
   "version": "3.9.16"
  }
 },
 "nbformat": 4,
 "nbformat_minor": 5
}
