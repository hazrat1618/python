{
 "cells": [
  {
   "cell_type": "markdown",
   "id": "808050e0",
   "metadata": {},
   "source": [
    "Available logical operators\n",
    "\n",
    "( < ) -> Less than\n",
    "( > ) -> greater than\n",
    "( <= ) -> less than or equal\n",
    "( >= ) -> greater than or equal\n",
    "( == ) -> equals\n",
    "( != ) -> not equals"
   ]
  },
  {
   "cell_type": "code",
   "execution_count": 1,
   "id": "9c7042ca",
   "metadata": {},
   "outputs": [
    {
     "name": "stdout",
     "output_type": "stream",
     "text": [
      "not correct\n"
     ]
    }
   ],
   "source": [
    "password = input('Do you know the secret password? ')\n",
    "if password != '--secret':\n",
    "    print('not correct')\n",
    "else:\n",
    "    print('correct password')"
   ]
  },
  {
   "cell_type": "markdown",
   "id": "a51dc661",
   "metadata": {},
   "source": [
    "Boolean variable can have one of two values: True or False\n",
    "No quotes around them, cause it may considered str. No lowercase"
   ]
  },
  {
   "cell_type": "code",
   "execution_count": 2,
   "id": "ee09870f",
   "metadata": {},
   "outputs": [
    {
     "name": "stdout",
     "output_type": "stream",
     "text": [
      "Condition met\n"
     ]
    }
   ],
   "source": [
    "if True:\n",
    "    print('Condition met')"
   ]
  },
  {
   "cell_type": "code",
   "execution_count": 3,
   "id": "f8169a55",
   "metadata": {},
   "outputs": [],
   "source": [
    "if False:\n",
    "    print('Condition met')"
   ]
  },
  {
   "cell_type": "code",
   "execution_count": 4,
   "id": "c696cea2",
   "metadata": {},
   "outputs": [
    {
     "name": "stdout",
     "output_type": "stream",
     "text": [
      "true\n"
     ]
    }
   ],
   "source": [
    "if 2 == 2:\n",
    "    print('true')\n"
   ]
  },
  {
   "cell_type": "code",
   "execution_count": 5,
   "id": "2c9e66df",
   "metadata": {},
   "outputs": [
    {
     "name": "stdout",
     "output_type": "stream",
     "text": [
      "true\n"
     ]
    }
   ],
   "source": [
    "if 2 == 2.0:\n",
    "    print('true')"
   ]
  }
 ],
 "metadata": {
  "kernelspec": {
   "display_name": ".venv",
   "language": "python",
   "name": "python3"
  },
  "language_info": {
   "codemirror_mode": {
    "name": "ipython",
    "version": 3
   },
   "file_extension": ".py",
   "mimetype": "text/x-python",
   "name": "python",
   "nbconvert_exporter": "python",
   "pygments_lexer": "ipython3",
   "version": "3.9.16"
  }
 },
 "nbformat": 4,
 "nbformat_minor": 5
}
