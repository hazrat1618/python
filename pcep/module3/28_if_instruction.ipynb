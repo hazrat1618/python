{
 "cells": [
  {
   "cell_type": "markdown",
   "id": "3b5d3fcf",
   "metadata": {},
   "source": [
    "A conditional statement or if statement\n",
    "If is necessary but else and elif are optioanl\n",
    "\n",
    "Better is to use indentation in print with 4 spaces\n",
    "\n",
    "== -> two equal sign used to check equality\n",
    "= -> single equal sign is used to assign value to variables"
   ]
  },
  {
   "cell_type": "markdown",
   "id": "dbffcfe9",
   "metadata": {},
   "source": [
    "There can only be one else statement in a single if infastructure. If we have two else, we will get an error"
   ]
  },
  {
   "cell_type": "code",
   "execution_count": 1,
   "id": "a6019763",
   "metadata": {},
   "outputs": [
    {
     "name": "stdout",
     "output_type": "stream",
     "text": [
      "You are over 30 years old\n",
      "Sorry, you do not qualify\n"
     ]
    }
   ],
   "source": [
    "user_age = int(input('What is your age? '))\n",
    "if user_age > 30:\n",
    "    print('You are over 30 years old')\n",
    "    print('Sorry, you do not qualify')\n",
    "elif user_age == 30:\n",
    "    print('You are exactly 30 years old')\n",
    "    print('You will need to meet additional conditions to qualify')\n",
    "else:\n",
    "    print('You are 30 years old or younger')\n",
    "    print('Congratulations, you qualify!')\n",
    "    "
   ]
  }
 ],
 "metadata": {
  "kernelspec": {
   "display_name": ".venv",
   "language": "python",
   "name": "python3"
  },
  "language_info": {
   "codemirror_mode": {
    "name": "ipython",
    "version": 3
   },
   "file_extension": ".py",
   "mimetype": "text/x-python",
   "name": "python",
   "nbconvert_exporter": "python",
   "pygments_lexer": "ipython3",
   "version": "3.9.21"
  }
 },
 "nbformat": 4,
 "nbformat_minor": 5
}
