{
 "cells": [
  {
   "cell_type": "code",
   "execution_count": null,
   "id": "b6849c5d",
   "metadata": {},
   "outputs": [
    {
     "ename": "NameError",
     "evalue": "name 'prnt' is not defined",
     "output_type": "error",
     "traceback": [
      "\u001b[0;31m---------------------------------------------------------------------------\u001b[0m",
      "\u001b[0;31mNameError\u001b[0m                                 Traceback (most recent call last)",
      "Cell \u001b[0;32mIn[2], line 1\u001b[0m\n\u001b[0;32m----> 1\u001b[0m \u001b[43mprnt\u001b[49m (\u001b[38;5;124m'\u001b[39m\u001b[38;5;124mHello\u001b[39m\u001b[38;5;124m'\u001b[39m)\n",
      "\u001b[0;31mNameError\u001b[0m: name 'prnt' is not defined"
     ]
    }
   ],
   "source": [
    "prnt('Hello')"
   ]
  },
  {
   "cell_type": "code",
   "execution_count": null,
   "id": "5b4d2bcc",
   "metadata": {},
   "outputs": [
    {
     "name": "stdout",
     "output_type": "stream",
     "text": [
      "Hello!\n"
     ]
    }
   ],
   "source": [
    "print('Hello!')"
   ]
  },
  {
   "cell_type": "code",
   "execution_count": null,
   "id": "4280aa98",
   "metadata": {},
   "outputs": [
    {
     "name": "stdout",
     "output_type": "stream",
     "text": [
      "I'm studying Python\n"
     ]
    }
   ],
   "source": [
    "print(\"I'm studying Python\")        "
   ]
  },
  {
   "cell_type": "code",
   "execution_count": null,
   "id": "444149b1",
   "metadata": {},
   "outputs": [
    {
     "ename": "SyntaxError",
     "evalue": "invalid syntax (2861538103.py, line 1)",
     "output_type": "error",
     "traceback": [
      "\u001b[0;36m  Cell \u001b[0;32mIn[6], line 1\u001b[0;36m\u001b[0m\n\u001b[0;31m    print ('I'm studying Python')\u001b[0m\n\u001b[0m              ^\u001b[0m\n\u001b[0;31mSyntaxError\u001b[0m\u001b[0;31m:\u001b[0m invalid syntax\n"
     ]
    }
   ],
   "source": [
    "print('I'm studying Python')"
   ]
  },
  {
   "cell_type": "code",
   "execution_count": null,
   "id": "6f9ad497",
   "metadata": {},
   "outputs": [
    {
     "name": "stdout",
     "output_type": "stream",
     "text": [
      "I'm studying Python\n",
      "\n",
      "and having fun\n"
     ]
    }
   ],
   "source": [
    "print('I\\'m studying Python') \n",
    "print()\n",
    "print('and having fun')"
   ]
  },
  {
   "cell_type": "code",
   "execution_count": null,
   "id": "bb4edfe3",
   "metadata": {},
   "outputs": [
    {
     "name": "stdout",
     "output_type": "stream",
     "text": [
      "I'm studying Python and having fun\n"
     ]
    }
   ],
   "source": [
    "print('I\\'m studying Python','and having fun')"
   ]
  },
  {
   "cell_type": "markdown",
   "id": "cff92c67",
   "metadata": {},
   "source": [
    "comma ( , ) is very important in separating text and variables inside of print( )"
   ]
  },
  {
   "cell_type": "code",
   "execution_count": null,
   "id": "7136bcfd",
   "metadata": {},
   "outputs": [
    {
     "name": "stdout",
     "output_type": "stream",
     "text": [
      "I'm studying\n",
      "Python\n"
     ]
    }
   ],
   "source": [
    "print('I\\'m studying\\nPython')"
   ]
  }
 ],
 "metadata": {
  "kernelspec": {
   "display_name": ".venv",
   "language": "python",
   "name": "python3"
  },
  "language_info": {
   "codemirror_mode": {
    "name": "ipython",
    "version": 3
   },
   "file_extension": ".py",
   "mimetype": "text/x-python",
   "name": "python",
   "nbconvert_exporter": "python",
   "pygments_lexer": "ipython3",
   "version": "3.9.16"
  }
 },
 "nbformat": 4,
 "nbformat_minor": 5
}
