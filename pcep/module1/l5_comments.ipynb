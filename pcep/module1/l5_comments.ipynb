{
 "cells": [
  {
   "cell_type": "markdown",
   "id": "1c438fe6",
   "metadata": {},
   "source": [
    "Comments are part of the code which are not executed\n",
    "Python ignores everything which is comment\n",
    "Need to start with has (#) sign\n",
    "\n",
    "Use comments to document our code"
   ]
  },
  {
   "cell_type": "code",
   "execution_count": 3,
   "id": "691803b8",
   "metadata": {},
   "outputs": [
    {
     "name": "stdout",
     "output_type": "stream",
     "text": [
      "sample\n"
     ]
    }
   ],
   "source": [
    "print('sample') # here is a mid-line comment"
   ]
  },
  {
   "cell_type": "code",
   "execution_count": null,
   "id": "9f79556c",
   "metadata": {},
   "outputs": [],
   "source": [
    "# here is an all-line comment"
   ]
  },
  {
   "cell_type": "code",
   "execution_count": null,
   "id": "ddd4c945",
   "metadata": {},
   "outputs": [],
   "source": [
    "#note that the variables are strings, not numbers\n",
    "var1 = '23'\n",
    "var2 = '54'"
   ]
  },
  {
   "cell_type": "markdown",
   "id": "63a25507",
   "metadata": {},
   "source": [
    "Comments are useful when we want to quickly deactivatee some parts of the code"
   ]
  },
  {
   "cell_type": "code",
   "execution_count": 5,
   "id": "7200e2ee",
   "metadata": {},
   "outputs": [
    {
     "name": "stdout",
     "output_type": "stream",
     "text": [
      "hello\n"
     ]
    }
   ],
   "source": [
    "print('hello')\n",
    "# print('hidden message')"
   ]
  }
 ],
 "metadata": {
  "kernelspec": {
   "display_name": ".venv",
   "language": "python",
   "name": "python3"
  },
  "language_info": {
   "codemirror_mode": {
    "name": "ipython",
    "version": 3
   },
   "file_extension": ".py",
   "mimetype": "text/x-python",
   "name": "python",
   "nbconvert_exporter": "python",
   "pygments_lexer": "ipython3",
   "version": "3.9.16"
  }
 },
 "nbformat": 4,
 "nbformat_minor": 5
}
