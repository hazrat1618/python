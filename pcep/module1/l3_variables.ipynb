{
 "cells": [
  {
   "cell_type": "code",
   "execution_count": null,
   "id": "0baa1ff0",
   "metadata": {},
   "outputs": [
    {
     "name": "stdout",
     "output_type": "stream",
     "text": [
      "greeting\n"
     ]
    }
   ],
   "source": [
    "greeting = 'Hello, friend!'\n",
    "print(greeting)\n",
    "greeting = 'Hi, everybody!'\n",
    "print(greeting)"
   ]
  },
  {
   "cell_type": "code",
   "execution_count": null,
   "id": "621b2a22",
   "metadata": {},
   "outputs": [
    {
     "name": "stdout",
     "output_type": "stream",
     "text": [
      "Cheers!\n"
     ]
    }
   ],
   "source": [
    "print(new_greeting)\n",
    "new_greeting = 'Cheers!'"
   ]
  },
  {
   "cell_type": "code",
   "execution_count": null,
   "id": "e6b99b44",
   "metadata": {},
   "outputs": [],
   "source": [
    "correctName\n",
    "_correctName\n",
    "correctName89\n",
    "89incorrect"
   ]
  },
  {
   "cell_type": "code",
   "execution_count": null,
   "id": "b76503e8",
   "metadata": {},
   "outputs": [
    {
     "ename": "SyntaxError",
     "evalue": "invalid syntax (1180874858.py, line 1)",
     "output_type": "error",
     "traceback": [
      "\u001b[0;36m  Cell \u001b[0;32mIn[6], line 1\u001b[0;36m\u001b[0m\n\u001b[0;31m    from = 'ar'\u001b[0m\n\u001b[0m         ^\u001b[0m\n\u001b[0;31mSyntaxError\u001b[0m\u001b[0;31m:\u001b[0m invalid syntax\n"
     ]
    }
   ],
   "source": [
    "from = 'ar'\n",
    "print(from)"
   ]
  }
 ],
 "metadata": {
  "kernelspec": {
   "display_name": ".venv",
   "language": "python",
   "name": "python3"
  },
  "language_info": {
   "codemirror_mode": {
    "name": "ipython",
    "version": 3
   },
   "file_extension": ".py",
   "mimetype": "text/x-python",
   "name": "python",
   "nbconvert_exporter": "python",
   "pygments_lexer": "ipython3",
   "version": "3.9.16"
  }
 },
 "nbformat": 4,
 "nbformat_minor": 5
}
