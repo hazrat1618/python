{
 "cells": [
  {
   "cell_type": "markdown",
   "id": "1be8145a",
   "metadata": {},
   "source": [
    "Tuples are similar to list. They are also collection of multiple elements.\n",
    "They are created with round brackets/braces\n",
    "comma is required for Python to understand it is a tuple, but not in the end"
   ]
  },
  {
   "cell_type": "code",
   "execution_count": 2,
   "id": "3a4fab17",
   "metadata": {},
   "outputs": [],
   "source": [
    "empty_tuple = ()"
   ]
  },
  {
   "cell_type": "code",
   "execution_count": 1,
   "id": "41de2821",
   "metadata": {},
   "outputs": [],
   "source": [
    "one_el_tuple_a = (1,)"
   ]
  },
  {
   "cell_type": "code",
   "execution_count": 4,
   "id": "8bc83b47",
   "metadata": {},
   "outputs": [],
   "source": [
    "one_el_tuple_b = 1,"
   ]
  },
  {
   "cell_type": "code",
   "execution_count": 5,
   "id": "ee3f9b3b",
   "metadata": {},
   "outputs": [],
   "source": [
    "three_el_tuple = 1, 2, 3"
   ]
  },
  {
   "cell_type": "code",
   "execution_count": 6,
   "id": "6a745f9d",
   "metadata": {},
   "outputs": [
    {
     "name": "stdout",
     "output_type": "stream",
     "text": [
      "(1, 2, 3)\n"
     ]
    }
   ],
   "source": [
    "print(three_el_tuple)"
   ]
  },
  {
   "cell_type": "markdown",
   "id": "5957a592",
   "metadata": {},
   "source": [
    "When you first create a tuple, it stays like this forever"
   ]
  },
  {
   "cell_type": "code",
   "execution_count": 7,
   "id": "569bea39",
   "metadata": {},
   "outputs": [],
   "source": [
    "user_data = ('John', 'American', 1964)"
   ]
  },
  {
   "cell_type": "code",
   "execution_count": 3,
   "id": "56eef965",
   "metadata": {},
   "outputs": [],
   "source": [
    "user_data = ('Katya', 'Russian', 1980)"
   ]
  },
  {
   "cell_type": "code",
   "execution_count": 10,
   "id": "c462e86c",
   "metadata": {},
   "outputs": [
    {
     "ename": "AttributeError",
     "evalue": "'tuple' object has no attribute 'append'",
     "output_type": "error",
     "traceback": [
      "\u001b[0;31m---------------------------------------------------------------------------\u001b[0m",
      "\u001b[0;31mAttributeError\u001b[0m                            Traceback (most recent call last)",
      "Cell \u001b[0;32mIn[10], line 2\u001b[0m\n\u001b[1;32m      1\u001b[0m \u001b[38;5;66;03m# We cannot append or delete elements\u001b[39;00m\n\u001b[0;32m----> 2\u001b[0m \u001b[43muser_data\u001b[49m\u001b[38;5;241;43m.\u001b[39;49m\u001b[43mappend\u001b[49m(\u001b[38;5;124m'\u001b[39m\u001b[38;5;124mteacher\u001b[39m\u001b[38;5;124m'\u001b[39m)\n",
      "\u001b[0;31mAttributeError\u001b[0m: 'tuple' object has no attribute 'append'"
     ]
    }
   ],
   "source": [
    "# We cannot append or delete elements\n",
    "user_data.append('teacher')"
   ]
  },
  {
   "cell_type": "code",
   "execution_count": null,
   "id": "99eff200",
   "metadata": {},
   "outputs": [
    {
     "ename": "TypeError",
     "evalue": "'tuple' object doesn't support item deletion",
     "output_type": "error",
     "traceback": [
      "\u001b[0;31m---------------------------------------------------------------------------\u001b[0m",
      "\u001b[0;31mTypeError\u001b[0m                                 Traceback (most recent call last)",
      "Cell \u001b[0;32mIn[11], line 1\u001b[0m\n\u001b[0;32m----> 1\u001b[0m \u001b[38;5;28;01mdel\u001b[39;00m user_data[\u001b[38;5;241m0\u001b[39m]\n",
      "\u001b[0;31mTypeError\u001b[0m: 'tuple' object doesn't support item deletion"
     ]
    }
   ],
   "source": [
    "# We cannot delete\n",
    "del user_data[0]"
   ]
  },
  {
   "cell_type": "code",
   "execution_count": 4,
   "id": "9fd1eef9",
   "metadata": {},
   "outputs": [
    {
     "name": "stdout",
     "output_type": "stream",
     "text": [
      "Katya\n"
     ]
    }
   ],
   "source": [
    " # We can read element of tuple, but we cannot change it\n",
    "print(user_data[0])"
   ]
  },
  {
   "cell_type": "code",
   "execution_count": 5,
   "id": "3a8cd184",
   "metadata": {},
   "outputs": [
    {
     "ename": "TypeError",
     "evalue": "'tuple' object does not support item assignment",
     "output_type": "error",
     "traceback": [
      "\u001b[0;31m---------------------------------------------------------------------------\u001b[0m",
      "\u001b[0;31mTypeError\u001b[0m                                 Traceback (most recent call last)",
      "Cell \u001b[0;32mIn[5], line 2\u001b[0m\n\u001b[1;32m      1\u001b[0m \u001b[38;5;66;03m# If we try to change it by indexing, we'll get an error\u001b[39;00m\n\u001b[0;32m----> 2\u001b[0m \u001b[43muser_data\u001b[49m\u001b[43m[\u001b[49m\u001b[38;5;241;43m0\u001b[39;49m\u001b[43m]\u001b[49m \u001b[38;5;241m=\u001b[39m \u001b[38;5;124m'\u001b[39m\u001b[38;5;124mMark\u001b[39m\u001b[38;5;124m'\u001b[39m\n",
      "\u001b[0;31mTypeError\u001b[0m: 'tuple' object does not support item assignment"
     ]
    }
   ],
   "source": [
    "# If we try to change it by indexing, we'll get an error\n",
    "user_data[0] = 'Mark'"
   ]
  },
  {
   "cell_type": "markdown",
   "id": "1623211c",
   "metadata": {},
   "source": [
    "Biggest difference is lists are mutable and tuples are immutable"
   ]
  },
  {
   "cell_type": "code",
   "execution_count": 14,
   "id": "0aef7271",
   "metadata": {},
   "outputs": [],
   "source": [
    "message = 'welcome'"
   ]
  },
  {
   "cell_type": "code",
   "execution_count": 15,
   "id": "68b867b8",
   "metadata": {},
   "outputs": [],
   "source": [
    "message = 'Welcome'"
   ]
  },
  {
   "cell_type": "code",
   "execution_count": 17,
   "id": "a5d94014",
   "metadata": {},
   "outputs": [
    {
     "ename": "TypeError",
     "evalue": "'str' object does not support item assignment",
     "output_type": "error",
     "traceback": [
      "\u001b[0;31m---------------------------------------------------------------------------\u001b[0m",
      "\u001b[0;31mTypeError\u001b[0m                                 Traceback (most recent call last)",
      "Cell \u001b[0;32mIn[17], line 2\u001b[0m\n\u001b[1;32m      1\u001b[0m \u001b[38;5;66;03m# We cannot change existing string\u001b[39;00m\n\u001b[0;32m----> 2\u001b[0m \u001b[43mmessage\u001b[49m\u001b[43m[\u001b[49m\u001b[38;5;241;43m0\u001b[39;49m\u001b[43m]\u001b[49m \u001b[38;5;241m=\u001b[39m \u001b[38;5;124m'\u001b[39m\u001b[38;5;124mw\u001b[39m\u001b[38;5;124m'\u001b[39m\n",
      "\u001b[0;31mTypeError\u001b[0m: 'str' object does not support item assignment"
     ]
    }
   ],
   "source": [
    "# We cannot change existing string\n",
    "message[0] = 'w'"
   ]
  }
 ],
 "metadata": {
  "kernelspec": {
   "display_name": ".venv",
   "language": "python",
   "name": "python3"
  },
  "language_info": {
   "codemirror_mode": {
    "name": "ipython",
    "version": 3
   },
   "file_extension": ".py",
   "mimetype": "text/x-python",
   "name": "python",
   "nbconvert_exporter": "python",
   "pygments_lexer": "ipython3",
   "version": "3.9.21"
  }
 },
 "nbformat": 4,
 "nbformat_minor": 5
}
