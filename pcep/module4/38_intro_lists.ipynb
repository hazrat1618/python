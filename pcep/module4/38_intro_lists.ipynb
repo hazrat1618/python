{
 "cells": [
  {
   "cell_type": "markdown",
   "id": "f575b86b",
   "metadata": {},
   "source": [
    "When we work with integer, we knew that we only can put a single integer number inside an int var.  We couln't put 2 and 5 in int\n",
    "Python offers complex data types called collections to solve that, also known as container data types.\n",
    "3 types of collections:\n",
    "- lists. Used to store multiple values at same time. \n",
    "- tuples\n",
    "- dictionaries\n"
   ]
  },
  {
   "cell_type": "code",
   "execution_count": null,
   "id": "052485a1",
   "metadata": {},
   "outputs": [],
   "source": [
    "# To make city list we would do like this\n",
    "city_1 = 'New York City'\n",
    "city_2 = 'Los Angeles'\n",
    "city_3 = 'Chicago'\n",
    "city_4 = 'Houston'\n",
    "city_5 = 'Phoenix'"
   ]
  },
  {
   "cell_type": "code",
   "execution_count": null,
   "id": "aad3508e",
   "metadata": {},
   "outputs": [],
   "source": [
    "# List collection uses [ ] square brackets to store multiple values\n",
    "# Remember: List indices start at 0 . First element starts with 0\n",
    "empty_list = []"
   ]
  },
  {
   "cell_type": "code",
   "execution_count": null,
   "id": "ec793fcb",
   "metadata": {},
   "outputs": [
    {
     "name": "stdout",
     "output_type": "stream",
     "text": [
      "['New York City', 'Los Angeles', 'Chicago', 'Houston', 'Phoenix']\n"
     ]
    }
   ],
   "source": [
    "top_cities = ['New York City', 'Los Angeles', 'Chicago', 'Houston', 'Phoenix']\n",
    "print(top_cities)"
   ]
  },
  {
   "cell_type": "code",
   "execution_count": 3,
   "id": "bfe768a8",
   "metadata": {},
   "outputs": [
    {
     "data": {
      "text/plain": [
       "['New York City', 'Los Angeles', 'Chicago', 'Houston', 'Phoenix']"
      ]
     },
     "execution_count": 3,
     "metadata": {},
     "output_type": "execute_result"
    }
   ],
   "source": [
    "top_cities"
   ]
  },
  {
   "cell_type": "code",
   "execution_count": 4,
   "id": "a7f14ec2",
   "metadata": {},
   "outputs": [
    {
     "data": {
      "text/plain": [
       "'Chicago'"
      ]
     },
     "execution_count": 4,
     "metadata": {},
     "output_type": "execute_result"
    }
   ],
   "source": [
    "top_cities[2]"
   ]
  },
  {
   "cell_type": "code",
   "execution_count": 5,
   "id": "11b84d6c",
   "metadata": {},
   "outputs": [
    {
     "data": {
      "text/plain": [
       "'Phoenix'"
      ]
     },
     "execution_count": 5,
     "metadata": {},
     "output_type": "execute_result"
    }
   ],
   "source": [
    "top_cities[-1]"
   ]
  },
  {
   "cell_type": "markdown",
   "id": "f866e302",
   "metadata": {},
   "source": [
    "We use SLICING to get first two elements for ex."
   ]
  },
  {
   "cell_type": "code",
   "execution_count": 6,
   "id": "cf4dbf2d",
   "metadata": {},
   "outputs": [
    {
     "data": {
      "text/plain": [
       "['New York City', 'Los Angeles']"
      ]
     },
     "execution_count": 6,
     "metadata": {},
     "output_type": "execute_result"
    }
   ],
   "source": [
    "top_cities[0:2]"
   ]
  },
  {
   "cell_type": "code",
   "execution_count": 7,
   "id": "93fc9158",
   "metadata": {},
   "outputs": [
    {
     "data": {
      "text/plain": [
       "['Chicago', 'Houston', 'Phoenix']"
      ]
     },
     "execution_count": 7,
     "metadata": {},
     "output_type": "execute_result"
    }
   ],
   "source": [
    "top_cities[2:]"
   ]
  },
  {
   "cell_type": "code",
   "execution_count": 8,
   "id": "8588c3c6",
   "metadata": {},
   "outputs": [
    {
     "data": {
      "text/plain": [
       "['New York City', 'Los Angeles', 'Chicago']"
      ]
     },
     "execution_count": 8,
     "metadata": {},
     "output_type": "execute_result"
    }
   ],
   "source": [
    "top_cities[:3]"
   ]
  },
  {
   "cell_type": "code",
   "execution_count": 9,
   "id": "d62ff188",
   "metadata": {},
   "outputs": [
    {
     "data": {
      "text/plain": [
       "['New York City', 'Los Angeles', 'Chicago', 'Houston', 'Phoenix']"
      ]
     },
     "execution_count": 9,
     "metadata": {},
     "output_type": "execute_result"
    }
   ],
   "source": [
    "top_cities[:]"
   ]
  },
  {
   "cell_type": "code",
   "execution_count": 10,
   "id": "7cd94485",
   "metadata": {},
   "outputs": [
    {
     "data": {
      "text/plain": [
       "[]"
      ]
     },
     "execution_count": 10,
     "metadata": {},
     "output_type": "execute_result"
    }
   ],
   "source": [
    "# Empty list output, no error\n",
    "top_cities[10:15]"
   ]
  },
  {
   "cell_type": "code",
   "execution_count": null,
   "id": "c1aa41ce",
   "metadata": {},
   "outputs": [],
   "source": [
    "# Recap\n",
    "top_city = 'New York'\n",
    "top_cities = []\n",
    "top_cities = ['New York City', 'Los Angeles', 'Chicago', 'Houston', 'Phoenix']\n",
    "top_cities[0]\n",
    "top_cities[0:3]"
   ]
  }
 ],
 "metadata": {
  "kernelspec": {
   "display_name": ".venv",
   "language": "python",
   "name": "python3"
  },
  "language_info": {
   "codemirror_mode": {
    "name": "ipython",
    "version": 3
   },
   "file_extension": ".py",
   "mimetype": "text/x-python",
   "name": "python",
   "nbconvert_exporter": "python",
   "pygments_lexer": "ipython3",
   "version": "3.9.16"
  }
 },
 "nbformat": 4,
 "nbformat_minor": 5
}
