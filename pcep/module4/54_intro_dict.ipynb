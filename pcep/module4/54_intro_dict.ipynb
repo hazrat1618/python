{
 "cells": [
  {
   "cell_type": "markdown",
   "id": "91071b47",
   "metadata": {},
   "source": [
    "Dictionaries are used to store key value pairs"
   ]
  },
  {
   "cell_type": "code",
   "execution_count": 1,
   "id": "19074fcd",
   "metadata": {},
   "outputs": [],
   "source": [
    "emails = {\n",
    "    'Anne Stahl': 'astahl@gmail.com',\n",
    "    'Peter Small': 'peters@yandex.com',\n",
    "    'Mark Steel': 'mark@steel.com'\n",
    "}"
   ]
  },
  {
   "cell_type": "code",
   "execution_count": 2,
   "id": "04bd8972",
   "metadata": {},
   "outputs": [
    {
     "name": "stdout",
     "output_type": "stream",
     "text": [
      "mark@steel.com\n"
     ]
    }
   ],
   "source": [
    "# We provide the key within the same square brackets\n",
    "print(emails['Mark Steel'])"
   ]
  },
  {
   "cell_type": "code",
   "execution_count": 3,
   "id": "6b485e3d",
   "metadata": {},
   "outputs": [],
   "source": [
    "# Language dictionary\n",
    "spanish_animals = {\n",
    "    'dog': 'el perro',\n",
    "    'cat': 'el gato',\n",
    "    'horse': 'el caballo',\n",
    "    'bird': 'el pajaro'\n",
    "}"
   ]
  },
  {
   "cell_type": "code",
   "execution_count": 5,
   "id": "d936d670",
   "metadata": {},
   "outputs": [
    {
     "name": "stdout",
     "output_type": "stream",
     "text": [
      "el pajaro\n"
     ]
    }
   ],
   "source": [
    "print(spanish_animals['bird'])"
   ]
  },
  {
   "cell_type": "markdown",
   "id": "df3341d5",
   "metadata": {},
   "source": [
    "Basic syntax of dictionaries list:\n",
    "- Dictionaries are created with curly brackets\n",
    "- Inside we provide a key, then a colon, and then some value for the key\n",
    "- We put comma to continue list"
   ]
  },
  {
   "cell_type": "code",
   "execution_count": 6,
   "id": "38899005",
   "metadata": {},
   "outputs": [],
   "source": [
    "# Language dictionary\n",
    "spanish_animals = {\n",
    "    'dog': 'el perro',\n",
    "    'cat': 'el gato',\n",
    "    'horse': 'el caballo',\n",
    "    'bird': 'el pajaro',\n",
    "    'bird': 'el ave'\n",
    "}"
   ]
  },
  {
   "cell_type": "code",
   "execution_count": 7,
   "id": "b15a3635",
   "metadata": {},
   "outputs": [
    {
     "name": "stdout",
     "output_type": "stream",
     "text": [
      "{'dog': 'el perro', 'cat': 'el gato', 'horse': 'el caballo', 'bird': 'el ave'}\n"
     ]
    }
   ],
   "source": [
    "print(spanish_animals)"
   ]
  },
  {
   "cell_type": "code",
   "execution_count": 9,
   "id": "b3f8ca64",
   "metadata": {},
   "outputs": [
    {
     "ename": "KeyError",
     "evalue": "'el perro'",
     "output_type": "error",
     "traceback": [
      "\u001b[0;31m---------------------------------------------------------------------------\u001b[0m",
      "\u001b[0;31mKeyError\u001b[0m                                  Traceback (most recent call last)",
      "Cell \u001b[0;32mIn[9], line 1\u001b[0m\n\u001b[0;32m----> 1\u001b[0m \u001b[38;5;28mprint\u001b[39m(\u001b[43mspanish_animals\u001b[49m\u001b[43m[\u001b[49m\u001b[38;5;124;43m'\u001b[39;49m\u001b[38;5;124;43mel perro\u001b[39;49m\u001b[38;5;124;43m'\u001b[39;49m\u001b[43m]\u001b[49m)\n",
      "\u001b[0;31mKeyError\u001b[0m: 'el perro'"
     ]
    }
   ],
   "source": [
    "print(spanish_animals['el perro'])"
   ]
  },
  {
   "cell_type": "markdown",
   "id": "ab9a6c7a",
   "metadata": {},
   "source": [
    "- Python cannot find a given key in the dictionary\n",
    "- Dictionary is one way tool\n",
    "- Key must be immutable"
   ]
  },
  {
   "cell_type": "code",
   "execution_count": 21,
   "id": "f8c5f86b",
   "metadata": {},
   "outputs": [
    {
     "ename": "TypeError",
     "evalue": "unhashable type: 'list'",
     "output_type": "error",
     "traceback": [
      "\u001b[0;31m---------------------------------------------------------------------------\u001b[0m",
      "\u001b[0;31mTypeError\u001b[0m                                 Traceback (most recent call last)",
      "Cell \u001b[0;32mIn[21], line 1\u001b[0m\n\u001b[0;32m----> 1\u001b[0m tennis_ranking \u001b[38;5;241m=\u001b[39m {\n\u001b[1;32m      2\u001b[0m     [\u001b[38;5;241m1\u001b[39m]: \u001b[38;5;124m'\u001b[39m\u001b[38;5;124mAshleigh Barty\u001b[39m\u001b[38;5;124m'\u001b[39m,\n\u001b[1;32m      3\u001b[0m     [\u001b[38;5;241m2\u001b[39m]: \u001b[38;5;124m'\u001b[39m\u001b[38;5;124mNaomi Osaka\u001b[39m\u001b[38;5;124m'\u001b[39m,\n\u001b[1;32m      4\u001b[0m     [\u001b[38;5;241m3\u001b[39m]: \u001b[38;5;124m'\u001b[39m\u001b[38;5;124mSimona Halep\u001b[39m\u001b[38;5;124m'\u001b[39m\n\u001b[1;32m      5\u001b[0m }\n",
      "\u001b[0;31mTypeError\u001b[0m: unhashable type: 'list'"
     ]
    }
   ],
   "source": [
    "tennis_ranking = {\n",
    "    [1]: 'Ashleigh Barty',\n",
    "    [2]: 'Naomi Osaka',\n",
    "    [3]: 'Simona Halep'\n",
    "}"
   ]
  },
  {
   "cell_type": "markdown",
   "id": "91073367",
   "metadata": {},
   "source": [
    "- We can have int,floats or tuples as keys, but not lists\n",
    "- List is mutable, it can't become a key for a dictionary"
   ]
  },
  {
   "cell_type": "code",
   "execution_count": 1,
   "id": "47f983fb",
   "metadata": {},
   "outputs": [],
   "source": [
    "city_ranking = {\n",
    "    'Bangkok': [7, 4, 7, 5],\n",
    "    'Hanoi': [7, 6, 4, 5],\n",
    "    'Manila': [6, 6, 4, 4, 5]\n",
    "}"
   ]
  },
  {
   "cell_type": "code",
   "execution_count": 3,
   "id": "54571113",
   "metadata": {},
   "outputs": [
    {
     "name": "stdout",
     "output_type": "stream",
     "text": [
      "[7, 4, 7, 5]\n"
     ]
    }
   ],
   "source": [
    "print(city_ranking['Bangkok'])"
   ]
  }
 ],
 "metadata": {
  "kernelspec": {
   "display_name": ".venv",
   "language": "python",
   "name": "python3"
  },
  "language_info": {
   "codemirror_mode": {
    "name": "ipython",
    "version": 3
   },
   "file_extension": ".py",
   "mimetype": "text/x-python",
   "name": "python",
   "nbconvert_exporter": "python",
   "pygments_lexer": "ipython3",
   "version": "3.9.21"
  }
 },
 "nbformat": 4,
 "nbformat_minor": 5
}
