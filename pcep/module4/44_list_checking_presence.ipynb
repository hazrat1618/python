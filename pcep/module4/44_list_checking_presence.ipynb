{
 "cells": [
  {
   "cell_type": "code",
   "execution_count": 1,
   "id": "03d327be",
   "metadata": {},
   "outputs": [
    {
     "name": "stdout",
     "output_type": "stream",
     "text": [
      "h\n",
      "a\n",
      "p\n",
      "p\n",
      "y\n",
      " \n",
      "m\n",
      "e\n",
      "s\n",
      "s\n",
      "a\n",
      "g\n",
      "e\n"
     ]
    }
   ],
   "source": [
    "for char in 'happy message':\n",
    "    print(char)"
   ]
  },
  {
   "cell_type": "markdown",
   "id": "0b8169a7",
   "metadata": {},
   "source": [
    "in operator inside of for loop can be used to check whether a given element is present in a list."
   ]
  },
  {
   "cell_type": "code",
   "execution_count": 3,
   "id": "a5b675e0",
   "metadata": {},
   "outputs": [
    {
     "name": "stdout",
     "output_type": "stream",
     "text": [
      "Welcome!\n"
     ]
    }
   ],
   "source": [
    "invited_guests = ['Kate', 'Adam', 'Kerry', 'Joe', 'Anne', 'Marie']\n",
    "name = input('What is your name? ')\n",
    "if name in invited_guests:\n",
    "    print('Welcome!')\n",
    "else:\n",
    "    print('You are not invited!') "
   ]
  },
  {
   "cell_type": "code",
   "execution_count": 5,
   "id": "e3acd958",
   "metadata": {},
   "outputs": [
    {
     "name": "stdout",
     "output_type": "stream",
     "text": [
      "You are not invited!\n"
     ]
    }
   ],
   "source": [
    "invited_guests = ['Kate', 'Adam', 'Kerry', 'Joe', 'Anne', 'Marie']\n",
    "name = input('What is your name? ')\n",
    "if name not in invited_guests:\n",
    "    print('You are not invited!')\n",
    "else:\n",
    "    print('Welcome') "
   ]
  }
 ],
 "metadata": {
  "kernelspec": {
   "display_name": ".venv",
   "language": "python",
   "name": "python3"
  },
  "language_info": {
   "codemirror_mode": {
    "name": "ipython",
    "version": 3
   },
   "file_extension": ".py",
   "mimetype": "text/x-python",
   "name": "python",
   "nbconvert_exporter": "python",
   "pygments_lexer": "ipython3",
   "version": "3.9.21"
  }
 },
 "nbformat": 4,
 "nbformat_minor": 5
}
