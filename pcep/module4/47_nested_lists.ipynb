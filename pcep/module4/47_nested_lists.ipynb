{
 "cells": [
  {
   "cell_type": "markdown",
   "id": "0fed8ed7",
   "metadata": {},
   "source": [
    "List in general are collections of multiple elements. ex: list of integer values"
   ]
  },
  {
   "cell_type": "code",
   "execution_count": null,
   "id": "fbb72426",
   "metadata": {},
   "outputs": [],
   "source": [
    "numbers = [1, 2, 3, 4]"
   ]
  },
  {
   "cell_type": "code",
   "execution_count": null,
   "id": "3e7b1b82",
   "metadata": {},
   "outputs": [],
   "source": [
    "contries = ['UK', 'US', 'Germany']"
   ]
  },
  {
   "cell_type": "code",
   "execution_count": null,
   "id": "be7e5c34",
   "metadata": {},
   "outputs": [],
   "source": [
    "# Python allows to mix multiple data types within a single list, but it is not recommended\n",
    "# Better is if a list have the same data type\n",
    "countries = [1, 'UK', 2, 'US']"
   ]
  },
  {
   "cell_type": "code",
   "execution_count": 1,
   "id": "30c8f6bc",
   "metadata": {},
   "outputs": [],
   "source": [
    "# Lists can also have other lists as elements\n",
    "cells = [['A1', 'A2', 'A3'], ['B1', 'B2', 'B3']]"
   ]
  },
  {
   "cell_type": "code",
   "execution_count": 2,
   "id": "f7c9aa8a",
   "metadata": {},
   "outputs": [
    {
     "data": {
      "text/plain": [
       "['A1', 'A2', 'A3']"
      ]
     },
     "execution_count": 2,
     "metadata": {},
     "output_type": "execute_result"
    }
   ],
   "source": [
    "cells[0]"
   ]
  },
  {
   "cell_type": "code",
   "execution_count": 3,
   "id": "225df1d3",
   "metadata": {},
   "outputs": [
    {
     "data": {
      "text/plain": [
       "['B1', 'B2', 'B3']"
      ]
     },
     "execution_count": 3,
     "metadata": {},
     "output_type": "execute_result"
    }
   ],
   "source": [
    "cells[1]"
   ]
  },
  {
   "cell_type": "code",
   "execution_count": 4,
   "id": "fa929bba",
   "metadata": {},
   "outputs": [
    {
     "data": {
      "text/plain": [
       "'A1'"
      ]
     },
     "execution_count": 4,
     "metadata": {},
     "output_type": "execute_result"
    }
   ],
   "source": [
    "cells[0][0]"
   ]
  },
  {
   "cell_type": "code",
   "execution_count": 5,
   "id": "b58354f1",
   "metadata": {},
   "outputs": [
    {
     "data": {
      "text/plain": [
       "'B3'"
      ]
     },
     "execution_count": 5,
     "metadata": {},
     "output_type": "execute_result"
    }
   ],
   "source": [
    "cells[1][2]"
   ]
  },
  {
   "cell_type": "code",
   "execution_count": 6,
   "id": "e7547844",
   "metadata": {},
   "outputs": [
    {
     "name": "stdout",
     "output_type": "stream",
     "text": [
      "Element: ['A1', 'A2', 'A3']\n",
      "Element: ['B1', 'B2', 'B3']\n"
     ]
    }
   ],
   "source": [
    "cells = [['A1', 'A2', 'A3'], ['B1', 'B2', 'B3']]\n",
    "for x in cells:\n",
    "    print('Element:', x)"
   ]
  },
  {
   "cell_type": "code",
   "execution_count": null,
   "id": "92558703",
   "metadata": {},
   "outputs": [
    {
     "name": "stdout",
     "output_type": "stream",
     "text": [
      "Element: A1\n",
      "Element: A2\n",
      "Element: A3\n",
      "Element: B1\n",
      "Element: B2\n",
      "Element: B3\n"
     ]
    }
   ],
   "source": [
    "# Nested list (Multidimensional list)\n",
    "cells = [['A1', 'A2', 'A3'], ['B1', 'B2', 'B3']]\n",
    "for x in cells:\n",
    "    for y in x:\n",
    "        print('Element:', y)"
   ]
  },
  {
   "cell_type": "code",
   "execution_count": 8,
   "id": "664fa7b9",
   "metadata": {},
   "outputs": [
    {
     "name": "stdout",
     "output_type": "stream",
     "text": [
      "Element: A1\n",
      "Element: A2\n",
      "Element: A3\n",
      "Element: B1\n",
      "Element: B2\n",
      "Element: B3\n"
     ]
    }
   ],
   "source": [
    "table = [['A1', 'A2', 'A3'], ['B1', 'B2', 'B3']]\n",
    "for row in table:\n",
    "    for cell in row:\n",
    "        print('Element:', cell)"
   ]
  },
  {
   "cell_type": "code",
   "execution_count": 9,
   "id": "0784e568",
   "metadata": {},
   "outputs": [
    {
     "name": "stdout",
     "output_type": "stream",
     "text": [
      "A1 A2 A3 \n",
      "B1 B2 B3 \n"
     ]
    }
   ],
   "source": [
    "table = [['A1', 'A2', 'A3'], ['B1', 'B2', 'B3']]\n",
    "for row in table:\n",
    "    for cell in row:\n",
    "        print(cell, '', end='')\n",
    "    print()"
   ]
  },
  {
   "cell_type": "code",
   "execution_count": 12,
   "id": "6eb7e838",
   "metadata": {},
   "outputs": [
    {
     "name": "stdout",
     "output_type": "stream",
     "text": [
      "[[1, 2, 3, 4, 5], [1, 2, 3, 4, 5], [1, 2, 3, 4, 5], [1, 2, 3, 4, 5]]\n"
     ]
    }
   ],
   "source": [
    "# We want to create smth like this\n",
    "#1 2 3 4 5\n",
    "#1 2 3 4 5\n",
    "#1 2 3 4 5\n",
    "#1 2 3 4 5\n",
    "\n",
    "table = [[i for i in range(1, 6)] for j in range(4)]\n",
    "print(table)"
   ]
  }
 ],
 "metadata": {
  "kernelspec": {
   "display_name": ".venv",
   "language": "python",
   "name": "python3"
  },
  "language_info": {
   "codemirror_mode": {
    "name": "ipython",
    "version": 3
   },
   "file_extension": ".py",
   "mimetype": "text/x-python",
   "name": "python",
   "nbconvert_exporter": "python",
   "pygments_lexer": "ipython3",
   "version": "3.9.21"
  }
 },
 "nbformat": 4,
 "nbformat_minor": 5
}
