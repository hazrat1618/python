{
 "cells": [
  {
   "cell_type": "code",
   "execution_count": null,
   "id": "373bd973",
   "metadata": {},
   "outputs": [
    {
     "name": "stdout",
     "output_type": "stream",
     "text": [
      "5 connections lead to Rome with an average flight time of 161 minutes\n"
     ]
    }
   ],
   "source": [
    "# Solution ChatGpt\n",
    "connections = [\n",
    "    ('Amsterdam', 'Dublin', 100),\n",
    "    ('Amsterdam', 'Rome', 140),\n",
    "    ('Rome', 'Warsaw', 130),\n",
    "    ('Minsk', 'Prague', 95),\n",
    "    ('Stockholm', 'Rome', 190),\n",
    "    ('Copenhagen', 'Paris', 120),\n",
    "    ('Madrid', 'Rome', 135),\n",
    "    ('Lisbon', 'Rome', 170),\n",
    "    ('Dublin', 'Rome', 170),\n",
    "]\n",
    "\n",
    "connections_to_rome = 0\n",
    "total_flight_time = 0\n",
    "\n",
    "for route in connections:\n",
    "    if route[1] == 'Rome':  # route[1] is city_to\n",
    "        connections_to_rome += 1\n",
    "        total_flight_time += route[2]  # route[2] is time\n",
    "\n",
    "if connections_to_rome > 0:\n",
    "    average_time = total_flight_time / connections_to_rome\n",
    "    print(f\"{connections_to_rome} connections lead to Rome with an average flight time of {average_time:.0f} minutes\")\n",
    "else:\n",
    "    print(\"No connections lead to Rome.\")"
   ]
  },
  {
   "cell_type": "markdown",
   "id": "1c6fed85",
   "metadata": {},
   "source": []
  },
  {
   "cell_type": "code",
   "execution_count": 3,
   "id": "af18afe2",
   "metadata": {},
   "outputs": [
    {
     "name": "stdout",
     "output_type": "stream",
     "text": [
      "5 connections lead to Rome with an average flight time of 161.0 minutes\n"
     ]
    }
   ],
   "source": [
    "# Program solution\n",
    "\n",
    "connections = [\n",
    "    ('Amsterdam', 'Dublin', 100),\n",
    "    ('Amsterdam', 'Rome', 140),\n",
    "    ('Rome', 'Warsaw', 130),\n",
    "    ('Minsk', 'Prague', 95),\n",
    "    ('Stockholm', 'Rome', 190),\n",
    "    ('Copenhagen', 'Paris', 120),\n",
    "    ('Madrid', 'Rome', 135),\n",
    "    ('Lisbon', 'Rome', 170),\n",
    "    ('Dublin', 'Rome', 170)\n",
    "    ]\n",
    "\n",
    "counter = 0\n",
    "sum = 0.0\n",
    "\n",
    "for con in connections:\n",
    "    if con[1] == 'Rome':\n",
    "        counter += 1 \n",
    "        sum += con[2]\n",
    "\n",
    "print(counter, 'connections lead to Rome with an average flight time of', sum/counter, 'minutes')"
   ]
  }
 ],
 "metadata": {
  "kernelspec": {
   "display_name": ".venv",
   "language": "python",
   "name": "python3"
  },
  "language_info": {
   "codemirror_mode": {
    "name": "ipython",
    "version": 3
   },
   "file_extension": ".py",
   "mimetype": "text/x-python",
   "name": "python",
   "nbconvert_exporter": "python",
   "pygments_lexer": "ipython3",
   "version": "3.9.21"
  }
 },
 "nbformat": 4,
 "nbformat_minor": 5
}
