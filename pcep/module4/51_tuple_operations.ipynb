{
 "cells": [
  {
   "cell_type": "code",
   "execution_count": 2,
   "id": "cc1b683f",
   "metadata": {},
   "outputs": [
    {
     "name": "stdout",
     "output_type": "stream",
     "text": [
      "3\n"
     ]
    }
   ],
   "source": [
    "# We can use len function to count number of elements in tuple\n",
    "user_data = ('John', 'American', 1964)\n",
    "print(len(user_data))"
   ]
  },
  {
   "cell_type": "code",
   "execution_count": 5,
   "id": "ad89a0f7",
   "metadata": {},
   "outputs": [
    {
     "name": "stdout",
     "output_type": "stream",
     "text": [
      "This person comes from the US!\n"
     ]
    }
   ],
   "source": [
    "user_data = ('John', 'American', 1964)\n",
    "if 'American' in user_data:\n",
    "    print('This person comes from the US!')"
   ]
  },
  {
   "cell_type": "code",
   "execution_count": 7,
   "id": "89db7c00",
   "metadata": {},
   "outputs": [
    {
     "name": "stdout",
     "output_type": "stream",
     "text": [
      "John\n",
      "American\n",
      "1964\n"
     ]
    }
   ],
   "source": [
    "user_data = ('John', 'American', 1964)\n",
    "for element in user_data:\n",
    "    print(element)"
   ]
  },
  {
   "cell_type": "code",
   "execution_count": 9,
   "id": "db5a09a9",
   "metadata": {},
   "outputs": [
    {
     "name": "stdout",
     "output_type": "stream",
     "text": [
      "('John', 'American', 1964, 'teacher', 'male')\n"
     ]
    }
   ],
   "source": [
    "user_data = ('John', 'American', 1964) + ('teacher', 'male')\n",
    "print(user_data)"
   ]
  },
  {
   "cell_type": "markdown",
   "id": "842bbee5",
   "metadata": {},
   "source": [
    "    Note, in background in the user data variable, we get a new tuple. As we said before\n",
    "you can't change an existing tuple, so when we use the plus operator, we actually produce a new tuple with all the elements"
   ]
  },
  {
   "cell_type": "code",
   "execution_count": 1,
   "id": "625ed257",
   "metadata": {},
   "outputs": [
    {
     "name": "stdout",
     "output_type": "stream",
     "text": [
      "(0, 1, 0, 1, 0, 1, 0, 1, 0, 1, 0, 1, 0, 1, 0, 1, 0, 1, 0, 1)\n"
     ]
    }
   ],
   "source": [
    "numbers = (0, 1) * 10\n",
    "print(numbers)"
   ]
  },
  {
   "cell_type": "code",
   "execution_count": 11,
   "id": "f953aea0",
   "metadata": {},
   "outputs": [],
   "source": [
    "male_name = ['Adam', 'Jerry', 'Mark']"
   ]
  },
  {
   "cell_type": "code",
   "execution_count": 12,
   "id": "883d14ae",
   "metadata": {},
   "outputs": [],
   "source": [
    "berlin_temps = [13.0, 17.5, 12.0]"
   ]
  },
  {
   "cell_type": "markdown",
   "id": "ed71bde5",
   "metadata": {},
   "source": [
    "In above ex list is better to use, because all elements are floats and represent temperature\n",
    "\n",
    "Tuples are often used to group together values of different types"
   ]
  },
  {
   "cell_type": "code",
   "execution_count": 13,
   "id": "02b89a95",
   "metadata": {},
   "outputs": [],
   "source": [
    "user_data = ('John', 'American', 1964)"
   ]
  },
  {
   "cell_type": "code",
   "execution_count": 3,
   "id": "3ce65e1e",
   "metadata": {},
   "outputs": [
    {
     "name": "stdout",
     "output_type": "stream",
     "text": [
      "7 5\n"
     ]
    }
   ],
   "source": [
    "first = 5\n",
    "second = 7\n",
    "first, second = second, first\n",
    "print(first, second)"
   ]
  }
 ],
 "metadata": {
  "kernelspec": {
   "display_name": ".venv",
   "language": "python",
   "name": "python3"
  },
  "language_info": {
   "codemirror_mode": {
    "name": "ipython",
    "version": 3
   },
   "file_extension": ".py",
   "mimetype": "text/x-python",
   "name": "python",
   "nbconvert_exporter": "python",
   "pygments_lexer": "ipython3",
   "version": "3.9.16"
  }
 },
 "nbformat": 4,
 "nbformat_minor": 5
}
