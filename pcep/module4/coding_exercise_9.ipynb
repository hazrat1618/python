{
 "cells": [
  {
   "cell_type": "code",
   "execution_count": null,
   "id": "684c618d",
   "metadata": {},
   "outputs": [
    {
     "name": "stdout",
     "output_type": "stream",
     "text": [
      "Bye!\n"
     ]
    }
   ],
   "source": [
    "sample_dict = {\n",
    "    \"mouth\": \"Mund\",\n",
    "    \"finger\": \"Finger\",\n",
    "    \"leg\": \"Bein\",\n",
    "    \"hand\": \"Hand\",\n",
    "    \"face\": \"Gesicht\",\n",
    "    \"nose\": \"Nase\"\n",
    "}\n",
    "\n",
    "while True:\n",
    "    user_input = input('Enter a word in English or EXIT: ')\n",
    "\n",
    "    if user_input == 'EXIT':\n",
    "        print('Bye!')\n",
    "        break\n",
    "\n",
    "    if user_input in sample_dict:\n",
    "        print('Translation is:', sample_dict[user_input])\n",
    "    else:\n",
    "        print('No match')"
   ]
  }
 ],
 "metadata": {
  "kernelspec": {
   "display_name": ".venv",
   "language": "python",
   "name": "python3"
  },
  "language_info": {
   "codemirror_mode": {
    "name": "ipython",
    "version": 3
   },
   "file_extension": ".py",
   "mimetype": "text/x-python",
   "name": "python",
   "nbconvert_exporter": "python",
   "pygments_lexer": "ipython3",
   "version": "3.9.21"
  }
 },
 "nbformat": 4,
 "nbformat_minor": 5
}
