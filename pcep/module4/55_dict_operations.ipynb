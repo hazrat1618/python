{
 "cells": [
  {
   "cell_type": "markdown",
   "id": "738a9974",
   "metadata": {},
   "source": [
    "- Dicionaries are mutable, we can start with empty dictionary and add elements\n",
    "- Preference is always to use square brackets"
   ]
  },
  {
   "cell_type": "code",
   "execution_count": 2,
   "id": "c9fb7f17",
   "metadata": {},
   "outputs": [],
   "source": [
    "grades = {}"
   ]
  },
  {
   "cell_type": "code",
   "execution_count": 3,
   "id": "e141a9af",
   "metadata": {},
   "outputs": [],
   "source": [
    "grades['John'] = 'A-'"
   ]
  },
  {
   "cell_type": "code",
   "execution_count": 4,
   "id": "e1d1c9a6",
   "metadata": {},
   "outputs": [],
   "source": [
    "grades['Anne'] = 'B'"
   ]
  },
  {
   "cell_type": "code",
   "execution_count": 5,
   "id": "38ffbb0d",
   "metadata": {},
   "outputs": [
    {
     "name": "stdout",
     "output_type": "stream",
     "text": [
      "{'John': 'A-', 'Anne': 'B'}\n"
     ]
    }
   ],
   "source": [
    "print(grades)"
   ]
  },
  {
   "cell_type": "code",
   "execution_count": 6,
   "id": "b681ed3b",
   "metadata": {},
   "outputs": [],
   "source": [
    "grades.update({'John': 'A'})"
   ]
  },
  {
   "cell_type": "code",
   "execution_count": 7,
   "id": "26d8166f",
   "metadata": {},
   "outputs": [
    {
     "name": "stdout",
     "output_type": "stream",
     "text": [
      "{'John': 'A', 'Anne': 'B'}\n"
     ]
    }
   ],
   "source": [
    "print(grades)"
   ]
  },
  {
   "cell_type": "code",
   "execution_count": 12,
   "id": "eadcfbef",
   "metadata": {},
   "outputs": [
    {
     "data": {
      "text/plain": [
       "2"
      ]
     },
     "execution_count": 12,
     "metadata": {},
     "output_type": "execute_result"
    }
   ],
   "source": [
    "# To count key values in dictionaries we can use len()\n",
    "len(grades)"
   ]
  },
  {
   "cell_type": "code",
   "execution_count": 13,
   "id": "3a4da580",
   "metadata": {},
   "outputs": [
    {
     "name": "stdout",
     "output_type": "stream",
     "text": [
      "John got: A\n"
     ]
    }
   ],
   "source": [
    "# To check if a given key is present in dict, we can use in operator\n",
    "if 'John' in grades:\n",
    "    print('John got:', grades['John'])"
   ]
  },
  {
   "cell_type": "code",
   "execution_count": 14,
   "id": "fd2c066b",
   "metadata": {},
   "outputs": [
    {
     "name": "stdout",
     "output_type": "stream",
     "text": [
      "{'Anne': 'B'}\n"
     ]
    }
   ],
   "source": [
    "del grades['John']\n",
    "print(grades)"
   ]
  },
  {
   "cell_type": "markdown",
   "id": "9180aeba",
   "metadata": {},
   "source": [
    "- Dict have now become ordered collection by default\n",
    "-  With for loop we get access to key values in dict"
   ]
  },
  {
   "cell_type": "code",
   "execution_count": 16,
   "id": "2018b552",
   "metadata": {},
   "outputs": [],
   "source": [
    "grades = {}\n",
    "grades['John'] = 'A-'\n",
    "grades['Anne'] = 'B'"
   ]
  },
  {
   "cell_type": "code",
   "execution_count": 9,
   "id": "366bc351",
   "metadata": {},
   "outputs": [
    {
     "name": "stdout",
     "output_type": "stream",
     "text": [
      "John\n",
      "Anne\n"
     ]
    }
   ],
   "source": [
    "# To get the keys\n",
    "for el in grades:\n",
    "    print(el)"
   ]
  },
  {
   "cell_type": "code",
   "execution_count": null,
   "id": "9a655342",
   "metadata": {},
   "outputs": [
    {
     "name": "stdout",
     "output_type": "stream",
     "text": [
      "John\n",
      "Anne\n"
     ]
    }
   ],
   "source": [
    "# To get only keys\n",
    "for el in grades.keys():\n",
    "    print(el)"
   ]
  },
  {
   "cell_type": "code",
   "execution_count": 20,
   "id": "6528a0ae",
   "metadata": {},
   "outputs": [
    {
     "name": "stdout",
     "output_type": "stream",
     "text": [
      "A-\n",
      "B\n"
     ]
    }
   ],
   "source": [
    "# To get only values\n",
    "for el in grades.values():\n",
    "    print(el)"
   ]
  },
  {
   "cell_type": "code",
   "execution_count": null,
   "id": "28bfdeae",
   "metadata": {},
   "outputs": [
    {
     "name": "stdout",
     "output_type": "stream",
     "text": [
      "John got A-\n",
      "Anne got B\n"
     ]
    }
   ],
   "source": [
    "# To get access to both keys and values, named items()\n",
    "for person, grade in grades.items():\n",
    "    print(person, 'got', grade)"
   ]
  }
 ],
 "metadata": {
  "kernelspec": {
   "display_name": ".venv",
   "language": "python",
   "name": "python3"
  },
  "language_info": {
   "codemirror_mode": {
    "name": "ipython",
    "version": 3
   },
   "file_extension": ".py",
   "mimetype": "text/x-python",
   "name": "python",
   "nbconvert_exporter": "python",
   "pygments_lexer": "ipython3",
   "version": "3.9.21"
  }
 },
 "nbformat": 4,
 "nbformat_minor": 5
}
