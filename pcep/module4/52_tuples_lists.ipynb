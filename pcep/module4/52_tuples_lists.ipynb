{
 "cells": [
  {
   "cell_type": "code",
   "execution_count": 1,
   "id": "40c7e7a9",
   "metadata": {},
   "outputs": [],
   "source": [
    "city_1 = ('London', 'UK', 8.98)"
   ]
  },
  {
   "cell_type": "code",
   "execution_count": 2,
   "id": "8883fd63",
   "metadata": {},
   "outputs": [],
   "source": [
    "city_2 = ('Canberra', 'Australia', 0.4)"
   ]
  },
  {
   "cell_type": "code",
   "execution_count": 3,
   "id": "45ab4a71",
   "metadata": {},
   "outputs": [],
   "source": [
    "city_3 = ('Algiers', 'Algeria', 3.9)"
   ]
  },
  {
   "cell_type": "code",
   "execution_count": 4,
   "id": "ea11e8ab",
   "metadata": {},
   "outputs": [],
   "source": [
    "capitals = [('London', 'UK', 8.98), ('Canberra', 'Australia', 0.4), ('Algiers', 'Algeria', 3.9)]"
   ]
  },
  {
   "cell_type": "code",
   "execution_count": 5,
   "id": "f83cb517",
   "metadata": {},
   "outputs": [
    {
     "name": "stdout",
     "output_type": "stream",
     "text": [
      "Name: London , Country: UK , Population: 8.98\n",
      "Name: Canberra , Country: Australia , Population: 0.4\n",
      "Name: Algiers , Country: Algeria , Population: 3.9\n"
     ]
    }
   ],
   "source": [
    "for capital in capitals:\n",
    "    print('Name:', capital[0], ', Country:', capital[1], ', Population:', capital[2])"
   ]
  },
  {
   "cell_type": "code",
   "execution_count": null,
   "id": "02c5cf4a",
   "metadata": {},
   "outputs": [],
   "source": [
    "# List inside of a tuple. Info about him and history of weight changes\n",
    "user_data = ('John', 'American', 1964, [77.0, 78.2, 77,5])"
   ]
  },
  {
   "cell_type": "code",
   "execution_count": 7,
   "id": "288fbeba",
   "metadata": {},
   "outputs": [],
   "source": [
    "# Tuple itself is immutable, but if it contains an elelemnt which is mutable, you can modify it\n",
    "user_data[3].append(79.6)"
   ]
  },
  {
   "cell_type": "code",
   "execution_count": 8,
   "id": "f9cfd240",
   "metadata": {},
   "outputs": [
    {
     "name": "stdout",
     "output_type": "stream",
     "text": [
      "('John', 'American', 1964, [77.0, 78.2, 77, 5, 79.6])\n"
     ]
    }
   ],
   "source": [
    "print(user_data)"
   ]
  }
 ],
 "metadata": {
  "kernelspec": {
   "display_name": ".venv",
   "language": "python",
   "name": "python3"
  },
  "language_info": {
   "codemirror_mode": {
    "name": "ipython",
    "version": 3
   },
   "file_extension": ".py",
   "mimetype": "text/x-python",
   "name": "python",
   "nbconvert_exporter": "python",
   "pygments_lexer": "ipython3",
   "version": "3.9.16"
  }
 },
 "nbformat": 4,
 "nbformat_minor": 5
}
