{
 "cells": [
  {
   "cell_type": "code",
   "execution_count": 3,
   "id": "27f5e18a",
   "metadata": {},
   "outputs": [
    {
     "name": "stdout",
     "output_type": "stream",
     "text": [
      "Daenerys Targaryen Jon Snow\n"
     ]
    }
   ],
   "source": [
    "name_original = 'Jon Snow'\n",
    "name_new = name_original\n",
    "name_original = 'Daenerys Targaryen'\n",
    "print(name_original, name_new)"
   ]
  },
  {
   "cell_type": "code",
   "execution_count": 5,
   "id": "fc7242ac",
   "metadata": {},
   "outputs": [
    {
     "name": "stdout",
     "output_type": "stream",
     "text": [
      "Original:  [-5, 2, 3] \n",
      "New: [-5, 2, 3]\n"
     ]
    }
   ],
   "source": [
    "list_original = [1, 2, 3]\n",
    "list_new = list_original\n",
    "list_original[0] = -5\n",
    "print('Original: ', list_original, '\\nNew:', list_new)"
   ]
  },
  {
   "cell_type": "code",
   "execution_count": 6,
   "id": "81a657b2",
   "metadata": {},
   "outputs": [
    {
     "name": "stdout",
     "output_type": "stream",
     "text": [
      "Original:  [-5, 2, 3] \n",
      "New: [1, 2, 3]\n"
     ]
    }
   ],
   "source": [
    "list_original = [1, 2, 3]\n",
    "list_new = list_original[:]\n",
    "list_original[0] = -5\n",
    "print('Original: ', list_original, '\\nNew:', list_new)"
   ]
  },
  {
   "cell_type": "code",
   "execution_count": 7,
   "id": "4e121f13",
   "metadata": {},
   "outputs": [
    {
     "name": "stdout",
     "output_type": "stream",
     "text": [
      "Original:  [-5, 2, 3] \n",
      "New: [1, 2]\n"
     ]
    }
   ],
   "source": [
    "# If we want to copy first two of original list\n",
    "list_original = [1, 2, 3]\n",
    "list_new = list_original[:2]\n",
    "list_original[0] = -5\n",
    "print('Original: ', list_original, '\\nNew:', list_new)"
   ]
  },
  {
   "cell_type": "code",
   "execution_count": null,
   "id": "bc98d904",
   "metadata": {},
   "outputs": [],
   "source": [
    "# Copy a list and they depend on each other. If to change one, another changes too\n",
    "list_original = [1, 2, 3]\n",
    "list_new = list_original"
   ]
  },
  {
   "cell_type": "code",
   "execution_count": null,
   "id": "87a09bb1",
   "metadata": {},
   "outputs": [
    {
     "name": "stdout",
     "output_type": "stream",
     "text": [
      "[1, 2, 3]\n"
     ]
    }
   ],
   "source": [
    "# To copy a list and have two different lists in two different variables\n",
    "list_original = [1, 2, 3]\n",
    "list_new = list_original[:]\n",
    "print(list_new)"
   ]
  }
 ],
 "metadata": {
  "kernelspec": {
   "display_name": ".venv",
   "language": "python",
   "name": "python3"
  },
  "language_info": {
   "codemirror_mode": {
    "name": "ipython",
    "version": 3
   },
   "file_extension": ".py",
   "mimetype": "text/x-python",
   "name": "python",
   "nbconvert_exporter": "python",
   "pygments_lexer": "ipython3",
   "version": "3.9.21"
  }
 },
 "nbformat": 4,
 "nbformat_minor": 5
}
