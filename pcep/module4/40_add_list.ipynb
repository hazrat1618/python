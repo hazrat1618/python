{
 "cells": [
  {
   "cell_type": "markdown",
   "id": "d697f857",
   "metadata": {},
   "source": [
    "We will learn how to add elements to existing list\n",
    "\n",
    "Method is: name_of_variable.append()\n",
    "\n",
    "Remember: Methodsa are functions that \"belong\" to specific data."
   ]
  },
  {
   "cell_type": "code",
   "execution_count": 1,
   "id": "a56d7895",
   "metadata": {},
   "outputs": [
    {
     "name": "stdout",
     "output_type": "stream",
     "text": [
      "[7, 9, 5, 6, 8, 4]\n"
     ]
    }
   ],
   "source": [
    "book_rating = [7, 9, 5, 6, 8]\n",
    "book_rating.append(4)\n",
    "print(book_rating)"
   ]
  },
  {
   "cell_type": "code",
   "execution_count": 2,
   "id": "bd510cac",
   "metadata": {},
   "outputs": [
    {
     "ename": "NameError",
     "evalue": "name 'append' is not defined",
     "output_type": "error",
     "traceback": [
      "\u001b[0;31m---------------------------------------------------------------------------\u001b[0m",
      "\u001b[0;31mNameError\u001b[0m                                 Traceback (most recent call last)",
      "Cell \u001b[0;32mIn[2], line 1\u001b[0m\n\u001b[0;32m----> 1\u001b[0m \u001b[43mappend\u001b[49m(\u001b[38;5;241m4\u001b[39m)\n",
      "\u001b[0;31mNameError\u001b[0m: name 'append' is not defined"
     ]
    }
   ],
   "source": [
    "append(4)"
   ]
  },
  {
   "cell_type": "markdown",
   "id": "5bb9f97e",
   "metadata": {},
   "source": [
    "Another method to add element to other places of list\n",
    "\n",
    "variable_name.insert(1, 10)"
   ]
  },
  {
   "cell_type": "code",
   "execution_count": 3,
   "id": "e81b9f50",
   "metadata": {},
   "outputs": [
    {
     "name": "stdout",
     "output_type": "stream",
     "text": [
      "[7, 10, 9, 5, 6, 8]\n"
     ]
    }
   ],
   "source": [
    "book_rating = [7, 9, 5, 6, 8]\n",
    "book_rating.insert(1, 10)\n",
    "print(book_rating)"
   ]
  }
 ],
 "metadata": {
  "kernelspec": {
   "display_name": ".venv",
   "language": "python",
   "name": "python3"
  },
  "language_info": {
   "codemirror_mode": {
    "name": "ipython",
    "version": 3
   },
   "file_extension": ".py",
   "mimetype": "text/x-python",
   "name": "python",
   "nbconvert_exporter": "python",
   "pygments_lexer": "ipython3",
   "version": "3.9.16"
  }
 },
 "nbformat": 4,
 "nbformat_minor": 5
}
