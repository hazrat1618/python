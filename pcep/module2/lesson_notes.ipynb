{
 "cells": [
  {
   "cell_type": "markdown",
   "id": "a550d796",
   "metadata": {},
   "source": [
    "7. Your first Python Program\n",
    "\n",
    "A text  value inside of quotes is called a string.\n",
    "\n",
    "When we use a function, we:\n",
    "\n",
    "- call a function, or\n",
    "- invoke a function\n",
    "\n",
    "---\n",
    "\n",
    "8. More about print()\n",
    "\n",
    "Tip:\n",
    "\n",
    "- \\n inside of strings is translated into a new line\n",
    "\n",
    "---\n",
    "\n",
    "11. Variables\n",
    "- Variable names must start with a letter or the underscore ( _ )  sign. No number\n",
    "- \n",
    "- Uppercase and lowercase act different.\n",
    "- greeting and Greeting ≠ same\n",
    "- Cant be used as variables\n",
    "\n",
    "from and global\n",
    "\n",
    "---\n",
    "\n",
    "21. A bit of technical theory\n",
    "- computer program = a collection of insructions executed by a computer\n",
    "- instruction list = the set of instructions the given computer can execute; written in the form of *machine code*\n",
    "- We use high level programming language to create source code\n",
    "\n",
    "Source Code → Machine Code\n",
    "\n",
    "Translation from source code to machine code can be done in two ways: compilation and interpretation\n",
    "\n",
    "| **Compilation** | **Interpretation** |\n",
    "| --- | --- |\n",
    "| compile source code only once | interpret source code every time you run programs |\n",
    "| anyone can run the executable file | everyone needs the interpreter to run |\n",
    "\n",
    "Python interpreter behaviour\n",
    "\n",
    "- typically reads code from top to bottom\n",
    "- throws errors based on checking:\n",
    "    1. lexis \n",
    "    2. syntax\n",
    "    3. semantics"
   ]
  }
 ],
 "metadata": {
  "language_info": {
   "name": "python"
  }
 },
 "nbformat": 4,
 "nbformat_minor": 5
}
