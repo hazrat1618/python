{
 "cells": [
  {
   "cell_type": "markdown",
   "id": "3e9de7b0",
   "metadata": {},
   "source": [
    "0 or 1 is single bit\n",
    "8 bits = 1 byte\n",
    "1kb = 1000 bytes = 8000 bits\n",
    "1mb = 1,000,000 bytes\n",
    "bit operation in python are possible but almost never used"
   ]
  },
  {
   "cell_type": "markdown",
   "id": "06193d3d",
   "metadata": {},
   "source": [
    "In python there are 6 bit operators:\n",
    "& -> and\n",
    "| -> logival OR\n",
    "~ -> logical NOT, ~x= -x - 1\n",
    "^ -> logical XOR\n",
    "<< (Left Shift Operator)\n",
    "\t•\tMultiplies the number by 2 to the power of the shift count.\n",
    ">> (Right Shift Operator)\n",
    "\t•\tDivides the number by 2 to the power of the shift count (integer division)."
   ]
  },
  {
   "cell_type": "code",
   "execution_count": null,
   "id": "957fbc35",
   "metadata": {},
   "outputs": [],
   "source": [
    "#Left shift example\n",
    "4 << 1  #Result: 8 (4 × 2¹)\n",
    "3 << 2  # Result: 12 (3 × 2²)"
   ]
  },
  {
   "cell_type": "code",
   "execution_count": null,
   "id": "9f084681",
   "metadata": {},
   "outputs": [],
   "source": [
    "#Right shift example\n",
    "8 >> 1  # Result: 4 (8 ÷ 2¹)\n",
    "9 >> 2  # Result: 2 (integer division: 9 ÷ 2² = 9 ÷ 4 = 2)"
   ]
  },
  {
   "cell_type": "code",
   "execution_count": null,
   "id": "bfde92f8",
   "metadata": {},
   "outputs": [],
   "source": []
  },
  {
   "cell_type": "code",
   "execution_count": 2,
   "id": "4453ee93",
   "metadata": {},
   "outputs": [
    {
     "name": "stdout",
     "output_type": "stream",
     "text": [
      "1\n"
     ]
    }
   ],
   "source": [
    "first_bit = 1\n",
    "second_bit = 1\n",
    "\n",
    "print(first_bit & second_bit)"
   ]
  },
  {
   "cell_type": "code",
   "execution_count": 3,
   "id": "02ddcde4",
   "metadata": {},
   "outputs": [
    {
     "name": "stdout",
     "output_type": "stream",
     "text": [
      "0\n"
     ]
    }
   ],
   "source": [
    "first_bit = 0\n",
    "second_bit = 0\n",
    "\n",
    "print(first_bit | second_bit)"
   ]
  },
  {
   "cell_type": "code",
   "execution_count": 4,
   "id": "33590f93",
   "metadata": {},
   "outputs": [
    {
     "name": "stdout",
     "output_type": "stream",
     "text": [
      "0\n"
     ]
    }
   ],
   "source": [
    "first_bit = 0\n",
    "second_bit = 0\n",
    "\n",
    "print(first_bit ^ second_bit)"
   ]
  },
  {
   "cell_type": "code",
   "execution_count": 5,
   "id": "24686319",
   "metadata": {},
   "outputs": [
    {
     "name": "stdout",
     "output_type": "stream",
     "text": [
      "-1\n"
     ]
    }
   ],
   "source": [
    "print(~0)"
   ]
  },
  {
   "cell_type": "code",
   "execution_count": 6,
   "id": "837b1285",
   "metadata": {},
   "outputs": [
    {
     "data": {
      "text/plain": [
       "24"
      ]
     },
     "execution_count": 6,
     "metadata": {},
     "output_type": "execute_result"
    }
   ],
   "source": [
    "12 << 1"
   ]
  },
  {
   "cell_type": "code",
   "execution_count": 7,
   "id": "41aec8e8",
   "metadata": {},
   "outputs": [
    {
     "data": {
      "text/plain": [
       "48"
      ]
     },
     "execution_count": 7,
     "metadata": {},
     "output_type": "execute_result"
    }
   ],
   "source": [
    "12 << 2"
   ]
  },
  {
   "cell_type": "code",
   "execution_count": 8,
   "id": "bb82077d",
   "metadata": {},
   "outputs": [
    {
     "data": {
      "text/plain": [
       "96"
      ]
     },
     "execution_count": 8,
     "metadata": {},
     "output_type": "execute_result"
    }
   ],
   "source": [
    "12 << 3"
   ]
  }
 ],
 "metadata": {
  "kernelspec": {
   "display_name": ".venv",
   "language": "python",
   "name": "python3"
  },
  "language_info": {
   "codemirror_mode": {
    "name": "ipython",
    "version": 3
   },
   "file_extension": ".py",
   "mimetype": "text/x-python",
   "name": "python",
   "nbconvert_exporter": "python",
   "pygments_lexer": "ipython3",
   "version": "3.9.21"
  }
 },
 "nbformat": 4,
 "nbformat_minor": 5
}
