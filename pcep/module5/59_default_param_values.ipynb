{
 "cells": [
  {
   "cell_type": "code",
   "execution_count": 2,
   "id": "d0e2c185",
   "metadata": {},
   "outputs": [
    {
     "name": "stdout",
     "output_type": "stream",
     "text": [
      "Hello-How are you?."
     ]
    }
   ],
   "source": [
    "print('Hello', 'How are you?', end='.', sep='-')"
   ]
  },
  {
   "cell_type": "code",
   "execution_count": 9,
   "id": "321e3681",
   "metadata": {},
   "outputs": [],
   "source": [
    "def print_letter_count(text='', letter='a'):\n",
    "    counter = 0\n",
    "    for char in text:\n",
    "        if char == letter:\n",
    "            counter += 1\n",
    "    print('Number of ', letter, 'is', counter)"
   ]
  },
  {
   "cell_type": "code",
   "execution_count": 10,
   "id": "efaa9460",
   "metadata": {},
   "outputs": [
    {
     "name": "stdout",
     "output_type": "stream",
     "text": [
      "Number of  a is 3\n"
     ]
    }
   ],
   "source": [
    "print_letter_count('How many letters a are here?')"
   ]
  },
  {
   "cell_type": "code",
   "execution_count": 11,
   "id": "785244ee",
   "metadata": {},
   "outputs": [],
   "source": [
    "def print_letter_count(text='This is the default string to search', letter='a'):\n",
    "    counter = 0\n",
    "    for char in text:\n",
    "        if char == letter:\n",
    "            counter += 1\n",
    "    print('Number of ', letter, 'is', counter)"
   ]
  },
  {
   "cell_type": "code",
   "execution_count": null,
   "id": "e9acd96f",
   "metadata": {},
   "outputs": [
    {
     "name": "stdout",
     "output_type": "stream",
     "text": [
      "Number of  a is 2\n"
     ]
    }
   ],
   "source": [
    "# We did empty pair of bracket, because value is defined to parameter\n",
    "print_letter_count()"
   ]
  },
  {
   "cell_type": "markdown",
   "id": "25ea391c",
   "metadata": {},
   "source": [
    "    Remember: all positional arguments must appear before named arguments"
   ]
  },
  {
   "cell_type": "code",
   "execution_count": 13,
   "id": "588ac330",
   "metadata": {},
   "outputs": [
    {
     "ename": "SyntaxError",
     "evalue": "positional argument follows keyword argument (2220802668.py, line 1)",
     "output_type": "error",
     "traceback": [
      "\u001b[0;36m  Cell \u001b[0;32mIn[13], line 1\u001b[0;36m\u001b[0m\n\u001b[0;31m    print_letter_count(letter='a', 'Search here')\u001b[0m\n\u001b[0m                                                ^\u001b[0m\n\u001b[0;31mSyntaxError\u001b[0m\u001b[0;31m:\u001b[0m positional argument follows keyword argument\n"
     ]
    }
   ],
   "source": [
    "print_letter_count(letter='a', 'Search here')"
   ]
  },
  {
   "cell_type": "code",
   "execution_count": 14,
   "id": "d31dbc66",
   "metadata": {},
   "outputs": [
    {
     "name": "stdout",
     "output_type": "stream",
     "text": [
      "Number of  a is 1\n"
     ]
    }
   ],
   "source": [
    "print_letter_count('Search here', letter='a')"
   ]
  }
 ],
 "metadata": {
  "kernelspec": {
   "display_name": ".venv",
   "language": "python",
   "name": "python3"
  },
  "language_info": {
   "codemirror_mode": {
    "name": "ipython",
    "version": 3
   },
   "file_extension": ".py",
   "mimetype": "text/x-python",
   "name": "python",
   "nbconvert_exporter": "python",
   "pygments_lexer": "ipython3",
   "version": "3.9.21"
  }
 },
 "nbformat": 4,
 "nbformat_minor": 5
}
