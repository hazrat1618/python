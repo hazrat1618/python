{
 "cells": [
  {
   "cell_type": "code",
   "execution_count": 1,
   "id": "c7505372",
   "metadata": {},
   "outputs": [
    {
     "ename": "IndentationError",
     "evalue": "expected an indented block (2872381456.py, line 2)",
     "output_type": "error",
     "traceback": [
      "\u001b[0;36m  Cell \u001b[0;32mIn[1], line 2\u001b[0;36m\u001b[0m\n\u001b[0;31m    print('hooray!')\u001b[0m\n\u001b[0m    ^\u001b[0m\n\u001b[0;31mIndentationError\u001b[0m\u001b[0;31m:\u001b[0m expected an indented block\n"
     ]
    }
   ],
   "source": [
    "if True:\n",
    "print('hooray!')"
   ]
  },
  {
   "cell_type": "markdown",
   "id": "01473186",
   "metadata": {},
   "source": [
    "We get SyntaxError when we have mistake in code\n",
    "- IndentationError -> is a type of SyntaxError"
   ]
  },
  {
   "cell_type": "code",
   "execution_count": 3,
   "id": "a7fafec6",
   "metadata": {},
   "outputs": [
    {
     "name": "stdout",
     "output_type": "stream",
     "text": [
      "The inverse of 1 is 1.0\n"
     ]
    }
   ],
   "source": [
    "value = int(input('Enter an integer: '))\n",
    "print('The inverse of', value, 'is', 1/value)"
   ]
  },
  {
   "cell_type": "markdown",
   "id": "c008dada",
   "metadata": {},
   "source": [
    "- ValueError is when we type wrong input.\n",
    "- Both SyntaxError and ValueError are exceptions\n",
    "- An exception is an event which occurs during the execution of a program that disrupts the normal flow of the program instructions."
   ]
  },
  {
   "cell_type": "code",
   "execution_count": 6,
   "id": "f097c401",
   "metadata": {},
   "outputs": [
    {
     "name": "stdout",
     "output_type": "stream",
     "text": [
      "You did not provide a number, so I will not calculate the inverse\n"
     ]
    }
   ],
   "source": [
    "try:        # code that could raise exception\n",
    "    value = int(input('Enter an integer: '))\n",
    "    print('The inverse of', value, 'is', 1/value)\n",
    "except:     # code that handles the exception\n",
    "    print('You did not provide a number, so I will not calculate the inverse')"
   ]
  },
  {
   "cell_type": "code",
   "execution_count": 7,
   "id": "4842c185",
   "metadata": {},
   "outputs": [
    {
     "ename": "ZeroDivisionError",
     "evalue": "division by zero",
     "output_type": "error",
     "traceback": [
      "\u001b[0;31m---------------------------------------------------------------------------\u001b[0m",
      "\u001b[0;31mZeroDivisionError\u001b[0m                         Traceback (most recent call last)",
      "Cell \u001b[0;32mIn[7], line 2\u001b[0m\n\u001b[1;32m      1\u001b[0m value \u001b[38;5;241m=\u001b[39m \u001b[38;5;28mint\u001b[39m(\u001b[38;5;28minput\u001b[39m(\u001b[38;5;124m'\u001b[39m\u001b[38;5;124mEnter an integer: \u001b[39m\u001b[38;5;124m'\u001b[39m))\n\u001b[0;32m----> 2\u001b[0m \u001b[38;5;28mprint\u001b[39m(\u001b[38;5;124m'\u001b[39m\u001b[38;5;124mThe inverse of\u001b[39m\u001b[38;5;124m'\u001b[39m, value, \u001b[38;5;124m'\u001b[39m\u001b[38;5;124mis\u001b[39m\u001b[38;5;124m'\u001b[39m, \u001b[38;5;241;43m1\u001b[39;49m\u001b[38;5;241;43m/\u001b[39;49m\u001b[43mvalue\u001b[49m)\n",
      "\u001b[0;31mZeroDivisionError\u001b[0m: division by zero"
     ]
    }
   ],
   "source": [
    "value = int(input('Enter an integer: '))\n",
    "print('The inverse of', value, 'is', 1/value)"
   ]
  },
  {
   "cell_type": "markdown",
   "id": "4af9d546",
   "metadata": {},
   "source": [
    "We get ZeroDivisionError, cause 1/0 is not permissable.\n",
    "- So need to mention this error in exceptions"
   ]
  },
  {
   "cell_type": "code",
   "execution_count": 11,
   "id": "6e66a6ec",
   "metadata": {},
   "outputs": [
    {
     "name": "stdout",
     "output_type": "stream",
     "text": [
      "You provided 0 and division by 0 is not possible\n"
     ]
    }
   ],
   "source": [
    "try:\n",
    "    value = int(input('Enter an integer: '))\n",
    "    print('The inverse of', value, 'is', 1/value)\n",
    "except ValueError:\n",
    "    print('You did not provide a number, I won\\'t calculate inverse')\n",
    "except ZeroDivisionError:\n",
    "    print('You provided 0 and division by 0 is not possible')"
   ]
  },
  {
   "cell_type": "markdown",
   "id": "a3c9b116",
   "metadata": {},
   "source": [
    "    We can add general exception with no exceptioin name to avoid any other errors. ex below\n"
   ]
  },
  {
   "cell_type": "code",
   "execution_count": null,
   "id": "5c423c38",
   "metadata": {},
   "outputs": [],
   "source": [
    "try:\n",
    "    value = int(input('Enter an integer: '))\n",
    "    print('The inverse of', value, 'is', 1/value)\n",
    "except ValueError:\n",
    "    print('You did not provide a number, I won\\'t calculate inverse')\n",
    "except ZeroDivisionError:\n",
    "    print('You provided 0 and division by 0 is not possible')\n",
    "except:\n",
    "    print('Something strange happened here, sorry')"
   ]
  },
  {
   "cell_type": "markdown",
   "id": "ad5b69ea",
   "metadata": {},
   "source": [
    "explanation:\n",
    "- If we get ValueError, first block will raise, \n",
    "- if ZeroDivisionError, second block will raise, \n",
    "- if any other errors third block will raise\n",
    "\n"
   ]
  },
  {
   "cell_type": "markdown",
   "id": "b59f9af5",
   "metadata": {},
   "source": [
    "- Below ex, we can catch SyntaxError at runtime, not parse time"
   ]
  },
  {
   "cell_type": "code",
   "execution_count": 2,
   "id": "99489e2d",
   "metadata": {},
   "outputs": [
    {
     "name": "stdout",
     "output_type": "stream",
     "text": [
      "Got it!\n"
     ]
    }
   ],
   "source": [
    "try:\n",
    "  raise SyntaxError # We trigger syntax error\n",
    "except:\n",
    "  print('Got it!') # SyntaxError is caught and shown here"
   ]
  },
  {
   "cell_type": "code",
   "execution_count": 1,
   "id": "7266d7e4",
   "metadata": {},
   "outputs": [
    {
     "ename": "SyntaxError",
     "evalue": "illegal target for annotation (1285277903.py, line 2)",
     "output_type": "error",
     "traceback": [
      "\u001b[0;36m  Cell \u001b[0;32mIn[1], line 2\u001b[0;36m\u001b[0m\n\u001b[0;31m    5:4 # this line generates a SyntaxError\u001b[0m\n\u001b[0m    ^\u001b[0m\n\u001b[0;31mSyntaxError\u001b[0m\u001b[0;31m:\u001b[0m illegal target for annotation\n"
     ]
    }
   ],
   "source": [
    "try:\n",
    "  5:4 # this line generates a SyntaxError\n",
    "except:\n",
    "  print('Got it!') # SyntaxError is NOT caught here"
   ]
  }
 ],
 "metadata": {
  "kernelspec": {
   "display_name": ".venv",
   "language": "python",
   "name": "python3"
  },
  "language_info": {
   "codemirror_mode": {
    "name": "ipython",
    "version": 3
   },
   "file_extension": ".py",
   "mimetype": "text/x-python",
   "name": "python",
   "nbconvert_exporter": "python",
   "pygments_lexer": "ipython3",
   "version": "3.9.21"
  }
 },
 "nbformat": 4,
 "nbformat_minor": 5
}
