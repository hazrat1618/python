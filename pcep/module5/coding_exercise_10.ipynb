{
 "cells": [
  {
   "cell_type": "code",
   "execution_count": null,
   "id": "dc81b050",
   "metadata": {},
   "outputs": [],
   "source": [
    "# Exercise answer\n",
    "def unique(input_list=[]):\n",
    "    to_return = []\n",
    "    for el in input_list:\n",
    "        if el in input_list:\n",
    "            if el not in to_return:\n",
    "                to_return.append(el)\n",
    "    return to_return"
   ]
  },
  {
   "cell_type": "code",
   "execution_count": 2,
   "id": "8e904338",
   "metadata": {},
   "outputs": [],
   "source": [
    "# Chgp answer\n",
    "\n",
    "def unique(items=[]):  # Define the function with a default parameter (empty list)\n",
    "    result = []        # Initialize an empty list to store unique items\n",
    "    for item in items:  # Loop through each item in the input list\n",
    "        if item not in result:  # Check if the item is not already in the result list\n",
    "            result.append(item)  # If it's new, add it to the result list\n",
    "    return result  # Return the list of unique items, preserving the original order"
   ]
  },
  {
   "cell_type": "code",
   "execution_count": 3,
   "id": "65d5a483",
   "metadata": {},
   "outputs": [
    {
     "name": "stdout",
     "output_type": "stream",
     "text": [
      "[1, 4, 5, 3]\n"
     ]
    }
   ],
   "source": [
    "print(unique([1, 1, 4, 5, 5, 5, 3, 3]))"
   ]
  },
  {
   "cell_type": "markdown",
   "id": "20bf8ab4",
   "metadata": {},
   "source": [
    "- Sends data back -> So the caller can use it\n",
    "- Marks end of function -> Everything after is skipped\n",
    "- Required for results -> Without it, result is lost\n"
   ]
  }
 ],
 "metadata": {
  "kernelspec": {
   "display_name": ".venv",
   "language": "python",
   "name": "python3"
  },
  "language_info": {
   "codemirror_mode": {
    "name": "ipython",
    "version": 3
   },
   "file_extension": ".py",
   "mimetype": "text/x-python",
   "name": "python",
   "nbconvert_exporter": "python",
   "pygments_lexer": "ipython3",
   "version": "3.9.16"
  }
 },
 "nbformat": 4,
 "nbformat_minor": 5
}
