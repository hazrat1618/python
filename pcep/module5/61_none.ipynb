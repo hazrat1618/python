{
 "cells": [
  {
   "cell_type": "markdown",
   "id": "456513b9",
   "metadata": {},
   "source": [
    "Functions can typically:\n",
    "- Cause some effect\n",
    "- Return a meaningful value"
   ]
  },
  {
   "cell_type": "code",
   "execution_count": 3,
   "id": "5eb7c7d3",
   "metadata": {},
   "outputs": [
    {
     "name": "stdout",
     "output_type": "stream",
     "text": [
      "Hello world\n",
      "None\n"
     ]
    }
   ],
   "source": [
    "print_return = print('Hello world')\n",
    "print(print_return)"
   ]
  },
  {
   "cell_type": "markdown",
   "id": "eebcd9d6",
   "metadata": {},
   "source": [
    "    None is used to describe a null value or no value at all.\n",
    "    It is special value, it is not 0, not False, not same as empty str.\n",
    "    None is none"
   ]
  },
  {
   "cell_type": "code",
   "execution_count": null,
   "id": "8c01a27d",
   "metadata": {},
   "outputs": [
    {
     "name": "stdout",
     "output_type": "stream",
     "text": [
      "None is not True, or False, None is just None\n"
     ]
    }
   ],
   "source": [
    "x = None\n",
    "\n",
    "if x:                           # Means if x is equal to True\n",
    "    print(\"None is True\")\n",
    "elif x is False:\n",
    "    print(\"None is False\")\n",
    "else:\n",
    "    print(\"None is not True, or False, None is just None\")\n"
   ]
  },
  {
   "cell_type": "code",
   "execution_count": 5,
   "id": "fdbd9bb6",
   "metadata": {},
   "outputs": [
    {
     "name": "stdout",
     "output_type": "stream",
     "text": [
      "yes\n",
      "it does\n"
     ]
    }
   ],
   "source": [
    "x = None\n",
    "if x is None:\n",
    "    print('yes')\n",
    "if x == None:\n",
    "    print('it does')"
   ]
  },
  {
   "cell_type": "code",
   "execution_count": 8,
   "id": "ad338b37",
   "metadata": {},
   "outputs": [
    {
     "name": "stdout",
     "output_type": "stream",
     "text": [
      "Hello!\n",
      "None\n"
     ]
    }
   ],
   "source": [
    "def greet():\n",
    "    print('Hello!')\n",
    "\n",
    "x = greet()\n",
    "print(x)          # Since greet() has no return statement,it implicitly returns None. (x=None)"
   ]
  }
 ],
 "metadata": {
  "kernelspec": {
   "display_name": ".venv",
   "language": "python",
   "name": "python3"
  },
  "language_info": {
   "codemirror_mode": {
    "name": "ipython",
    "version": 3
   },
   "file_extension": ".py",
   "mimetype": "text/x-python",
   "name": "python",
   "nbconvert_exporter": "python",
   "pygments_lexer": "ipython3",
   "version": "3.9.21"
  }
 },
 "nbformat": 4,
 "nbformat_minor": 5
}
