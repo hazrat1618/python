{
 "cells": [
  {
   "cell_type": "code",
   "execution_count": null,
   "id": "eac5384e",
   "metadata": {},
   "outputs": [],
   "source": [
    "# Recursion is special technique. When function calls itself\n",
    "# factorial -> it's multiplication of all integers from one up to the num\n",
    "# 3! = 1 * 2 * 3 = 6\n",
    "# 5! = 1 * 2 * 3 * 4 * 5 = 120"
   ]
  },
  {
   "cell_type": "code",
   "execution_count": null,
   "id": "5219d65b",
   "metadata": {},
   "outputs": [],
   "source": [
    "# iterative function\n",
    "def get_factorial(number):\n",
    "    factorial = 1\n",
    "    for x in range(1, number + 1):\n",
    "        factorial *= x\n",
    "    return factorial"
   ]
  },
  {
   "cell_type": "code",
   "execution_count": 3,
   "id": "edb4fd70",
   "metadata": {},
   "outputs": [
    {
     "name": "stdout",
     "output_type": "stream",
     "text": [
      "720\n"
     ]
    }
   ],
   "source": [
    "print(get_factorial(6))"
   ]
  },
  {
   "cell_type": "code",
   "execution_count": null,
   "id": "b732de9a",
   "metadata": {},
   "outputs": [],
   "source": [
    "# ex: 2! = 2 * 1!, 3! = 3 * 2!, 4! = 4 * 3!\n",
    "# recursive\n",
    "def get_factorial_recursive(number):\n",
    "    if number <= 1:\n",
    "        return 1\n",
    "    return number * get_factorial_recursive(number - 1) \n"
   ]
  },
  {
   "cell_type": "markdown",
   "id": "51646fc0",
   "metadata": {},
   "source": [
    "    Note: number -1 keeps finding factorial till 0, -1,-2,-3.\n",
    "    That's why if statement was used"
   ]
  },
  {
   "cell_type": "code",
   "execution_count": 5,
   "id": "2658cf9c",
   "metadata": {},
   "outputs": [
    {
     "name": "stdout",
     "output_type": "stream",
     "text": [
      "720\n"
     ]
    }
   ],
   "source": [
    "print(get_factorial_recursive(6))"
   ]
  }
 ],
 "metadata": {
  "kernelspec": {
   "display_name": ".venv",
   "language": "python",
   "name": "python3"
  },
  "language_info": {
   "codemirror_mode": {
    "name": "ipython",
    "version": 3
   },
   "file_extension": ".py",
   "mimetype": "text/x-python",
   "name": "python",
   "nbconvert_exporter": "python",
   "pygments_lexer": "ipython3",
   "version": "3.9.21"
  }
 },
 "nbformat": 4,
 "nbformat_minor": 5
}
