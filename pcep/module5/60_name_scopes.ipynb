{
 "cells": [
  {
   "cell_type": "code",
   "execution_count": 1,
   "id": "313bac54",
   "metadata": {},
   "outputs": [
    {
     "name": "stdout",
     "output_type": "stream",
     "text": [
      "Surprise!\n"
     ]
    }
   ],
   "source": [
    "def show_truth():\n",
    "    mysterious_var = 'Surprise!'\n",
    "    print(mysterious_var)\n",
    "\n",
    "show_truth()"
   ]
  },
  {
   "cell_type": "code",
   "execution_count": 2,
   "id": "e6c2ecef",
   "metadata": {},
   "outputs": [
    {
     "name": "stdout",
     "output_type": "stream",
     "text": [
      "Surprise!\n"
     ]
    }
   ],
   "source": [
    "def show_truth():\n",
    "    print(mysterious_var)\n",
    "\n",
    "    \n",
    "mysterious_var = 'Surprise!'\n",
    "show_truth()"
   ]
  },
  {
   "cell_type": "markdown",
   "id": "78c227a2",
   "metadata": {},
   "source": [
    "    The technique below is called shadowing.\n",
    "If there was no shadowing, then funct written by other people could accidentally change the values of global variables"
   ]
  },
  {
   "cell_type": "code",
   "execution_count": 12,
   "id": "ad1786fa",
   "metadata": {},
   "outputs": [
    {
     "name": "stdout",
     "output_type": "stream",
     "text": [
      "Surprise!\n",
      "New Surprise!\n",
      "New Surprise!\n"
     ]
    }
   ],
   "source": [
    "def show_truth():\n",
    "    global mysterious_var             # Global is used to modify variables in funct.\n",
    "    mysterious_var = 'New Surprise!'  # This is a *local* variable inside the function\n",
    "    print(mysterious_var)             # This prints the *local* variable\n",
    "\n",
    "mysterious_var = 'Surprise!'          # This is a *global* variable\n",
    "print(mysterious_var)                 # Prints the global variable: \"Surprise!\"\n",
    "show_truth()                          # Calls the function, which prints: \"New Surprise!\"\n",
    "print(mysterious_var)                 # Prints the global variable again: \"Surprise!\""
   ]
  },
  {
   "cell_type": "markdown",
   "id": "0e054bb2",
   "metadata": {},
   "source": [
    "    global mysterious_var -> this instruction means don't use shadowing for the variable named mysterious var.\n",
    "global instruction is not very useful"
   ]
  },
  {
   "cell_type": "code",
   "execution_count": null,
   "id": "363075a9",
   "metadata": {},
   "outputs": [
    {
     "name": "stdout",
     "output_type": "stream",
     "text": [
      "['Surprise!']\n",
      "['Surprise!', 'New Surprise!']\n",
      "['Surprise!', 'New Surprise!']\n"
     ]
    }
   ],
   "source": [
    "# List and dict are mutable\n",
    "# Tuples are immutable\n",
    "def show_truth():\n",
    "    mysterious_var.append('New Surprise!')\n",
    "    print(mysterious_var)\n",
    "\n",
    "mysterious_var = ['Surprise!']          # Now it's a list\n",
    "print(mysterious_var)\n",
    "show_truth()\n",
    "print(mysterious_var)"
   ]
  }
 ],
 "metadata": {
  "kernelspec": {
   "display_name": ".venv",
   "language": "python",
   "name": "python3"
  },
  "language_info": {
   "codemirror_mode": {
    "name": "ipython",
    "version": 3
   },
   "file_extension": ".py",
   "mimetype": "text/x-python",
   "name": "python",
   "nbconvert_exporter": "python",
   "pygments_lexer": "ipython3",
   "version": "3.9.16"
  }
 },
 "nbformat": 4,
 "nbformat_minor": 5
}
