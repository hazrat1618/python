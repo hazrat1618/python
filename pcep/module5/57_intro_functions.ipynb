{
 "cells": [
  {
   "cell_type": "code",
   "execution_count": 3,
   "id": "17da4a49",
   "metadata": {},
   "outputs": [
    {
     "name": "stdout",
     "output_type": "stream",
     "text": [
      "Hello, my dear!\n",
      "Hello, my dear!\n"
     ]
    }
   ],
   "source": [
    "# Simplest function we can write in python\n",
    "# def -> is define\n",
    "# Purpose of this function is to show text\n",
    "# We can't invoke function before we define it\n",
    "def greet ():\n",
    "    print('Hello, my dear!')\n",
    "\n",
    "greet()\n",
    "greet()"
   ]
  }
 ],
 "metadata": {
  "kernelspec": {
   "display_name": ".venv",
   "language": "python",
   "name": "python3"
  },
  "language_info": {
   "codemirror_mode": {
    "name": "ipython",
    "version": 3
   },
   "file_extension": ".py",
   "mimetype": "text/x-python",
   "name": "python",
   "nbconvert_exporter": "python",
   "pygments_lexer": "ipython3",
   "version": "3.9.21"
  }
 },
 "nbformat": 4,
 "nbformat_minor": 5
}
