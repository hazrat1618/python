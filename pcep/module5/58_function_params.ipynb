{
 "cells": [
  {
   "cell_type": "code",
   "execution_count": 1,
   "id": "ee85f3e1",
   "metadata": {},
   "outputs": [
    {
     "name": "stdout",
     "output_type": "stream",
     "text": [
      "7.24\n"
     ]
    }
   ],
   "source": [
    "# we need to find the average from multiple numbers in a list\n",
    "\n",
    "input_numbers = [5.0, 3.5, 7.8, 9.9, 10.0]\n",
    "\n",
    "sum = 0.0\n",
    "for number in input_numbers:\n",
    "    sum += number\n",
    "average = sum/ len(input_numbers)\n",
    "\n",
    "print(average)"
   ]
  },
  {
   "cell_type": "code",
   "execution_count": 2,
   "id": "d5a03cdb",
   "metadata": {},
   "outputs": [
    {
     "name": "stdout",
     "output_type": "stream",
     "text": [
      "7.24\n"
     ]
    }
   ],
   "source": [
    "# we will turn the above code into function\n",
    "\n",
    "def get_average(input_numbers):\n",
    "    sum = 0.0\n",
    "    for number in input_numbers:\n",
    "        sum += number\n",
    "    average = sum/ len(input_numbers)\n",
    "    print(average)\n",
    "    # This value, the list is assigned to the parameter input numbers and the function sums\n",
    "# all values in list.  Below list is brackets is called argument.\n",
    "# The value of argument is assigned to the parameter named input_numbers in above funct\n",
    "get_average([5.0, 3.5, 7.8, 9.9, 10.0])"
   ]
  },
  {
   "cell_type": "code",
   "execution_count": null,
   "id": "184a4ad0",
   "metadata": {},
   "outputs": [
    {
     "ename": "TypeError",
     "evalue": "get_average() missing 1 required positional argument: 'input_numbers'",
     "output_type": "error",
     "traceback": [
      "\u001b[0;31m---------------------------------------------------------------------------\u001b[0m",
      "\u001b[0;31mTypeError\u001b[0m                                 Traceback (most recent call last)",
      "Cell \u001b[0;32mIn[3], line 2\u001b[0m\n\u001b[1;32m      1\u001b[0m \u001b[38;5;66;03m# When you invoke function, you must provide all of its arguments\u001b[39;00m\n\u001b[0;32m----> 2\u001b[0m \u001b[43mget_average\u001b[49m\u001b[43m(\u001b[49m\u001b[43m)\u001b[49m\n",
      "\u001b[0;31mTypeError\u001b[0m: get_average() missing 1 required positional argument: 'input_numbers'"
     ]
    }
   ],
   "source": [
    "# When you invoke function, you must provide all of its arguments\n",
    "# We get error below because no arguments given\n",
    "get_average()"
   ]
  },
  {
   "cell_type": "code",
   "execution_count": 10,
   "id": "e026d755",
   "metadata": {},
   "outputs": [],
   "source": [
    "# We can define funct with more than one parameter. ex below has 2 parameters\n",
    "\n",
    "def print_letter_count(text, letter):\n",
    "    counter = 0\n",
    "    for char in text:\n",
    "        if char == letter:\n",
    "            counter += 1\n",
    "    print('Number of', letter, 'is', counter)"
   ]
  },
  {
   "cell_type": "code",
   "execution_count": 12,
   "id": "afc5e3ff",
   "metadata": {},
   "outputs": [
    {
     "name": "stdout",
     "output_type": "stream",
     "text": [
      "Number of e is 2\n"
     ]
    }
   ],
   "source": [
    "print_letter_count('Welcome', 'e')"
   ]
  },
  {
   "cell_type": "code",
   "execution_count": 13,
   "id": "95bf9b69",
   "metadata": {},
   "outputs": [
    {
     "name": "stdout",
     "output_type": "stream",
     "text": [
      "Number of o is 3\n"
     ]
    }
   ],
   "source": [
    "print_letter_count('People say nothing is impossible.', 'o')"
   ]
  },
  {
   "cell_type": "code",
   "execution_count": 14,
   "id": "09ad1901",
   "metadata": {},
   "outputs": [
    {
     "name": "stdout",
     "output_type": "stream",
     "text": [
      "Number of Welcome is 0\n"
     ]
    }
   ],
   "source": [
    "print_letter_count('e', 'Welcome')"
   ]
  },
  {
   "cell_type": "markdown",
   "id": "7b119e9f",
   "metadata": {},
   "source": [
    "- Because the order of arguments is important, we call them positional arguments\n",
    "- The argument values are assigned to the parameters based on their position.\n",
    " "
   ]
  },
  {
   "cell_type": "code",
   "execution_count": 16,
   "id": "f2772cb1",
   "metadata": {},
   "outputs": [
    {
     "name": "stdout",
     "output_type": "stream",
     "text": [
      "Number of e is 2\n"
     ]
    }
   ],
   "source": [
    "# Python allows us to provide named arguments, also known as keyword arguments\n",
    "\n",
    "print_letter_count(text='Welcome', letter='e')"
   ]
  },
  {
   "cell_type": "code",
   "execution_count": null,
   "id": "71ff19b1",
   "metadata": {},
   "outputs": [
    {
     "name": "stdout",
     "output_type": "stream",
     "text": [
      "Number of e is 2\n"
     ]
    }
   ],
   "source": [
    "# That we use named arguments, we can swap the places and the function call will still be correct\n",
    "print_letter_count(letter='e', text='Welcome')"
   ]
  }
 ],
 "metadata": {
  "kernelspec": {
   "display_name": ".venv",
   "language": "python",
   "name": "python3"
  },
  "language_info": {
   "codemirror_mode": {
    "name": "ipython",
    "version": 3
   },
   "file_extension": ".py",
   "mimetype": "text/x-python",
   "name": "python",
   "nbconvert_exporter": "python",
   "pygments_lexer": "ipython3",
   "version": "3.9.21"
  }
 },
 "nbformat": 4,
 "nbformat_minor": 5
}
