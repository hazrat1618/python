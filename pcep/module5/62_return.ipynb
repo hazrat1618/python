{
 "cells": [
  {
   "cell_type": "code",
   "execution_count": null,
   "id": "74356932",
   "metadata": {},
   "outputs": [],
   "source": [
    "def get_average(input_numbers):\n",
    "    sum = 0.0\n",
    "    for number in input_numbers:\n",
    "        sum += number\n",
    "    average = sum / len(input_numbers)\n",
    "    print(average)\n",
    "\n",
    "# It does not return anything meaningful, but returns None behind the scenes"
   ]
  },
  {
   "cell_type": "code",
   "execution_count": 1,
   "id": "ac15d158",
   "metadata": {},
   "outputs": [],
   "source": [
    " def get_average(input_numbers):\n",
    "    sum = 0.0\n",
    "    for number in input_numbers:\n",
    "        sum += number\n",
    "    average = sum / len(input_numbers)\n",
    "    return average"
   ]
  },
  {
   "cell_type": "code",
   "execution_count": 2,
   "id": "915f21f5",
   "metadata": {},
   "outputs": [
    {
     "name": "stdout",
     "output_type": "stream",
     "text": [
      "The average is: 7.24\n"
     ]
    }
   ],
   "source": [
    "print('The average is:', get_average([5.0, 3.5, 7.8, 9.9, 10.0]))"
   ]
  },
  {
   "cell_type": "code",
   "execution_count": 3,
   "id": "506e53e1",
   "metadata": {},
   "outputs": [
    {
     "name": "stdout",
     "output_type": "stream",
     "text": [
      "The average is too high!\n"
     ]
    }
   ],
   "source": [
    "average = get_average([5.0, 3.5, 7.8, 9.9, 10.0])\n",
    "if average > 5.0:\n",
    "    print('The average is too high!')"
   ]
  },
  {
   "cell_type": "code",
   "execution_count": null,
   "id": "2f73ee16",
   "metadata": {},
   "outputs": [
    {
     "data": {
      "text/plain": [
       "2.0"
      ]
     },
     "execution_count": 4,
     "metadata": {},
     "output_type": "execute_result"
    }
   ],
   "source": [
    " def get_average(input_numbers):\n",
    "    sum = 0.0\n",
    "    for number in input_numbers:\n",
    "        sum += number\n",
    "    average = sum / len(input_numbers)\n",
    "    return average\n",
    "    print('Show me!')   # print was never shown to output.\n",
    "# Function exec was terminated before it could reach print instrc\n",
    "get_average([2])"
   ]
  },
  {
   "cell_type": "code",
   "execution_count": 9,
   "id": "abd71aac",
   "metadata": {},
   "outputs": [],
   "source": [
    "def is_first_last_equal(number_list):\n",
    "    if len(number_list) == 0:\n",
    "        return          # We use return to exit function immediately\n",
    "    if (number_list[0] == number_list[-1]):\n",
    "        return True\n",
    "    else:\n",
    "        return False"
   ]
  },
  {
   "cell_type": "code",
   "execution_count": 6,
   "id": "385f4bfe",
   "metadata": {},
   "outputs": [
    {
     "name": "stdout",
     "output_type": "stream",
     "text": [
      "True\n"
     ]
    }
   ],
   "source": [
    "print(is_first_last_equal([10, 20, 30, 40, 10]))"
   ]
  },
  {
   "cell_type": "code",
   "execution_count": 7,
   "id": "c145aa99",
   "metadata": {},
   "outputs": [
    {
     "name": "stdout",
     "output_type": "stream",
     "text": [
      "False\n"
     ]
    }
   ],
   "source": [
    "print(is_first_last_equal([10, 20, 30, 40, 50]))"
   ]
  },
  {
   "cell_type": "code",
   "execution_count": null,
   "id": "7c2ee1f6",
   "metadata": {},
   "outputs": [
    {
     "name": "stdout",
     "output_type": "stream",
     "text": [
      "None\n"
     ]
    }
   ],
   "source": [
    "# With empty list it is impossible to access index 0. We get an error.\n",
    "# We got None here because we specified return if len(number_list) == 0\n",
    "print(is_first_last_equal([]))"
   ]
  }
 ],
 "metadata": {
  "kernelspec": {
   "display_name": ".venv",
   "language": "python",
   "name": "python3"
  },
  "language_info": {
   "codemirror_mode": {
    "name": "ipython",
    "version": 3
   },
   "file_extension": ".py",
   "mimetype": "text/x-python",
   "name": "python",
   "nbconvert_exporter": "python",
   "pygments_lexer": "ipython3",
   "version": "3.9.21"
  }
 },
 "nbformat": 4,
 "nbformat_minor": 5
}
