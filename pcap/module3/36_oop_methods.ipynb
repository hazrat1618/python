{
 "cells": [
  {
   "cell_type": "markdown",
   "id": "7ef1a7d5",
   "metadata": {},
   "source": [
    "- The self parameter identifies the obj for which the method is invoked\n",
    "- When we invoke a method outside the class, we should never provide any arg for the self parameter.\n",
    "- If we need other parameters in method, we need to place them after the self parameter in the func. When we invoke such method, we still need to skip the 1st 'self' parameter, never provide argument for 'self' parameter.\n"
   ]
  },
  {
   "cell_type": "code",
   "execution_count": 1,
   "id": "6d8ada5c",
   "metadata": {},
   "outputs": [
    {
     "name": "stdout",
     "output_type": "stream",
     "text": [
      "Hi, I am Alexander\n",
      "Sorry, my name is different...\n",
      "{'first_name': 'Alexander', 'last_name': 'Smith'}\n",
      "{'__module__': '__main__', '__init__': <function Doctor.__init__ at 0x7f07245c9550>, '_Doctor__format_names': <function Doctor.__format_names at 0x7f07245c95e0>, 'introduce': <function Doctor.introduce at 0x7f07245c9670>, 'compare_name': <function Doctor.compare_name at 0x7f07245c9700>, 'get_first_last_name_together': <function Doctor.get_first_last_name_together at 0x7f07245c9790>, '__str__': <function Doctor.__str__ at 0x7f07245c9820>, '__dict__': <attribute '__dict__' of 'Doctor' objects>, '__weakref__': <attribute '__weakref__' of 'Doctor' objects>, '__doc__': None}\n"
     ]
    }
   ],
   "source": [
    "class Doctor():        \n",
    "    def __init__(self, first_name = 'John', last_name = 'Smith'):\n",
    "        self.first_name = first_name\n",
    "        self.last_name = last_name\n",
    "        self.__format_names()\n",
    "    \n",
    "    def __format_names(self):\n",
    "        self.first_name = self.first_name.title()\n",
    "        self.last_name = self.last_name.title()\n",
    "        \n",
    "    def introduce(self):\n",
    "        print('Hi, I am', self.first_name)\n",
    "        \n",
    "    def compare_name(self, name_to_compare):\n",
    "        if self.first_name == name_to_compare:\n",
    "            print('We have the same name!')\n",
    "        else:\n",
    "            print('Sorry, my name is different...')\n",
    "    \n",
    "    def get_first_last_name_together(self):\n",
    "        return self.first_name + ' ' + self.last_name\n",
    "\n",
    "    def __str__(self):\n",
    "        return 'doctor=' + self.first_name + ' ' + self.last_name\n",
    "    \n",
    "doc_alex = Doctor('AleXandeR', 'SMith')     # Creates an object. self.first_name -> becomes Alexander, self.last_name -> becomes Smith\n",
    "doc_alex.introduce()\n",
    "doc_alex.compare_name('John') \n",
    "print(doc_alex.__dict__)    # This shows all instance attr stored on the obj doc_alex\n",
    "print(Doctor.__dict__)  # prints a dict of the class attr and methods for Doctor class"
   ]
  },
  {
   "cell_type": "code",
   "execution_count": null,
   "id": "212f8dae",
   "metadata": {},
   "outputs": [
    {
     "name": "stdout",
     "output_type": "stream",
     "text": [
      "<__main__.Doctor object at 0x7f0724eb8d00>\n"
     ]
    }
   ],
   "source": [
    "print(doc_alex)"
   ]
  },
  {
   "cell_type": "markdown",
   "id": "4a64d82a",
   "metadata": {},
   "source": [
    "- doc_alex.__dict__  --> Shows instance variables like first_name, last_name\n",
    "- Doctor.__dict__     --> Shows class-level attributes & methods\n",
    "- __format_names      --> Name-mangled to _Doctor__format_names\n",
    "- .title()    -->Capitalizes name properly"
   ]
  }
 ],
 "metadata": {
  "kernelspec": {
   "display_name": ".venv",
   "language": "python",
   "name": "python3"
  },
  "language_info": {
   "codemirror_mode": {
    "name": "ipython",
    "version": 3
   },
   "file_extension": ".py",
   "mimetype": "text/x-python",
   "name": "python",
   "nbconvert_exporter": "python",
   "pygments_lexer": "ipython3",
   "version": "3.9.16"
  }
 },
 "nbformat": 4,
 "nbformat_minor": 5
}
