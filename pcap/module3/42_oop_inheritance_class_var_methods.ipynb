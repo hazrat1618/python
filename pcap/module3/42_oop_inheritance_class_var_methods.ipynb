{
 "cells": [
  {
   "cell_type": "code",
   "execution_count": 3,
   "id": "108d9494",
   "metadata": {},
   "outputs": [],
   "source": [
    "class Vehicle:\n",
    "    class_message = 'This is a message from the Vehicle class'\n",
    "    def __init__(self, speed):\n",
    "        self.speed = speed\n",
    "\n",
    "class LandVehicle(Vehicle):\n",
    "    def __init__(self, speed, wheel_count):\n",
    "        super().__init__(speed)\n",
    "        self.wheel_count = wheel_count\n",
    "        print(super().class_message)\n",
    "\n",
    "class Car(LandVehicle):\n",
    "    pass"
   ]
  },
  {
   "cell_type": "code",
   "execution_count": 4,
   "id": "8cd7acb0",
   "metadata": {},
   "outputs": [
    {
     "name": "stdout",
     "output_type": "stream",
     "text": [
      "This is a message from the Vehicle class\n"
     ]
    }
   ],
   "source": [
    "my_car = Car(50, 4)"
   ]
  },
  {
   "cell_type": "code",
   "execution_count": 5,
   "id": "c24d0e01",
   "metadata": {},
   "outputs": [
    {
     "data": {
      "text/plain": [
       "'This is a message from the Vehicle class'"
      ]
     },
     "execution_count": 5,
     "metadata": {},
     "output_type": "execute_result"
    }
   ],
   "source": [
    "my_car.class_message"
   ]
  },
  {
   "cell_type": "code",
   "execution_count": 11,
   "id": "f24d03c2",
   "metadata": {},
   "outputs": [],
   "source": [
    "class Vehicle:\n",
    "    class_message = 'This is a message from the Vehicle class'\n",
    "    def __init__(self, speed):\n",
    "        self.speed = speed\n",
    "\n",
    "class LandVehicle(Vehicle):\n",
    "    def __init__(self, speed, wheel_count):\n",
    "        super().__init__(speed)\n",
    "        self.wheel_count = wheel_count\n",
    "        print(super().class_message)\n",
    "    \n",
    "    def speed_up(self):\n",
    "        self.speed += 5\n",
    "\n",
    "class Car(LandVehicle):\n",
    "    def super_speed(self):\n",
    "        print('Super speed activated!')\n",
    "        super().speed_up()\n",
    "        super().speed_up()\n",
    "        super().speed_up()"
   ]
  },
  {
   "cell_type": "code",
   "execution_count": 13,
   "id": "9e5979d0",
   "metadata": {},
   "outputs": [
    {
     "name": "stdout",
     "output_type": "stream",
     "text": [
      "This is a message from the Vehicle class\n",
      "{'speed': 10, 'wheel_count': 4}\n",
      "Super speed activated!\n",
      "{'speed': 25, 'wheel_count': 4}\n",
      "{'speed': 30, 'wheel_count': 4}\n"
     ]
    }
   ],
   "source": [
    "my_fast_car = Car(10, 4)\n",
    "print(my_fast_car.__dict__)\n",
    "my_fast_car.super_speed()\n",
    "print(my_fast_car.__dict__)\n",
    "my_fast_car.speed_up()\n",
    "print(my_fast_car.__dict__)"
   ]
  }
 ],
 "metadata": {
  "kernelspec": {
   "display_name": "venv",
   "language": "python",
   "name": "python3"
  },
  "language_info": {
   "codemirror_mode": {
    "name": "ipython",
    "version": 3
   },
   "file_extension": ".py",
   "mimetype": "text/x-python",
   "name": "python",
   "nbconvert_exporter": "python",
   "pygments_lexer": "ipython3",
   "version": "3.9.6"
  }
 },
 "nbformat": 4,
 "nbformat_minor": 5
}
