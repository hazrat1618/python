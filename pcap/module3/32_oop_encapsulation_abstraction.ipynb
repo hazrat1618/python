{
 "cells": [
  {
   "cell_type": "markdown",
   "id": "2599dd87",
   "metadata": {},
   "source": [
    "A private property is a property that can only be accessed from within the class.\n",
    "ex: I made --> __speed"
   ]
  },
  {
   "cell_type": "markdown",
   "id": "5346f633",
   "metadata": {},
   "source": [
    "    OOP principles:\n",
    "1. encapsulation\n",
    "2. abstraction\n",
    "3. ingeritance\n",
    "4. polymorphism"
   ]
  },
  {
   "cell_type": "code",
   "execution_count": 24,
   "id": "3e16ffee",
   "metadata": {},
   "outputs": [],
   "source": [
    "class Car():\n",
    "    def __init__(self, model, color, initial_speed = 0):\n",
    "        self.model = model\n",
    "        self.color = color\n",
    "        if initial_speed < 0:\n",
    "            self.__speed = 0\n",
    "        else:\n",
    "            self.speed = initial_speed\n",
    "\n",
    "    def speed_up(self):\n",
    "        self.__speed += 5\n",
    "\n",
    "    def slow_down(self):\n",
    "        if self.speed < 5:\n",
    "            self.__speed = 0\n",
    "        else:\n",
    "            self.speed -= 5\n",
    "\n",
    "    def show_speed(self):\n",
    "        print('Current speed: ', self.__speed)"
   ]
  },
  {
   "cell_type": "code",
   "execution_count": 25,
   "id": "ad374055",
   "metadata": {},
   "outputs": [
    {
     "name": "stdout",
     "output_type": "stream",
     "text": [
      "Current speed:  0\n"
     ]
    }
   ],
   "source": [
    "my_lovely_car = Car('T-Roc', 'red', -50)\n",
    "my_lovely_car.speed = -10\n",
    "my_lovely_car.show_speed()"
   ]
  }
 ],
 "metadata": {
  "kernelspec": {
   "display_name": "Python 3",
   "language": "python",
   "name": "python3"
  },
  "language_info": {
   "codemirror_mode": {
    "name": "ipython",
    "version": 3
   },
   "file_extension": ".py",
   "mimetype": "text/x-python",
   "name": "python",
   "nbconvert_exporter": "python",
   "pygments_lexer": "ipython3",
   "version": "3.9.21"
  }
 },
 "nbformat": 4,
 "nbformat_minor": 5
}
