{
 "cells": [
  {
   "cell_type": "code",
   "execution_count": null,
   "id": "abfdf353",
   "metadata": {},
   "outputs": [],
   "source": [
    "import random\n",
    "\n",
    "class Card:\n",
    "    def __init__(self, suit, value):    # constructor that sets card's suit and value\n",
    "        self.suit = suit\n",
    "        self.value = value\n",
    "    def present(self):\n",
    "        return f\"{self.value} of {self.suit}\"   # returns a string representation of the card (like \"10 of spades\")\n",
    "\n",
    "class Deck:\n",
    "    def __init__(self):\n",
    "        suits = ['hearts', 'diamonds', 'clubs', 'spades']   \n",
    "        values = ['Ace', '2', '3', '4', '5', '6', '7', '8', '9', '10', 'Jack', 'Queen', 'King']\n",
    "        self.cards = [Card(suit, value) for suit in suits for value in values] \n",
    "    #  A list of Card objects created by a nested loop over all 4 suits × 13 values (total: 52 cards).\n",
    "\n",
    "    def shuffle(self):\n",
    "        random.shuffle(self.cards)\n",
    "\n",
    "    def deal(self):\n",
    "        if len(self.cards) == 0:\n",
    "            return None\n",
    "        return self.cards.pop()\n",
    "\n",
    "    def count_remaining(self):\n",
    "        return len(self.cards)\n",
    "\n",
    "    def get_remaining(self):\n",
    "        return [card.present() for card in self.cards]"
   ]
  },
  {
   "cell_type": "code",
   "execution_count": 13,
   "id": "77bf4e5f",
   "metadata": {},
   "outputs": [
    {
     "name": "stdout",
     "output_type": "stream",
     "text": [
      "Total cards: 52\n",
      "Dealt card: 10 of clubs\n",
      "Cards remaining: 51\n",
      "Remaining cards:\n",
      "['10 of spades', 'Jack of clubs', 'King of diamonds', 'Queen of diamonds', '4 of diamonds', '7 of hearts', '2 of hearts', 'Queen of clubs', '8 of hearts', '7 of clubs', '9 of hearts', '4 of clubs', '4 of spades', 'King of clubs', 'Ace of spades', '2 of spades', '4 of hearts', '10 of hearts', 'King of spades', '6 of hearts', '7 of spades', '3 of hearts', '6 of clubs', 'Jack of diamonds', 'King of hearts', '5 of diamonds', 'Jack of hearts', '2 of clubs', '9 of clubs', '8 of spades', '6 of diamonds', 'Ace of clubs', '5 of clubs', '8 of diamonds', '9 of diamonds', '3 of spades', '3 of diamonds', '7 of diamonds', '10 of diamonds', '8 of clubs', '2 of diamonds', '5 of hearts', 'Jack of spades', 'Ace of diamonds', 'Queen of spades', 'Ace of hearts', '6 of spades', 'Queen of hearts', '9 of spades', '3 of clubs', '5 of spades']\n"
     ]
    }
   ],
   "source": [
    "# Usage\n",
    "deck = Deck()\n",
    "print(\"Total cards:\", deck.count_remaining())   # 52\n",
    "\n",
    "deck.shuffle()\n",
    "card = deck.deal()\n",
    "if card:\n",
    "    print(\"Dealt card:\", card.present())        # e.g., \"9 of clubs\"\n",
    "\n",
    "print(\"Cards remaining:\", deck.count_remaining())  # 51\n",
    "\n",
    "print(\"Remaining cards:\")\n",
    "print(deck.get_remaining())  # List of 51 card descriptions"
   ]
  }
 ],
 "metadata": {
  "kernelspec": {
   "display_name": ".venv",
   "language": "python",
   "name": "python3"
  },
  "language_info": {
   "codemirror_mode": {
    "name": "ipython",
    "version": 3
   },
   "file_extension": ".py",
   "mimetype": "text/x-python",
   "name": "python",
   "nbconvert_exporter": "python",
   "pygments_lexer": "ipython3",
   "version": "3.9.21"
  }
 },
 "nbformat": 4,
 "nbformat_minor": 5
}
