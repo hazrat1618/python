{
 "cells": [
  {
   "cell_type": "markdown",
   "id": "3c1682ba",
   "metadata": {},
   "source": [
    "- In procedural approach we were previouesly using we call functions that work on data\n",
    "- In object-oriented programming data and functions are kept together in objects\n",
    "- Data pieces inside objects are called: properties, attributes or fields\n",
    "- Functions inside objects are called methods"
   ]
  },
  {
   "cell_type": "code",
   "execution_count": 1,
   "id": "e7675fc2",
   "metadata": {},
   "outputs": [
    {
     "name": "stdout",
     "output_type": "stream",
     "text": [
      "The area is 30\n"
     ]
    }
   ],
   "source": [
    "# procedural approach\n",
    "def calculate_area(width, height):\n",
    "    return width * height\n",
    "\n",
    "width = int(input('What is the width? '))\n",
    "height = int(input('What is the height? '))\n",
    "area = calculate_area(width, height)\n",
    "print('The area is', area)"
   ]
  },
  {
   "cell_type": "code",
   "execution_count": 2,
   "id": "c0a8270b",
   "metadata": {},
   "outputs": [
    {
     "name": "stdout",
     "output_type": "stream",
     "text": [
      "The area is 30\n",
      "Your age muiltiplied by the height is 90\n"
     ]
    }
   ],
   "source": [
    "# procedural approach\n",
    "def calculate_area(width, height):\n",
    "    return width * height\n",
    "\n",
    "width = int(input('What is the width? '))\n",
    "height = int(input('What is the height? '))\n",
    "area = calculate_area(width, height)\n",
    "print('The area is', area)\n",
    "\n",
    "age = int(input('Hey, and what is your age? '))\n",
    "strange_operation = calculate_area(age, height)\n",
    "print('Your age muiltiplied by the height is', strange_operation)"
   ]
  },
  {
   "cell_type": "code",
   "execution_count": 4,
   "id": "65bb595f",
   "metadata": {},
   "outputs": [
    {
     "name": "stdout",
     "output_type": "stream",
     "text": [
      "The area is 30\n"
     ]
    }
   ],
   "source": [
    "# object approach\n",
    "class Rectangle: # class definition (template for creating rectangles)\n",
    "    def __init__(self, width, height):\n",
    "        self.width = width\n",
    "        self.height = height\n",
    "\n",
    "    def get_area(self):\n",
    "        return self.width * self.height\n",
    "a = int(input('What is the width? ')) # asking user for width & height\n",
    "b = int(input('What is the height'))\n",
    "\n",
    "rectangle = Rectangle(a, b) # creating a new rectangle based on user input\n",
    "print('The area is', rectangle.get_area())"
   ]
  }
 ],
 "metadata": {
  "kernelspec": {
   "display_name": "Python 3",
   "language": "python",
   "name": "python3"
  },
  "language_info": {
   "codemirror_mode": {
    "name": "ipython",
    "version": 3
   },
   "file_extension": ".py",
   "mimetype": "text/x-python",
   "name": "python",
   "nbconvert_exporter": "python",
   "pygments_lexer": "ipython3",
   "version": "3.9.21"
  }
 },
 "nbformat": 4,
 "nbformat_minor": 5
}
