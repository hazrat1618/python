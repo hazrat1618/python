{
 "cells": [
  {
   "cell_type": "code",
   "execution_count": 1,
   "id": "3fe8eec3",
   "metadata": {},
   "outputs": [],
   "source": [
    "class Vehicle():\n",
    "    def show_power_type(self):\n",
    "        print('I can use power from various sources')\n",
    "\n",
    "class ElectricVehicle(Vehicle):\n",
    "    def show_power_type(self):\n",
    "        print('I can use power from electricity')\n",
    "\n",
    "class PetrolVehicle(Vehicle):\n",
    "    def show_power_type(self):\n",
    "        print('I can use power from petrol')\n",
    "\n",
    "class HybridCar(ElectricVehicle, PetrolVehicle):\n",
    "    pass"
   ]
  },
  {
   "cell_type": "code",
   "execution_count": 2,
   "id": "446774ee",
   "metadata": {},
   "outputs": [
    {
     "name": "stdout",
     "output_type": "stream",
     "text": [
      "I can use power from electricity\n"
     ]
    }
   ],
   "source": [
    "my_toyota_yaris = HybridCar()\n",
    "my_toyota_yaris.show_power_type()"
   ]
  },
  {
   "cell_type": "code",
   "execution_count": 3,
   "id": "f9eba031",
   "metadata": {},
   "outputs": [],
   "source": [
    "class Vehicle():\n",
    "    def show_power_type(self):\n",
    "        print('I can use power from various sources')\n",
    "\n",
    "class ElectricVehicle(Vehicle):\n",
    "    def show_power_type(self):\n",
    "        print('I can use power from electricity')\n",
    "\n",
    "class PetrolVehicle(Vehicle):\n",
    "    def show_power_type(self):\n",
    "        print('I can use power from petrol')\n",
    "\n",
    "class HybridCar(PetrolVehicle, ElectricVehicle):\n",
    "    pass"
   ]
  },
  {
   "cell_type": "code",
   "execution_count": 4,
   "id": "d5fde5e6",
   "metadata": {},
   "outputs": [
    {
     "name": "stdout",
     "output_type": "stream",
     "text": [
      "I can use power from petrol\n"
     ]
    }
   ],
   "source": [
    "my_toyota_yaris = HybridCar()\n",
    "my_toyota_yaris.show_power_type()"
   ]
  },
  {
   "cell_type": "markdown",
   "id": "a0e39e45",
   "metadata": {},
   "source": [
    "      syntax: \n",
    "      hasattr(object, 'attribute_name')\n",
    "\n",
    "- object -> thing we're checking (an instance or a class)\n",
    "- attribute_name -> a str (in quotes!) representing name of attr\n"
   ]
  },
  {
   "cell_type": "code",
   "execution_count": 5,
   "id": "b43c533f",
   "metadata": {},
   "outputs": [
    {
     "name": "stdout",
     "output_type": "stream",
     "text": [
      "True\n",
      "False\n"
     ]
    }
   ],
   "source": [
    "class Vehicle:\n",
    "    def __init__(self, speed):\n",
    "        self.speed = speed\n",
    "\n",
    "car = Vehicle(100)\n",
    "\n",
    "print(hasattr(car, 'speed'))      # ✅ True → car has speed\n",
    "print(hasattr(car, 'wheel_count'))  # ❌ False → not defined"
   ]
  }
 ],
 "metadata": {
  "kernelspec": {
   "display_name": "venv",
   "language": "python",
   "name": "python3"
  },
  "language_info": {
   "codemirror_mode": {
    "name": "ipython",
    "version": 3
   },
   "file_extension": ".py",
   "mimetype": "text/x-python",
   "name": "python",
   "nbconvert_exporter": "python",
   "pygments_lexer": "ipython3",
   "version": "3.9.6"
  }
 },
 "nbformat": 4,
 "nbformat_minor": 5
}
