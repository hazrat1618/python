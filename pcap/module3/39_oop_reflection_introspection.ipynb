{
 "cells": [
  {
   "cell_type": "markdown",
   "id": "77abf68a",
   "metadata": {},
   "source": [
    "    Introspection is the ability of a program to check the type of an object or its properties at runtime\n",
    "Allows us to get some info about a given obj during the program"
   ]
  },
  {
   "cell_type": "markdown",
   "id": "f24e08c9",
   "metadata": {},
   "source": [
    "    Reflection is the ability of a program to change the properties or methods of an oject at runtime\n",
    "Allow to change properties needed"
   ]
  },
  {
   "cell_type": "code",
   "execution_count": 2,
   "id": "6943ca39",
   "metadata": {},
   "outputs": [],
   "source": [
    "# task: create a func that modifies all str properties of any obj by turning them into empty str\n",
    "def empty_strings(user_object):     # user_object --> parameter\n",
    "    for prop_name in user_object.__dict__.keys():   # keys() method used in dict\n",
    "        prop_value = getattr(user_object, prop_name)    # getattr() --> takes two arguments, returns the value of given property\n",
    "        if isinstance(prop_value, str):    # isinstance() -> check if var is of given type.  1st is var, 2nd is type\n",
    "            setattr(user_object, prop_name, '')     # setattr -> sets a new value for a given property"
   ]
  },
  {
   "cell_type": "code",
   "execution_count": 4,
   "id": "3afd35a3",
   "metadata": {},
   "outputs": [],
   "source": [
    "class Doctor():        \n",
    "    def __init__(self, first_name = 'John', last_name = 'Smith'):\n",
    "        self.first_name = first_name\n",
    "        self.last_name = last_name\n",
    "        self.__format_names()\n",
    "    \n",
    "    def __format_names(self):\n",
    "        self.first_name = self.first_name.title()\n",
    "        self.last_name = self.last_name.title()\n",
    "        \n",
    "    def introduce(self):\n",
    "        print('Hi, I am', self.first_name)\n",
    "        \n",
    "    def compare_name(self, name_to_compare):\n",
    "        if self.first_name == name_to_compare:\n",
    "            print('We have the same name!')\n",
    "        else:\n",
    "            print('Sorry, my name is different...')\n",
    "    \n",
    "    def get_first_last_name_together(self):\n",
    "        return self.first_name + ' ' + self.last_name\n",
    "\n",
    "    def __str__(self):\n",
    "        return 'doctor=' + self.first_name + ' ' + self.last_name\n",
    "    "
   ]
  },
  {
   "cell_type": "code",
   "execution_count": 5,
   "id": "4c834684",
   "metadata": {},
   "outputs": [
    {
     "name": "stdout",
     "output_type": "stream",
     "text": [
      "Hi, I am Alexander\n"
     ]
    },
    {
     "data": {
      "text/plain": [
       "<bound method Doctor.introduce of <__main__.Doctor object at 0x7f2a9667c880>>"
      ]
     },
     "execution_count": 5,
     "metadata": {},
     "output_type": "execute_result"
    }
   ],
   "source": [
    "doc_alex = Doctor('AleXandeR', 'SMith') \n",
    "doc_alex.introduce()\n",
    "empty_strings(doc_alex)\n",
    "doc_alex.introduce"
   ]
  }
 ],
 "metadata": {
  "kernelspec": {
   "display_name": ".venv",
   "language": "python",
   "name": "python3"
  },
  "language_info": {
   "codemirror_mode": {
    "name": "ipython",
    "version": 3
   },
   "file_extension": ".py",
   "mimetype": "text/x-python",
   "name": "python",
   "nbconvert_exporter": "python",
   "pygments_lexer": "ipython3",
   "version": "3.9.16"
  }
 },
 "nbformat": 4,
 "nbformat_minor": 5
}
