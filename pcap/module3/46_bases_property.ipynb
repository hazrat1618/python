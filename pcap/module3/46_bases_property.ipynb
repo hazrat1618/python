{
 "cells": [
  {
   "cell_type": "markdown",
   "id": "1b6bcafd",
   "metadata": {},
   "source": [
    "        The __bases__ property\n",
    "\n",
    "Now that you understand inheritance, it's time to examine one more property required for PCAP: `__bases__`. The `__bases__` property of a class returns a tuple with all the base classes that the given class inherits from. Take a look:"
   ]
  },
  {
   "cell_type": "code",
   "execution_count": 1,
   "id": "5402fd39",
   "metadata": {},
   "outputs": [],
   "source": [
    "class Vehicle():\n",
    "   pass\n",
    "        \n",
    "class Rideable():\n",
    "   pass\n",
    "      \n",
    "class PetrolVehicle(Vehicle):\n",
    "   pass\n",
    "        \n",
    "class Car(PetrolVehicle, Rideable):\n",
    "   pass"
   ]
  },
  {
   "cell_type": "code",
   "execution_count": 2,
   "id": "1eb6ee59",
   "metadata": {},
   "outputs": [
    {
     "name": "stdout",
     "output_type": "stream",
     "text": [
      "(<class 'object'>,)\n",
      "(<class 'object'>,)\n"
     ]
    }
   ],
   "source": [
    "# bases for Vehicle and Rideable\n",
    "print(Vehicle.__bases__)\n",
    "print(Rideable.__bases__)"
   ]
  },
  {
   "cell_type": "markdown",
   "id": "dee78305",
   "metadata": {},
   "source": [
    "These two classes have no base classes defined within their brackets. However, you will see `__bases__` return `(<class 'object'>,)` for them. The reason why these classes inherit automatically from object is mostly historical. You do not need to worry about it in any way -- just keep in mind you will see object returned by `__bases__` in such cases."
   ]
  },
  {
   "cell_type": "code",
   "execution_count": 3,
   "id": "5346541e",
   "metadata": {},
   "outputs": [
    {
     "name": "stdout",
     "output_type": "stream",
     "text": [
      "(<class '__main__.Vehicle'>,)\n"
     ]
    }
   ],
   "source": [
    "# bases for PetorlVehicle\n",
    "print(PetrolVehicle.__bases__)"
   ]
  },
  {
   "cell_type": "markdown",
   "id": "e0d8d2d7",
   "metadata": {},
   "source": [
    "This will return `(<class '__main__.Vehicle'>,)`, as Vehicle is the only direct parent class for PetrolVehicle."
   ]
  },
  {
   "cell_type": "code",
   "execution_count": 4,
   "id": "e30d47ed",
   "metadata": {},
   "outputs": [
    {
     "name": "stdout",
     "output_type": "stream",
     "text": [
      "(<class '__main__.PetrolVehicle'>, <class '__main__.Rideable'>)\n"
     ]
    }
   ],
   "source": [
    "# bases for Car\n",
    "print(Car.__bases__)"
   ]
  },
  {
   "cell_type": "markdown",
   "id": "51e0cf1d",
   "metadata": {},
   "source": [
    "This will return `(<class '__main__.PetrolVehicle'>`, `<class '__main__.Rideable'>)`, as Car has two direct parent classes: PetrolVehicle and Rideable. We cannot see Vehicle here because Car inherits from it indirectly through PetrolVehicle."
   ]
  }
 ],
 "metadata": {
  "kernelspec": {
   "display_name": "venv",
   "language": "python",
   "name": "python3"
  },
  "language_info": {
   "codemirror_mode": {
    "name": "ipython",
    "version": 3
   },
   "file_extension": ".py",
   "mimetype": "text/x-python",
   "name": "python",
   "nbconvert_exporter": "python",
   "pygments_lexer": "ipython3",
   "version": "3.9.6"
  }
 },
 "nbformat": 4,
 "nbformat_minor": 5
}
