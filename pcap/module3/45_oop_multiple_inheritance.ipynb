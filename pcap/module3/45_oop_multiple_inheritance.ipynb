{
 "cells": [
  {
   "cell_type": "code",
   "execution_count": 3,
   "id": "9511fa66",
   "metadata": {},
   "outputs": [],
   "source": [
    "class Vehicle():\n",
    "    def go(self):\n",
    "        print('Going!')\n",
    "\n",
    "class Flyable():\n",
    "    def fly(self):\n",
    "        print('Flying')\n",
    "\n",
    "class Airplane(Vehicle, Flyable):\n",
    "    pass"
   ]
  },
  {
   "cell_type": "code",
   "execution_count": 5,
   "id": "f67d37f5",
   "metadata": {},
   "outputs": [
    {
     "name": "stdout",
     "output_type": "stream",
     "text": [
      "Going!\n",
      "Flying\n"
     ]
    }
   ],
   "source": [
    "my_plane = Airplane()\n",
    "my_plane.go()\n",
    "my_plane.fly()"
   ]
  },
  {
   "cell_type": "code",
   "execution_count": 6,
   "id": "32ed36d1",
   "metadata": {},
   "outputs": [],
   "source": [
    "class Vehicle():\n",
    "    def go(self):\n",
    "        print('Going!')\n",
    "\n",
    "    def introduce(self):\n",
    "        print('I am a Vehicle')\n",
    "class Flyable():\n",
    "    def fly(self):\n",
    "        print('Flying')\n",
    "\n",
    "    def introduce(self):\n",
    "        print('I am Flyable')\n",
    "\n",
    "class Airplane(Vehicle, Flyable):\n",
    "    pass"
   ]
  },
  {
   "cell_type": "code",
   "execution_count": 8,
   "id": "d0c35997",
   "metadata": {},
   "outputs": [
    {
     "name": "stdout",
     "output_type": "stream",
     "text": [
      "I am a Vehicle\n"
     ]
    }
   ],
   "source": [
    "my_plane = Airplane()\n",
    "my_plane.introduce()"
   ]
  },
  {
   "cell_type": "markdown",
   "id": "ea248cc3",
   "metadata": {},
   "source": [
    "MRO (Method Resolution Order) -> explains how a prog lang tries to find the method that is currently needed\n",
    "\n",
    "Python's MRO:\n",
    "- Look inside the object\n",
    "- If not found, look in the superclasses from left to right\n",
    "- If not found, show an error"
   ]
  },
  {
   "cell_type": "code",
   "execution_count": 10,
   "id": "f11e6d3e",
   "metadata": {},
   "outputs": [],
   "source": [
    "class Vehicle():\n",
    "    def go(self):\n",
    "        print('Going!')\n",
    "\n",
    "    def introduce(self):\n",
    "        print('I am a Vehicle')\n",
    "class Flyable():\n",
    "    def fly(self):\n",
    "        print('Flying')\n",
    "\n",
    "    def introduce(self):\n",
    "        print('I am Flyable')\n",
    "\n",
    "class Airplane(Flyable, Vehicle):\n",
    "    pass"
   ]
  },
  {
   "cell_type": "code",
   "execution_count": 11,
   "id": "2028ad30",
   "metadata": {},
   "outputs": [
    {
     "name": "stdout",
     "output_type": "stream",
     "text": [
      "I am Flyable\n"
     ]
    }
   ],
   "source": [
    "my_plane = Airplane()\n",
    "my_plane.introduce()"
   ]
  },
  {
   "cell_type": "code",
   "execution_count": 12,
   "id": "c6e95eeb",
   "metadata": {},
   "outputs": [],
   "source": [
    "class Vehicle():\n",
    "    def go(self):\n",
    "        print('Going!')\n",
    "\n",
    "    def introduce(self):\n",
    "        print('I am a Vehicle')\n",
    "class Flyable():\n",
    "    def fly(self):\n",
    "        print('Flying')\n",
    "\n",
    "    def introduce(self):\n",
    "        print('I am Flyable')\n",
    "\n",
    "class Airplane(Flyable, Vehicle):\n",
    "    def introduce(self):\n",
    "        print('I am an Airplane')"
   ]
  },
  {
   "cell_type": "code",
   "execution_count": 13,
   "id": "19c91197",
   "metadata": {},
   "outputs": [
    {
     "name": "stdout",
     "output_type": "stream",
     "text": [
      "I am an Airplane\n"
     ]
    }
   ],
   "source": [
    "my_plane = Airplane()\n",
    "my_plane.introduce()"
   ]
  }
 ],
 "metadata": {
  "kernelspec": {
   "display_name": "venv",
   "language": "python",
   "name": "python3"
  },
  "language_info": {
   "codemirror_mode": {
    "name": "ipython",
    "version": 3
   },
   "file_extension": ".py",
   "mimetype": "text/x-python",
   "name": "python",
   "nbconvert_exporter": "python",
   "pygments_lexer": "ipython3",
   "version": "3.9.6"
  }
 },
 "nbformat": 4,
 "nbformat_minor": 5
}
