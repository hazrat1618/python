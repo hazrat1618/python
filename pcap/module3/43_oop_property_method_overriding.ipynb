{
 "cells": [
  {
   "cell_type": "code",
   "execution_count": null,
   "id": "8cd845fd",
   "metadata": {},
   "outputs": [],
   "source": [
    "class Animal():\n",
    "    def __init__(self):\n",
    "        self.species = 'general'\n",
    "\n",
    "    def produce_sound(self):\n",
    "        print('General animal sound')\n",
    "        \n",
    "class Dog(Animal):\n",
    "    pass"
   ]
  },
  {
   "cell_type": "code",
   "execution_count": 2,
   "id": "d70e4ef9",
   "metadata": {},
   "outputs": [
    {
     "name": "stdout",
     "output_type": "stream",
     "text": [
      "general\n",
      "General animal sound\n"
     ]
    }
   ],
   "source": [
    "my_pet = Dog()\n",
    "print(my_pet.species)\n",
    "my_pet.produce_sound()"
   ]
  },
  {
   "cell_type": "markdown",
   "id": "507a97cc",
   "metadata": {},
   "source": [
    "- Method overriding is an ability of any object-oriented programming language that allows a subclass or child class to provide implementation of a method that is already provided by one of its super-classes or parent classes \n",
    "- method overriding refers to defining a method in a subclass with the same name as a method in its superclass"
   ]
  },
  {
   "cell_type": "markdown",
   "id": "e062d6ed",
   "metadata": {},
   "source": [
    "OOP principle:\n",
    "- encapsulation\n",
    "- abstraction\n",
    "- polymorphism --> is the ability of classes to take different forms\n",
    "- inheritance"
   ]
  },
  {
   "cell_type": "code",
   "execution_count": 3,
   "id": "7cd55aa7",
   "metadata": {},
   "outputs": [],
   "source": [
    "class Animal():\n",
    "    def __init__(self):\n",
    "        self.species = 'general'\n",
    "\n",
    "    def produce_sound(self):\n",
    "        print('General animal sound')\n",
    "\n",
    "class Dog(Animal):\n",
    "    def __init__(self):\n",
    "        self.species = 'Canis familiaris'\n",
    "\n",
    "    def produce_sound(self):\n",
    "        print('woof, woof!')"
   ]
  },
  {
   "cell_type": "code",
   "execution_count": 4,
   "id": "4076d77f",
   "metadata": {},
   "outputs": [
    {
     "name": "stdout",
     "output_type": "stream",
     "text": [
      "Canis familiaris\n",
      "woof, woof!\n"
     ]
    }
   ],
   "source": [
    "my_pet = Dog()\n",
    "print(my_pet.species)\n",
    "my_pet.produce_sound()"
   ]
  },
  {
   "cell_type": "code",
   "execution_count": 5,
   "id": "ad8fb666",
   "metadata": {},
   "outputs": [
    {
     "name": "stdout",
     "output_type": "stream",
     "text": [
      "General animal sound\n",
      "woof, woof!\n"
     ]
    }
   ],
   "source": [
    "my_first_pet = Animal()\n",
    "my_second_pet = Dog()\n",
    "\n",
    "my_first_pet.produce_sound()\n",
    "my_second_pet.produce_sound()"
   ]
  },
  {
   "cell_type": "code",
   "execution_count": 7,
   "id": "b032eaba",
   "metadata": {},
   "outputs": [],
   "source": [
    "class Animal():\n",
    "    def __init__(self):\n",
    "        self.species = 'general'\n",
    "\n",
    "    def produce_sound(self):\n",
    "        print('General animal sound')\n",
    "\n",
    "    def present(self):\n",
    "        print('I can do the following sound: ')\n",
    "        self.produce_sound()\n",
    "\n",
    "class Dog(Animal):\n",
    "    def __init__(self):\n",
    "        self.species = 'Canis familiaris'\n",
    "\n",
    "    def produce_sound(self):\n",
    "        print('woof, woof!')"
   ]
  },
  {
   "cell_type": "code",
   "execution_count": 9,
   "id": "3710be93",
   "metadata": {},
   "outputs": [
    {
     "name": "stdout",
     "output_type": "stream",
     "text": [
      "I can do the following sound: \n",
      "General animal sound\n",
      "\n",
      "I can do the following sound: \n",
      "woof, woof!\n"
     ]
    }
   ],
   "source": [
    "my_first_pet = Animal()\n",
    "my_second_pet = Dog()\n",
    "\n",
    "my_first_pet.present()\n",
    "print()\n",
    "my_second_pet.present()"
   ]
  }
 ],
 "metadata": {
  "kernelspec": {
   "display_name": "venv",
   "language": "python",
   "name": "python3"
  },
  "language_info": {
   "codemirror_mode": {
    "name": "ipython",
    "version": 3
   },
   "file_extension": ".py",
   "mimetype": "text/x-python",
   "name": "python",
   "nbconvert_exporter": "python",
   "pygments_lexer": "ipython3",
   "version": "3.9.6"
  }
 },
 "nbformat": 4,
 "nbformat_minor": 5
}
