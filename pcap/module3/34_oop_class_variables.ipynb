{
 "cells": [
  {
   "cell_type": "code",
   "execution_count": 4,
   "id": "b31771ed",
   "metadata": {},
   "outputs": [
    {
     "name": "stdout",
     "output_type": "stream",
     "text": [
      "3\n",
      "3\n",
      "3\n"
     ]
    }
   ],
   "source": [
    "class Dog():\n",
    "    counter = 0\n",
    "    def __init__(self, name, age):\n",
    "        self.__name = name\n",
    "        self.age = age\n",
    "        Dog.counter += 1\n",
    "\n",
    "my_pet = Dog('Teddy', 2)\n",
    "kates_pet = Dog('Foxy', 5)\n",
    "adams_pet = Dog('Luna', 1)\n",
    "\n",
    "print(my_pet.counter)\n",
    "print(kates_pet.counter)\n",
    "print(adams_pet.counter)"
   ]
  },
  {
   "cell_type": "code",
   "execution_count": 5,
   "id": "50753e8a",
   "metadata": {},
   "outputs": [
    {
     "data": {
      "text/plain": [
       "{'_Dog__name': 'Teddy', 'age': 2}"
      ]
     },
     "execution_count": 5,
     "metadata": {},
     "output_type": "execute_result"
    }
   ],
   "source": [
    "my_pet.__dict__"
   ]
  },
  {
   "cell_type": "code",
   "execution_count": 7,
   "id": "f3d2bea9",
   "metadata": {},
   "outputs": [
    {
     "data": {
      "text/plain": [
       "{'_Dog__name': 'Foxy', 'age': 5}"
      ]
     },
     "execution_count": 7,
     "metadata": {},
     "output_type": "execute_result"
    }
   ],
   "source": [
    "kates_pet.__dict__"
   ]
  },
  {
   "cell_type": "code",
   "execution_count": 6,
   "id": "329a6653",
   "metadata": {},
   "outputs": [
    {
     "name": "stdout",
     "output_type": "stream",
     "text": [
      "3\n"
     ]
    }
   ],
   "source": [
    "print(Dog.counter)"
   ]
  },
  {
   "cell_type": "code",
   "execution_count": 16,
   "id": "d4df8dc0",
   "metadata": {},
   "outputs": [],
   "source": [
    "class Dog():\n",
    "    __counter = 0\n",
    "    def __init__(self, name, age):\n",
    "        self.__name = name\n",
    "        self.age = age\n",
    "        Dog.__counter += 1"
   ]
  },
  {
   "cell_type": "code",
   "execution_count": 17,
   "id": "98eec1db",
   "metadata": {},
   "outputs": [
    {
     "name": "stdout",
     "output_type": "stream",
     "text": [
      "0\n"
     ]
    }
   ],
   "source": [
    "print(Dog._Dog__counter)"
   ]
  },
  {
   "cell_type": "code",
   "execution_count": 19,
   "id": "c9b997fe",
   "metadata": {},
   "outputs": [
    {
     "name": "stdout",
     "output_type": "stream",
     "text": [
      "{'__module__': '__main__', '_Dog__counter': 0, '__init__': <function Dog.__init__ at 0x7f9f799fc940>, '__dict__': <attribute '__dict__' of 'Dog' objects>, '__weakref__': <attribute '__weakref__' of 'Dog' objects>, '__doc__': None}\n"
     ]
    }
   ],
   "source": [
    "print(Dog.__dict__)"
   ]
  },
  {
   "cell_type": "code",
   "execution_count": 22,
   "id": "a20fd8d1",
   "metadata": {},
   "outputs": [
    {
     "name": "stdout",
     "output_type": "stream",
     "text": [
      "My pet is called Tom\n",
      "The Dog class has a counter!\n"
     ]
    }
   ],
   "source": [
    "# hassatr() -->\n",
    "class Dog():\n",
    "    counter = 0\n",
    "    def __init__(self, name, age):\n",
    "        self.name = name\n",
    "        self.age = age\n",
    "        Dog.counter += 1\n",
    "\n",
    "my_pet = Dog('Tom', 5)\n",
    "\n",
    "if hasattr(my_pet, 'name'):\n",
    "    print('My pet is called', my_pet.name)\n",
    "else:\n",
    "    print('My pet has no name')\n",
    "\n",
    "if hasattr(Dog, 'counter'):\n",
    "    print('The Dog class has a counter!')\n",
    "else:\n",
    "    print('the Dog class does not have a counter!')"
   ]
  },
  {
   "cell_type": "code",
   "execution_count": 23,
   "id": "c5337522",
   "metadata": {},
   "outputs": [
    {
     "name": "stdout",
     "output_type": "stream",
     "text": [
      "Dog\n"
     ]
    }
   ],
   "source": [
    "print(Dog.__name__)"
   ]
  },
  {
   "cell_type": "code",
   "execution_count": 24,
   "id": "48fa632d",
   "metadata": {},
   "outputs": [
    {
     "data": {
      "text/plain": [
       "'Dog'"
      ]
     },
     "execution_count": 24,
     "metadata": {},
     "output_type": "execute_result"
    }
   ],
   "source": [
    "my_pet = Dog('Tom', 5)\n",
    "\n",
    "type(my_pet).__name__"
   ]
  },
  {
   "cell_type": "code",
   "execution_count": 25,
   "id": "cc800678",
   "metadata": {},
   "outputs": [
    {
     "name": "stdout",
     "output_type": "stream",
     "text": [
      "__main__\n"
     ]
    }
   ],
   "source": [
    "print(Dog.__module__)"
   ]
  }
 ],
 "metadata": {
  "kernelspec": {
   "display_name": ".venv",
   "language": "python",
   "name": "python3"
  },
  "language_info": {
   "codemirror_mode": {
    "name": "ipython",
    "version": 3
   },
   "file_extension": ".py",
   "mimetype": "text/x-python",
   "name": "python",
   "nbconvert_exporter": "python",
   "pygments_lexer": "ipython3",
   "version": "3.9.21"
  }
 },
 "nbformat": 4,
 "nbformat_minor": 5
}
