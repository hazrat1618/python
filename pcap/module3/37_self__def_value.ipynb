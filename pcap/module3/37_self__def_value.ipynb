{
 "cells": [
  {
   "cell_type": "markdown",
   "id": "8c7d0e40",
   "metadata": {},
   "source": [
    "A tricky question that you may encounter in the exam is the following: can you provide a default value for the first parameter of a constructor (typically name self)?\n",
    "\n",
    "The answer is: you can do that, but the value will be simply ignored by Python."
   ]
  },
  {
   "cell_type": "code",
   "execution_count": 4,
   "id": "4d003639",
   "metadata": {},
   "outputs": [
    {
     "name": "stdout",
     "output_type": "stream",
     "text": [
      "100\n"
     ]
    }
   ],
   "source": [
    "class Car():\n",
    "    def __init__(self='default value', speed=100):\n",
    "        self.speed = speed\n",
    "\n",
    "my_toyota = Car()\n",
    "print(my_toyota.speed)      # def value for self ignored"
   ]
  }
 ],
 "metadata": {
  "kernelspec": {
   "display_name": ".venv",
   "language": "python",
   "name": "python3"
  },
  "language_info": {
   "codemirror_mode": {
    "name": "ipython",
    "version": 3
   },
   "file_extension": ".py",
   "mimetype": "text/x-python",
   "name": "python",
   "nbconvert_exporter": "python",
   "pygments_lexer": "ipython3",
   "version": "3.9.16"
  }
 },
 "nbformat": 4,
 "nbformat_minor": 5
}
