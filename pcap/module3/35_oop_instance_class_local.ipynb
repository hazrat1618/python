{
 "cells": [
  {
   "cell_type": "code",
   "execution_count": null,
   "id": "06d9e0d0",
   "metadata": {},
   "outputs": [
    {
     "name": "stdout",
     "output_type": "stream",
     "text": [
      "low medium high\n",
      "The house at 12 Lexington St, Soho has an are aof 130 and costs 540000\n",
      "1\n"
     ]
    }
   ],
   "source": [
    "class House():\n",
    "    counter = 0\n",
    "    def __init__(self, address, area, price):\n",
    "        self.address = address  # self ones area instance var\n",
    "        self.area = area \n",
    "        self.price = price\n",
    "        House.counter += 1      # This one is class var. We use name of class\n",
    "\n",
    "        House.quality = 'low'   # local var\n",
    "        self.quality = 'medium'\n",
    "        quality = 'high'\n",
    "\n",
    "        print(House.quality, self.quality, quality)\n",
    "\n",
    "    def present(self):\n",
    "        print('The house at', self.address, 'has an are aof', self.area, 'and costs', self.price)\n",
    "\n",
    "soho_house = House('12 Lexington St, Soho', 130, 540000)\n",
    "soho_house.present()\n",
    "print(House.counter)"
   ]
  },
  {
   "cell_type": "code",
   "execution_count": 8,
   "id": "7e37389a",
   "metadata": {},
   "outputs": [
    {
     "name": "stdout",
     "output_type": "stream",
     "text": [
      "medium\n",
      "low\n"
     ]
    }
   ],
   "source": [
    "print(soho_house.quality)\n",
    "print(House.quality)"
   ]
  }
 ],
 "metadata": {
  "kernelspec": {
   "display_name": ".venv",
   "language": "python",
   "name": "python3"
  },
  "language_info": {
   "codemirror_mode": {
    "name": "ipython",
    "version": 3
   },
   "file_extension": ".py",
   "mimetype": "text/x-python",
   "name": "python",
   "nbconvert_exporter": "python",
   "pygments_lexer": "ipython3",
   "version": "3.9.21"
  }
 },
 "nbformat": 4,
 "nbformat_minor": 5
}
