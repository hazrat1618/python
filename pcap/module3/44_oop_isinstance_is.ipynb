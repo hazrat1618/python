{
 "cells": [
  {
   "cell_type": "code",
   "execution_count": 13,
   "id": "53ead032",
   "metadata": {},
   "outputs": [],
   "source": [
    "class Vehicle:  # Superclass (base class)\n",
    "    def __init__(self, speed):\n",
    "        self.speed = speed\n",
    "\n",
    "class LandVehicle(Vehicle):     # Subclass of Vehicles\n",
    "    def __init__(self, speed, wheel_count):\n",
    "        super().__init__(speed)     # calls Vehicle's __init__ -> Vehicle.__init__(self, speed)\n",
    "        self.wheel_count = wheel_count\n",
    "\n",
    "class Car(LandVehicle):     # Subclass of LandVehicle and Vehicle\n",
    "    pass"
   ]
  },
  {
   "cell_type": "code",
   "execution_count": 14,
   "id": "2fc75906",
   "metadata": {},
   "outputs": [],
   "source": [
    "my_vehicle = Vehicle(50)    # Object of Vehicle class\n",
    "my_land_vehicle = LandVehicle(50, 4)    # Object of LandVehicle class (which is subclass of Vehicle)\n",
    "my_car = Car(60, 4)  # Object of Car class "
   ]
  },
  {
   "cell_type": "markdown",
   "id": "8744af58",
   "metadata": {},
   "source": [
    "- isinstance(object, class) --> checks if the obj is an instance of the given class or subclass\n",
    "   \n",
    "        Syntax: isinstance(object, class_or_tuple)"
   ]
  },
  {
   "cell_type": "code",
   "execution_count": 15,
   "id": "fbc46358",
   "metadata": {},
   "outputs": [
    {
     "name": "stdout",
     "output_type": "stream",
     "text": [
      "True\n",
      "True\n",
      "True\n"
     ]
    }
   ],
   "source": [
    "print(isinstance(my_vehicle, Vehicle))\n",
    "print(isinstance(my_land_vehicle, Vehicle))\n",
    "print(isinstance(my_car, Vehicle))"
   ]
  },
  {
   "cell_type": "code",
   "execution_count": 16,
   "id": "1783620f",
   "metadata": {},
   "outputs": [
    {
     "name": "stdout",
     "output_type": "stream",
     "text": [
      "False\n",
      "False\n",
      "True\n"
     ]
    }
   ],
   "source": [
    "print(isinstance(my_vehicle, Car))\n",
    "print(isinstance(my_land_vehicle, Car))\n",
    "print(isinstance(my_car, Car))"
   ]
  },
  {
   "cell_type": "code",
   "execution_count": 17,
   "id": "35acdf6f",
   "metadata": {},
   "outputs": [],
   "source": [
    "my_vehicle = Vehicle(60)\n",
    "my_new_vehicle = my_vehicle"
   ]
  },
  {
   "cell_type": "code",
   "execution_count": 18,
   "id": "441fddd0",
   "metadata": {},
   "outputs": [
    {
     "name": "stdout",
     "output_type": "stream",
     "text": [
      "True\n"
     ]
    }
   ],
   "source": [
    "print(my_vehicle is my_new_vehicle)"
   ]
  },
  {
   "cell_type": "markdown",
   "id": "bfc9f999",
   "metadata": {},
   "source": [
    "The \"is\" keyword in Python is used to check object identity, not just equality\n",
    "\n",
    "ex: a is b ( Do a and b point to exact same object in memory?)\n",
    "\n",
    "- a == b -> same value\n",
    "- a is b -> same object (same memory address)"
   ]
  },
  {
   "cell_type": "code",
   "execution_count": 19,
   "id": "a39dcab1",
   "metadata": {},
   "outputs": [
    {
     "name": "stdout",
     "output_type": "stream",
     "text": [
      "{'speed': 60} {'speed': 60}\n",
      "{'speed': 30} {'speed': 30}\n"
     ]
    }
   ],
   "source": [
    "print(my_vehicle.__dict__, my_new_vehicle.__dict__)\n",
    "my_vehicle.speed = 30\n",
    "print(my_vehicle.__dict__, my_new_vehicle.__dict__)"
   ]
  },
  {
   "cell_type": "code",
   "execution_count": 20,
   "id": "1e466990",
   "metadata": {},
   "outputs": [],
   "source": [
    "my_vehicle = Vehicle(60)\n",
    "my_new_vehicle = Vehicle(60)"
   ]
  },
  {
   "cell_type": "code",
   "execution_count": 21,
   "id": "b8b110d8",
   "metadata": {},
   "outputs": [
    {
     "name": "stdout",
     "output_type": "stream",
     "text": [
      "{'speed': 60} {'speed': 60}\n",
      "{'speed': 30} {'speed': 60}\n"
     ]
    }
   ],
   "source": [
    "print(my_vehicle.__dict__, my_new_vehicle.__dict__)\n",
    "my_vehicle.speed = 30\n",
    "print(my_vehicle.__dict__, my_new_vehicle.__dict__)"
   ]
  },
  {
   "cell_type": "code",
   "execution_count": 22,
   "id": "3b8c1f5f",
   "metadata": {},
   "outputs": [
    {
     "name": "stdout",
     "output_type": "stream",
     "text": [
      "True\n"
     ]
    }
   ],
   "source": [
    "first_num = 5\n",
    "second_num = 5\n",
    "print(first_num is second_num)"
   ]
  },
  {
   "cell_type": "code",
   "execution_count": 23,
   "id": "d337f668",
   "metadata": {},
   "outputs": [
    {
     "name": "stdout",
     "output_type": "stream",
     "text": [
      "True\n"
     ]
    }
   ],
   "source": [
    "first_num = 5\n",
    "second_num = 2\n",
    "second_num += 3\n",
    "print(first_num is second_num)"
   ]
  },
  {
   "cell_type": "code",
   "execution_count": 24,
   "id": "512db6e6",
   "metadata": {},
   "outputs": [
    {
     "name": "stdout",
     "output_type": "stream",
     "text": [
      "True\n"
     ]
    }
   ],
   "source": [
    "first_str = 'hello'\n",
    "second_str = 'hello'\n",
    "print(first_str is second_str)"
   ]
  },
  {
   "cell_type": "code",
   "execution_count": null,
   "id": "985e3c88",
   "metadata": {},
   "outputs": [
    {
     "name": "stdout",
     "output_type": "stream",
     "text": [
      "False\n",
      "True\n"
     ]
    }
   ],
   "source": [
    "first_str = 'hello'\n",
    "second_str = 'hell'\n",
    "second_str += 'o'\n",
    "print(first_str is second_str)  # two different objects in memory\n",
    "print(first_str == second_str)  # same str value"
   ]
  }
 ],
 "metadata": {
  "kernelspec": {
   "display_name": "venv",
   "language": "python",
   "name": "python3"
  },
  "language_info": {
   "codemirror_mode": {
    "name": "ipython",
    "version": 3
   },
   "file_extension": ".py",
   "mimetype": "text/x-python",
   "name": "python",
   "nbconvert_exporter": "python",
   "pygments_lexer": "ipython3",
   "version": "3.9.6"
  }
 },
 "nbformat": 4,
 "nbformat_minor": 5
}
