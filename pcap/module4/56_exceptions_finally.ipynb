{
 "cells": [
  {
   "cell_type": "markdown",
   "id": "b4c9ce55",
   "metadata": {},
   "source": [
    "Finally block comes at end of Except and even Else block.\n",
    "\n",
    "        The Finally block is executed always, no matter if an exception is raised or not, handled or not"
   ]
  },
  {
   "cell_type": "code",
   "execution_count": 1,
   "id": "e32f037c",
   "metadata": {},
   "outputs": [],
   "source": [
    "def get_inverse(x):\n",
    "    try:\n",
    "        return 1 / x\n",
    "    except ZeroDivisionError:\n",
    "        return None\n",
    "    finally:\n",
    "        print('I am always printed!')"
   ]
  },
  {
   "cell_type": "code",
   "execution_count": 2,
   "id": "7830628a",
   "metadata": {},
   "outputs": [
    {
     "name": "stdout",
     "output_type": "stream",
     "text": [
      "I am always printed!\n",
      "0.2\n"
     ]
    }
   ],
   "source": [
    "print(get_inverse(5))"
   ]
  },
  {
   "cell_type": "code",
   "execution_count": 3,
   "id": "a58c4da3",
   "metadata": {},
   "outputs": [
    {
     "name": "stdout",
     "output_type": "stream",
     "text": [
      "I am always printed!\n",
      "None\n"
     ]
    }
   ],
   "source": [
    "print(get_inverse(0))"
   ]
  },
  {
   "cell_type": "markdown",
   "id": "43ee26ed",
   "metadata": {},
   "source": [
    "The `finally` block is executed before the func finishes and returns actual number"
   ]
  }
 ],
 "metadata": {
  "kernelspec": {
   "display_name": "venv",
   "language": "python",
   "name": "python3"
  },
  "language_info": {
   "codemirror_mode": {
    "name": "ipython",
    "version": 3
   },
   "file_extension": ".py",
   "mimetype": "text/x-python",
   "name": "python",
   "nbconvert_exporter": "python",
   "pygments_lexer": "ipython3",
   "version": "3.9.6"
  }
 },
 "nbformat": 4,
 "nbformat_minor": 5
}
