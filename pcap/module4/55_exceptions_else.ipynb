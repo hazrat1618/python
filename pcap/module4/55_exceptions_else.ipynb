{
 "cells": [
  {
   "cell_type": "markdown",
   "id": "c6192841",
   "metadata": {},
   "source": [
    "- Try and Except statements can also use Else blocks\n",
    "\n",
    "- `Else` block will be executed if the `Except` block doesn't get executed\n",
    "- In other words, `Else` block is run when no exception is raised in `Try` block"
   ]
  },
  {
   "cell_type": "code",
   "execution_count": 1,
   "id": "e0b18d0a",
   "metadata": {},
   "outputs": [
    {
     "name": "stdout",
     "output_type": "stream",
     "text": [
      "Something went wrong\n"
     ]
    }
   ],
   "source": [
    "try:\n",
    "    value = int(input('Enter an int: '))\n",
    "    print(1/value)\n",
    "except:\n",
    "    print('Something went wrong')\n",
    "else:\n",
    "    print('Everything is perfect')  # inp 0"
   ]
  },
  {
   "cell_type": "code",
   "execution_count": 2,
   "id": "af1c1c9f",
   "metadata": {},
   "outputs": [
    {
     "name": "stdout",
     "output_type": "stream",
     "text": [
      "1.0\n",
      "Everything is perfect\n"
     ]
    }
   ],
   "source": [
    "try:\n",
    "    value = int(input('Enter an int: '))\n",
    "    print(1/value)\n",
    "except:\n",
    "    print('Something went wrong')\n",
    "else:\n",
    "    print('Everything is perfect')  # inp 1"
   ]
  }
 ],
 "metadata": {
  "kernelspec": {
   "display_name": "venv",
   "language": "python",
   "name": "python3"
  },
  "language_info": {
   "codemirror_mode": {
    "name": "ipython",
    "version": 3
   },
   "file_extension": ".py",
   "mimetype": "text/x-python",
   "name": "python",
   "nbconvert_exporter": "python",
   "pygments_lexer": "ipython3",
   "version": "3.9.6"
  }
 },
 "nbformat": 4,
 "nbformat_minor": 5
}
