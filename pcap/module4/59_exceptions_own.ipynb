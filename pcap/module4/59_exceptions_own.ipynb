{
 "cells": [
  {
   "cell_type": "code",
   "execution_count": 1,
   "id": "8d120c1b",
   "metadata": {},
   "outputs": [],
   "source": [
    "class AnimalValueError(ValueError):\n",
    "    pass\n",
    "\n",
    "def produce_animal_sound(animal_type):\n",
    "    if animal_type == 'Dog':\n",
    "        print('Woof, woof!')\n",
    "    elif animal_type == 'Cat':\n",
    "        print('Meow')\n",
    "    else:\n",
    "        raise AnimalValueError('Incorrect animal type')\n"
   ]
  },
  {
   "cell_type": "code",
   "execution_count": 2,
   "id": "dd4effe3",
   "metadata": {},
   "outputs": [
    {
     "name": "stdout",
     "output_type": "stream",
     "text": [
      "Woof, woof!\n"
     ]
    }
   ],
   "source": [
    "produce_animal_sound('Dog')"
   ]
  },
  {
   "cell_type": "code",
   "execution_count": 3,
   "id": "dfd8d99d",
   "metadata": {},
   "outputs": [
    {
     "ename": "AnimalValueError",
     "evalue": "Incorrect animal type",
     "output_type": "error",
     "traceback": [
      "\u001b[0;31m---------------------------------------------------------------------------\u001b[0m",
      "\u001b[0;31mAnimalValueError\u001b[0m                          Traceback (most recent call last)",
      "Cell \u001b[0;32mIn[3], line 1\u001b[0m\n\u001b[0;32m----> 1\u001b[0m \u001b[43mproduce_animal_sound\u001b[49m\u001b[43m(\u001b[49m\u001b[38;5;124;43m'\u001b[39;49m\u001b[38;5;124;43mHorse\u001b[39;49m\u001b[38;5;124;43m'\u001b[39;49m\u001b[43m)\u001b[49m\n",
      "Cell \u001b[0;32mIn[1], line 10\u001b[0m, in \u001b[0;36mproduce_animal_sound\u001b[0;34m(animal_type)\u001b[0m\n\u001b[1;32m      8\u001b[0m     \u001b[38;5;28mprint\u001b[39m(\u001b[38;5;124m'\u001b[39m\u001b[38;5;124mMeow\u001b[39m\u001b[38;5;124m'\u001b[39m)\n\u001b[1;32m      9\u001b[0m \u001b[38;5;28;01melse\u001b[39;00m:\n\u001b[0;32m---> 10\u001b[0m     \u001b[38;5;28;01mraise\u001b[39;00m AnimalValueError(\u001b[38;5;124m'\u001b[39m\u001b[38;5;124mIncorrect animal type\u001b[39m\u001b[38;5;124m'\u001b[39m)\n",
      "\u001b[0;31mAnimalValueError\u001b[0m: Incorrect animal type"
     ]
    }
   ],
   "source": [
    "produce_animal_sound('Horse')"
   ]
  },
  {
   "cell_type": "code",
   "execution_count": null,
   "id": "79e63cc9",
   "metadata": {},
   "outputs": [
    {
     "name": "stdout",
     "output_type": "stream",
     "text": [
      "Hello Adam\n",
      "UserActionException occurred. Error message: empty name!, userId: DT324\n"
     ]
    }
   ],
   "source": [
    "class UserActionException(Exception):\n",
    "    def __init__(self, message='', user_id=''):\n",
    "        Exception.__init__(self)\n",
    "        self.user_id = user_id  # this is property\n",
    "        self.message = message  # this is property\n",
    "    def __str__(self):\n",
    "        return type(self).__name__ + ' occurred. Error message: ' + self.message + ', userId: ' + self.user_id\n",
    "    \n",
    "def say_hello(name, user_id):\n",
    "    if name == '':\n",
    "        raise UserActionException('empty name!', user_id)\n",
    "    print('Hello', name)\n",
    "\n",
    "try:\n",
    "    say_hello('Adam', 'DT324')\n",
    "    say_hello('', 'DT324')\n",
    "except Exception as e:\n",
    "    print(e)"
   ]
  },
  {
   "cell_type": "code",
   "execution_count": 6,
   "id": "d76106e0",
   "metadata": {},
   "outputs": [],
   "source": [
    "class EmptyNameUserActionException(UserActionException):\n",
    "    def __init__(self, user_id=''):\n",
    "        super().__init__('An empty name was provided', user_id)"
   ]
  },
  {
   "cell_type": "code",
   "execution_count": 7,
   "id": "5ca7c428",
   "metadata": {},
   "outputs": [],
   "source": [
    "def say_hello(name, user_id):\n",
    "    if name == '':\n",
    "        raise EmptyNameUserActionException(user_id)\n",
    "    print('Hello', name)"
   ]
  },
  {
   "cell_type": "code",
   "execution_count": 8,
   "id": "91631dbd",
   "metadata": {},
   "outputs": [
    {
     "name": "stdout",
     "output_type": "stream",
     "text": [
      "Hello Adam\n",
      "EmptyNameUserActionException occurred. Error message: An empty name was provided, userId: DT324\n"
     ]
    }
   ],
   "source": [
    "try:\n",
    "    say_hello('Adam', 'DT324')\n",
    "    say_hello('', 'DT324')\n",
    "except Exception as e:\n",
    "    print(e)"
   ]
  }
 ],
 "metadata": {
  "kernelspec": {
   "display_name": "venv",
   "language": "python",
   "name": "python3"
  },
  "language_info": {
   "codemirror_mode": {
    "name": "ipython",
    "version": 3
   },
   "file_extension": ".py",
   "mimetype": "text/x-python",
   "name": "python",
   "nbconvert_exporter": "python",
   "pygments_lexer": "ipython3",
   "version": "3.9.6"
  }
 },
 "nbformat": 4,
 "nbformat_minor": 5
}
