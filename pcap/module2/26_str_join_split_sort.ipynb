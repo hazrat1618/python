{
 "cells": [
  {
   "cell_type": "code",
   "execution_count": null,
   "id": "95d651c9",
   "metadata": {},
   "outputs": [
    {
     "data": {
      "text/plain": [
       "'This is a spectacular place to be'"
      ]
     },
     "execution_count": 2,
     "metadata": {},
     "output_type": "execute_result"
    }
   ],
   "source": [
    "# .join() func\n",
    "# need to start with a separator, to put between list of str\n",
    "' '.join(['This is', 'a spectacular', 'place to be'])\n"
   ]
  },
  {
   "cell_type": "code",
   "execution_count": 3,
   "id": "77955d32",
   "metadata": {},
   "outputs": [
    {
     "data": {
      "text/plain": [
       "['How', 'many', 'strings', 'will', 'you', 'see?']"
      ]
     },
     "execution_count": 3,
     "metadata": {},
     "output_type": "execute_result"
    }
   ],
   "source": [
    "'How many\\tstrings\\nwill you see?'.split()"
   ]
  },
  {
   "cell_type": "code",
   "execution_count": 10,
   "id": "81afcdfa",
   "metadata": {},
   "outputs": [
    {
     "name": "stdout",
     "output_type": "stream",
     "text": [
      "['Adam', 'Barbara', 'Donna', 'Kate']\n"
     ]
    }
   ],
   "source": [
    "# sorted() -> takes list of arg and retuns sorted one. Original list is unchanged\n",
    "names = ['Adam', 'Kate', 'Barbara', 'Donna']\n",
    "names_sorted = sorted(names)\n",
    "print(names_sorted)"
   ]
  },
  {
   "cell_type": "code",
   "execution_count": 11,
   "id": "f13dc838",
   "metadata": {},
   "outputs": [
    {
     "name": "stdout",
     "output_type": "stream",
     "text": [
      "['Adam', 'Barbara', 'Donna', 'Kate']\n"
     ]
    }
   ],
   "source": [
    "# sort() -> sort original list\n",
    "names = ['Adam', 'Kate', 'Barbara', 'Donna']\n",
    "names.sort()\n",
    "print(names)"
   ]
  },
  {
   "cell_type": "markdown",
   "id": "83e4de57",
   "metadata": {},
   "source": [
    "- sorted() --> creates a sorted copy\n",
    "- sort() --> sorts the original list"
   ]
  }
 ],
 "metadata": {
  "kernelspec": {
   "display_name": "Python 3",
   "language": "python",
   "name": "python3"
  },
  "language_info": {
   "codemirror_mode": {
    "name": "ipython",
    "version": 3
   },
   "file_extension": ".py",
   "mimetype": "text/x-python",
   "name": "python",
   "nbconvert_exporter": "python",
   "pygments_lexer": "ipython3",
   "version": "3.9.21"
  }
 },
 "nbformat": 4,
 "nbformat_minor": 5
}
