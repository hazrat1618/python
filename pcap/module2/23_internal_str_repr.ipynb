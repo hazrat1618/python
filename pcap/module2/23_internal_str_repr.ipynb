{
 "cells": [
  {
   "cell_type": "markdown",
   "id": "7bf141f5",
   "metadata": {},
   "source": [
    "Representation of characters as numbers is called character encoding\n",
    "ASCII --> American Standard Code for Information Interchange (256 diff char)\n",
    "One ASCII char takes 8 bits, or 1 byte\n",
    "In extended ASCII code pages can be char specific for other language: Polish, German\n",
    "i18n = internationalisation (starts with 'i' followed by 18 char, finishes with n)\n"
   ]
  },
  {
   "cell_type": "markdown",
   "id": "8dab5547",
   "metadata": {},
   "source": [
    "    Unicode\n",
    "- no code pages\n",
    "- more than 1 mil char\n",
    "- first 128 char identical with ASCII\n",
    "- 17 different planes (plane is group of similar char)"
   ]
  },
  {
   "cell_type": "markdown",
   "id": "596b4387",
   "metadata": {},
   "source": [
    "    UTF-32\n",
    "- one of possible Unicode implementations\n",
    "- 32 bits per char(4bytes)\n",
    "- because of that, UCS-4 takes a lot of space"
   ]
  },
  {
   "cell_type": "markdown",
   "id": "99193961",
   "metadata": {},
   "source": [
    "    UTF-8\n",
    "- compatible with ASCII\n",
    "- uses as many bits as needed (from 8 to 32bits)\n",
    "- Each ASCII char - 8bits\n",
    "- Most Non-Latin char - 16bits\n",
    "- Chinese, Japanese and Korean char - 24bits\n",
    "- Fully supported by Python"
   ]
  }
 ],
 "metadata": {
  "language_info": {
   "name": "python"
  }
 },
 "nbformat": 4,
 "nbformat_minor": 5
}
