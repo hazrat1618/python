{
 "cells": [
  {
   "cell_type": "code",
   "execution_count": 17,
   "id": "f0f5ddb5",
   "metadata": {},
   "outputs": [
    {
     "name": "stdout",
     "output_type": "stream",
     "text": [
      "interesting\n"
     ]
    }
   ],
   "source": [
    "sample_story = '''Once upon a time, there was a beginner programmer named Alice who was eager to learn Python. She tried to learn from books, but found it difficult to grasp the concepts. One day, she stumbled upon an online course.\n",
    "\n",
    "Alice was thrilled. The course was taught by a well-known programmer who made the lessons interesting and easy to understand. The course covered everything a beginner programmer needed, and Alice was finally able to understand how to code in Python.'''\n",
    "\n",
    "def get_longest_word(input_string):\n",
    "    words = input_string.split()\n",
    "    longest = \"\"\n",
    "    for word in words:\n",
    "        if len(word) > len(longest):\n",
    "            longest = word\n",
    "    return longest\n",
    "\n",
    "print(get_longest_word(sample_story))"
   ]
  },
  {
   "cell_type": "code",
   "execution_count": 19,
   "id": "680bfb94",
   "metadata": {},
   "outputs": [
    {
     "name": "stdout",
     "output_type": "stream",
     "text": [
      "interesting\n"
     ]
    }
   ],
   "source": [
    "# guys solution\n",
    "sample_story = '''Once upon a time, there was a beginner programmer named Alice who was eager to learn Python. She tried to learn from books, but found it difficult to grasp the concepts. One day, she stumbled upon an online course.\n",
    "\n",
    "Alice was thrilled. The course was taught by a well-known programmer who made the lessons interesting and easy to understand. The course covered everything a beginner programmer needed, and Alice was finally able to understand how to code in Python.'''\n",
    "\n",
    "def get_longest_word(input_string):\n",
    "    words = input_string.replace('.', ' ').replace(',', ' ').split()\n",
    "    temp_max_word = \"\"\n",
    " \n",
    "    for word in words:\n",
    "      if len(word) > len(temp_max_word):\n",
    "        temp_max_word = word\n",
    "    \n",
    "    return temp_max_word\n",
    "\n",
    "print(get_longest_word(sample_story))\n",
    "\n"
   ]
  }
 ],
 "metadata": {
  "kernelspec": {
   "display_name": "Python 3",
   "language": "python",
   "name": "python3"
  },
  "language_info": {
   "codemirror_mode": {
    "name": "ipython",
    "version": 3
   },
   "file_extension": ".py",
   "mimetype": "text/x-python",
   "name": "python",
   "nbconvert_exporter": "python",
   "pygments_lexer": "ipython3",
   "version": "3.9.21"
  }
 },
 "nbformat": 4,
 "nbformat_minor": 5
}
