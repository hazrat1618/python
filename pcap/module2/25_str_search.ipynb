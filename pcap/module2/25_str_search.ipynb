{
 "cells": [
  {
   "cell_type": "code",
   "execution_count": null,
   "id": "b1097aaf",
   "metadata": {},
   "outputs": [
    {
     "data": {
      "text/plain": [
       "7"
      ]
     },
     "execution_count": 1,
     "metadata": {},
     "output_type": "execute_result"
    }
   ],
   "source": [
    "# .index() func --> returns the index of the 1st occurence of given value\n",
    "# returns error if won't find\n",
    "# can be used with various types of seq like str or lists\n",
    "'ilovetravellingaroundtheworld'.index('a')"
   ]
  },
  {
   "cell_type": "code",
   "execution_count": null,
   "id": "b552715c",
   "metadata": {},
   "outputs": [
    {
     "name": "stdout",
     "output_type": "stream",
     "text": [
      "2\n",
      "2\n"
     ]
    }
   ],
   "source": [
    "#   .find() func --> looks for a given char or substring and returns the index of its 1st occurence\n",
    "# safer to use, returns -1, if won't find\n",
    "# only works with str\n",
    "my_text = 'This is my sample string'\n",
    "print(my_text.index('is'))\n",
    "print(my_text.find('is'))\n"
   ]
  },
  {
   "cell_type": "code",
   "execution_count": 4,
   "id": "9fb68df2",
   "metadata": {},
   "outputs": [
    {
     "name": "stdout",
     "output_type": "stream",
     "text": [
      "-1\n"
     ]
    }
   ],
   "source": [
    "my_text = 'This is my sample string'\n",
    "# print(my_text.index('are'))\n",
    "print(my_text.find('are'))"
   ]
  },
  {
   "cell_type": "code",
   "execution_count": 6,
   "id": "396da5d3",
   "metadata": {},
   "outputs": [
    {
     "data": {
      "text/plain": [
       "-1"
      ]
     },
     "execution_count": 6,
     "metadata": {},
     "output_type": "execute_result"
    }
   ],
   "source": [
    "my_text = 'This is my sample string'\n",
    "my_text.find('is', 10)"
   ]
  },
  {
   "cell_type": "code",
   "execution_count": 7,
   "id": "a8d0c1e8",
   "metadata": {},
   "outputs": [
    {
     "data": {
      "text/plain": [
       "-1"
      ]
     },
     "execution_count": 7,
     "metadata": {},
     "output_type": "execute_result"
    }
   ],
   "source": [
    "my_text = 'This is my sample string'\n",
    "my_text.find('is', 10, 15)"
   ]
  },
  {
   "cell_type": "code",
   "execution_count": null,
   "id": "697e3ec7",
   "metadata": {},
   "outputs": [
    {
     "name": "stdout",
     "output_type": "stream",
     "text": [
      "0\n",
      "10\n",
      "5\n",
      "10\n",
      "-1\n",
      "-1\n"
     ]
    }
   ],
   "source": [
    "# .rfind --> right find , starts looking from right\n",
    "print('work work work'.find('work'))\n",
    "print('work work work'.rfind('work'))\n",
    "print('work work work'.find('work', 2))\n",
    "print('work work work'.rfind('work', 2))\n",
    "print('work work work'.find('work', 2, 5))\n",
    "print('work work work'.rfind('work', 2, 5))"
   ]
  },
  {
   "cell_type": "code",
   "execution_count": null,
   "id": "c9d7389a",
   "metadata": {},
   "outputs": [
    {
     "data": {
      "text/plain": [
       "True"
      ]
     },
     "execution_count": 9,
     "metadata": {},
     "output_type": "execute_result"
    }
   ],
   "source": [
    "# .isalnum() --> checks if the str only contains alphabetical char and digits, will get True or False as result\n",
    "'Adrian'.isalnum()"
   ]
  },
  {
   "cell_type": "code",
   "execution_count": 10,
   "id": "354cb49b",
   "metadata": {},
   "outputs": [
    {
     "data": {
      "text/plain": [
       "True"
      ]
     },
     "execution_count": 10,
     "metadata": {},
     "output_type": "execute_result"
    }
   ],
   "source": [
    "'Adrian30'.isalnum()"
   ]
  },
  {
   "cell_type": "code",
   "execution_count": 11,
   "id": "92289529",
   "metadata": {},
   "outputs": [
    {
     "data": {
      "text/plain": [
       "False"
      ]
     },
     "execution_count": 11,
     "metadata": {},
     "output_type": "execute_result"
    }
   ],
   "source": [
    "'Adrian 30'.isalnum()"
   ]
  },
  {
   "cell_type": "code",
   "execution_count": 12,
   "id": "b87ff458",
   "metadata": {},
   "outputs": [
    {
     "data": {
      "text/plain": [
       "False"
      ]
     },
     "execution_count": 12,
     "metadata": {},
     "output_type": "execute_result"
    }
   ],
   "source": [
    "'Adrina_30'.isalnum()"
   ]
  },
  {
   "cell_type": "code",
   "execution_count": 13,
   "id": "e10383d7",
   "metadata": {},
   "outputs": [
    {
     "data": {
      "text/plain": [
       "True"
      ]
     },
     "execution_count": 13,
     "metadata": {},
     "output_type": "execute_result"
    }
   ],
   "source": [
    "# .isalpha() --> checks for letters only\n",
    "'Adrian'.isalpha()"
   ]
  },
  {
   "cell_type": "code",
   "execution_count": 14,
   "id": "a3911c2c",
   "metadata": {},
   "outputs": [
    {
     "data": {
      "text/plain": [
       "False"
      ]
     },
     "execution_count": 14,
     "metadata": {},
     "output_type": "execute_result"
    }
   ],
   "source": [
    "# .isdigit() --> checks for digits only\n",
    "'Adrian'.isdigit()"
   ]
  },
  {
   "cell_type": "code",
   "execution_count": null,
   "id": "545111e9",
   "metadata": {},
   "outputs": [],
   "source": [
    "# islower() -> if all char are lowercase\n",
    "# isupper() -> if all char are uppercase\n",
    "# isspace() -> if contains white space, (\\) is also accepted"
   ]
  }
 ],
 "metadata": {
  "kernelspec": {
   "display_name": "Python 3",
   "language": "python",
   "name": "python3"
  },
  "language_info": {
   "codemirror_mode": {
    "name": "ipython",
    "version": 3
   },
   "file_extension": ".py",
   "mimetype": "text/x-python",
   "name": "python",
   "nbconvert_exporter": "python",
   "pygments_lexer": "ipython3",
   "version": "3.9.21"
  }
 },
 "nbformat": 4,
 "nbformat_minor": 5
}
