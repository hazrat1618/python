{
 "cells": [
  {
   "cell_type": "code",
   "execution_count": 1,
   "id": "198b63f8",
   "metadata": {},
   "outputs": [
    {
     "data": {
      "text/plain": [
       "9"
      ]
     },
     "execution_count": 1,
     "metadata": {},
     "output_type": "execute_result"
    }
   ],
   "source": [
    "len('hi there!')"
   ]
  },
  {
   "cell_type": "code",
   "execution_count": 2,
   "id": "85c2cc7d",
   "metadata": {},
   "outputs": [
    {
     "data": {
      "text/plain": [
       "0"
      ]
     },
     "execution_count": 2,
     "metadata": {},
     "output_type": "execute_result"
    }
   ],
   "source": [
    "len('')"
   ]
  },
  {
   "cell_type": "code",
   "execution_count": 6,
   "id": "15043c72",
   "metadata": {},
   "outputs": [
    {
     "name": "stdout",
     "output_type": "stream",
     "text": [
      "i\n"
     ]
    }
   ],
   "source": [
    "print('hi there'[1])"
   ]
  },
  {
   "cell_type": "code",
   "execution_count": 8,
   "id": "91244c2d",
   "metadata": {},
   "outputs": [
    {
     "name": "stdout",
     "output_type": "stream",
     "text": [
      "i there\n"
     ]
    }
   ],
   "source": [
    "print('hi there'[1:])"
   ]
  },
  {
   "cell_type": "code",
   "execution_count": 10,
   "id": "ef674021",
   "metadata": {},
   "outputs": [
    {
     "name": "stdout",
     "output_type": "stream",
     "text": [
      "hi th\n"
     ]
    }
   ],
   "source": [
    "print('hi there'[:5])"
   ]
  },
  {
   "cell_type": "code",
   "execution_count": 11,
   "id": "8f51fdde",
   "metadata": {},
   "outputs": [
    {
     "name": "stdout",
     "output_type": "stream",
     "text": [
      "the\n"
     ]
    }
   ],
   "source": [
    "print('hi there'[3:6])"
   ]
  },
  {
   "cell_type": "code",
   "execution_count": 12,
   "id": "7e533989",
   "metadata": {},
   "outputs": [
    {
     "name": "stdout",
     "output_type": "stream",
     "text": [
      "I'm Adrian\n"
     ]
    }
   ],
   "source": [
    "print('I\\'m Adrian')"
   ]
  },
  {
   "cell_type": "code",
   "execution_count": null,
   "id": "3f524754",
   "metadata": {},
   "outputs": [
    {
     "data": {
      "text/plain": [
       "97"
      ]
     },
     "execution_count": 13,
     "metadata": {},
     "output_type": "execute_result"
    }
   ],
   "source": [
    "# Code point -> is a num assigned to represent an abstract char in a system to represent text(such as Unicode)\n",
    "# To get to know code point can use ord() func\n",
    "ord('a')"
   ]
  },
  {
   "cell_type": "code",
   "execution_count": 14,
   "id": "6d18a24e",
   "metadata": {},
   "outputs": [
    {
     "data": {
      "text/plain": [
       "65"
      ]
     },
     "execution_count": 14,
     "metadata": {},
     "output_type": "execute_result"
    }
   ],
   "source": [
    "ord('A')"
   ]
  },
  {
   "cell_type": "code",
   "execution_count": null,
   "id": "6900ceb0",
   "metadata": {},
   "outputs": [
    {
     "data": {
      "text/plain": [
       "'a'"
      ]
     },
     "execution_count": 15,
     "metadata": {},
     "output_type": "execute_result"
    }
   ],
   "source": [
    "# Reverse of ord() func is chr()\n",
    "chr(97)"
   ]
  },
  {
   "cell_type": "code",
   "execution_count": 17,
   "id": "6b93ee44",
   "metadata": {},
   "outputs": [],
   "source": [
    "# For multi-line str need to use  ''' ''' quotes\n",
    "test_string ='''Line 1\n",
    "Line 2'''"
   ]
  },
  {
   "cell_type": "code",
   "execution_count": null,
   "id": "e8f75d17",
   "metadata": {},
   "outputs": [
    {
     "data": {
      "text/plain": [
       "13"
      ]
     },
     "execution_count": 19,
     "metadata": {},
     "output_type": "execute_result"
    }
   ],
   "source": [
    "# Special char because of which we got 13 char is called Line Fit, which is expressed as ( \\ )\n",
    "len(test_string)"
   ]
  },
  {
   "cell_type": "code",
   "execution_count": 20,
   "id": "3acfeac1",
   "metadata": {},
   "outputs": [
    {
     "data": {
      "text/plain": [
       "'aaabbb'"
      ]
     },
     "execution_count": 20,
     "metadata": {},
     "output_type": "execute_result"
    }
   ],
   "source": [
    "'aaa' + 'bbb'"
   ]
  },
  {
   "cell_type": "code",
   "execution_count": 21,
   "id": "f6bf1ca3",
   "metadata": {},
   "outputs": [
    {
     "data": {
      "text/plain": [
       "'cccccc'"
      ]
     },
     "execution_count": 21,
     "metadata": {},
     "output_type": "execute_result"
    }
   ],
   "source": [
    "2 * 'ccc'"
   ]
  },
  {
   "cell_type": "markdown",
   "id": "0a27313c",
   "metadata": {},
   "source": [
    "    Operator overloading --> means giving extended meaning beyond their predefined operational meaning\n",
    "- ex: operator + is used to add two int as well as join two str and merge two lists"
   ]
  },
  {
   "cell_type": "code",
   "execution_count": 22,
   "id": "88412c1a",
   "metadata": {},
   "outputs": [
    {
     "data": {
      "text/plain": [
       "5"
      ]
     },
     "execution_count": 22,
     "metadata": {},
     "output_type": "execute_result"
    }
   ],
   "source": [
    "2 + 3"
   ]
  },
  {
   "cell_type": "code",
   "execution_count": 23,
   "id": "e44bbd0e",
   "metadata": {},
   "outputs": [
    {
     "data": {
      "text/plain": [
       "5"
      ]
     },
     "execution_count": 23,
     "metadata": {},
     "output_type": "execute_result"
    }
   ],
   "source": [
    "3 + 2"
   ]
  },
  {
   "cell_type": "code",
   "execution_count": 24,
   "id": "da3b8dbe",
   "metadata": {},
   "outputs": [
    {
     "data": {
      "text/plain": [
       "'bbbaaa'"
      ]
     },
     "execution_count": 24,
     "metadata": {},
     "output_type": "execute_result"
    }
   ],
   "source": [
    "'bbb' + 'aaa'"
   ]
  },
  {
   "cell_type": "markdown",
   "id": "94e852bf",
   "metadata": {},
   "source": [
    "- if the order doesn't matter, operator is commutative\n",
    "- if order is important, operator is not commutative"
   ]
  },
  {
   "cell_type": "code",
   "execution_count": null,
   "id": "46ee3c52",
   "metadata": {},
   "outputs": [
    {
     "name": "stdout",
     "output_type": "stream",
     "text": [
      "h-e-l-l-o- -f-r-o-m- -t-h-e- -w-o-r-l-d- -o-f- -P-y-t-h-o-n-"
     ]
    }
   ],
   "source": [
    "for char in 'hello from the world of Python':\n",
    "    print(char, end=\"-\")"
   ]
  },
  {
   "cell_type": "code",
   "execution_count": 26,
   "id": "220be68a",
   "metadata": {},
   "outputs": [
    {
     "ename": "TypeError",
     "evalue": "'str' object doesn't support item deletion",
     "output_type": "error",
     "traceback": [
      "\u001b[0;31m---------------------------------------------------------------------------\u001b[0m",
      "\u001b[0;31mTypeError\u001b[0m                                 Traceback (most recent call last)",
      "Cell \u001b[0;32mIn[26], line 3\u001b[0m\n\u001b[1;32m      1\u001b[0m \u001b[38;5;66;03m# Python str are immutable\u001b[39;00m\n\u001b[1;32m      2\u001b[0m text \u001b[38;5;241m=\u001b[39m \u001b[38;5;124m'\u001b[39m\u001b[38;5;124mdHello there!\u001b[39m\u001b[38;5;124m'\u001b[39m\n\u001b[0;32m----> 3\u001b[0m \u001b[38;5;28;01mdel\u001b[39;00m text[\u001b[38;5;241m0\u001b[39m]\n",
      "\u001b[0;31mTypeError\u001b[0m: 'str' object doesn't support item deletion"
     ]
    }
   ],
   "source": [
    "# Python str are immutable\n",
    "text = 'dHello there!'\n",
    "del text[0]"
   ]
  },
  {
   "cell_type": "code",
   "execution_count": null,
   "id": "f1be277e",
   "metadata": {},
   "outputs": [
    {
     "data": {
      "text/plain": [
       "'a'"
      ]
     },
     "execution_count": 27,
     "metadata": {},
     "output_type": "execute_result"
    }
   ],
   "source": [
    "# min() func looks for the smallest element in seq\n",
    "min('ilovetravellingaroundtheworld')\n",
    "\n",
    "# get (a) in output because it is smallest in ASCII table"
   ]
  },
  {
   "cell_type": "code",
   "execution_count": 29,
   "id": "e8c5213d",
   "metadata": {},
   "outputs": [
    {
     "data": {
      "text/plain": [
       "' '"
      ]
     },
     "execution_count": 29,
     "metadata": {},
     "output_type": "execute_result"
    }
   ],
   "source": [
    "min('i love travelling a lot')\n",
    "\n",
    "# We get space as output because it is lowest among them"
   ]
  },
  {
   "cell_type": "code",
   "execution_count": 30,
   "id": "6317c682",
   "metadata": {},
   "outputs": [
    {
     "data": {
      "text/plain": [
       "'w'"
      ]
     },
     "execution_count": 30,
     "metadata": {},
     "output_type": "execute_result"
    }
   ],
   "source": [
    "max('ilovetravellingaroundtheword')"
   ]
  }
 ],
 "metadata": {
  "kernelspec": {
   "display_name": "Python 3",
   "language": "python",
   "name": "python3"
  },
  "language_info": {
   "codemirror_mode": {
    "name": "ipython",
    "version": 3
   },
   "file_extension": ".py",
   "mimetype": "text/x-python",
   "name": "python",
   "nbconvert_exporter": "python",
   "pygments_lexer": "ipython3",
   "version": "3.9.21"
  }
 },
 "nbformat": 4,
 "nbformat_minor": 5
}
