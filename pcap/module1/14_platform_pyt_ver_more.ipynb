{
 "cells": [
  {
   "cell_type": "markdown",
   "id": "37f2bd47",
   "metadata": {},
   "source": [
    "In the previous video, we've discussed \n",
    "- platform.python_version_tuple(), \n",
    "which returns your Python version as a 3-element tuple, for example:\n",
    "('3', '8', '12')\n",
    "\n",
    "There's also another function that looks similar: \n",
    "- platform.version(). \n",
    "This function, in turn, returns your system's release version as a single string, for example:\n",
    "#24~20.04.1-Ubuntu SMP Mon Sep 12 06:14:01 UTC 2022\n",
    "Keep in mind not to confuse these two functions for the PCAP exam!\n"
   ]
  },
  {
   "cell_type": "code",
   "execution_count": 1,
   "id": "94d19870",
   "metadata": {},
   "outputs": [
    {
     "data": {
      "text/plain": [
       "'#1 SMP PREEMPT_DYNAMIC Fri Jun 9 19:47:16 UTC 2023'"
      ]
     },
     "execution_count": 1,
     "metadata": {},
     "output_type": "execute_result"
    }
   ],
   "source": [
    "import platform\n",
    "platform.version()"
   ]
  },
  {
   "cell_type": "code",
   "execution_count": 3,
   "id": "144f573d",
   "metadata": {},
   "outputs": [
    {
     "data": {
      "text/plain": [
       "('3', '9', '21')"
      ]
     },
     "execution_count": 3,
     "metadata": {},
     "output_type": "execute_result"
    }
   ],
   "source": [
    "platform.python_version_tuple()"
   ]
  }
 ],
 "metadata": {
  "kernelspec": {
   "display_name": "Python 3",
   "language": "python",
   "name": "python3"
  },
  "language_info": {
   "codemirror_mode": {
    "name": "ipython",
    "version": 3
   },
   "file_extension": ".py",
   "mimetype": "text/x-python",
   "name": "python",
   "nbconvert_exporter": "python",
   "pygments_lexer": "ipython3",
   "version": "3.9.21"
  }
 },
 "nbformat": 4,
 "nbformat_minor": 5
}
