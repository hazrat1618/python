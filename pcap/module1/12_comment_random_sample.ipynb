{
 "cells": [
  {
   "cell_type": "markdown",
   "id": "4184ef8d",
   "metadata": {},
   "source": [
    "In the video about the random module, I mentioned that the random.sample function randomly selects the given number of elements without duplicates. To be more precise, the function randomly selects the given number of unique elements (unique indexes) from the list but doesn't check whether the content of the elements are all different.\n",
    "\n",
    "What does it mean in practice? Take a look:\n",
    "\n",
    "    random.sample(['Martin', 'John', 'Kate'], 2)\n",
    "\n",
    "The line above will randomly select and return two of the three unique names from the list. You are guaranteed to get two names, and you are guaranteed that they will be two different names since there are no duplicated values in the list.\n",
    "\n",
    "However, take a look at this modified example:\n",
    "\n",
    "    random.sample(['Martin', 'John', 'Martin'], 2)\n",
    "\n",
    "Now, the list contains a duplicated value, but random.sample doesn't know that. It can randomly decide to return elements with indexes 0 and 1, and you will get ['Martin', 'John']. However, it can also randomly pick indexes 0 and 2, in which case you will get ['Martin', 'Martin'].\n",
    "\n",
    "To sum up, random.sample picks elements with unique indexes but doesn't verify whether the elements at these indexes are unique."
   ]
  }
 ],
 "metadata": {
  "language_info": {
   "name": "python"
  }
 },
 "nbformat": 4,
 "nbformat_minor": 5
}
