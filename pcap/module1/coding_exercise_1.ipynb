{
 "cells": [
  {
   "cell_type": "code",
   "execution_count": null,
   "id": "eff7a3b1",
   "metadata": {},
   "outputs": [
    {
     "name": "stdout",
     "output_type": "stream",
     "text": [
      "([15, 5, 14, 13, 17, 10, 9, 4, 19, 16], 9)\n"
     ]
    }
   ],
   "source": [
    "import random\n",
    "\n",
    "def generate_tickets(ticket_count, max_number):\n",
    "    ticket_list = random.sample(range(max_number), ticket_count)\n",
    "    winnig_num = random.choice(ticket_list)\n",
    "    return(ticket_list, winnig_num)\n",
    "    \n",
    "print(generate_tickets(10, 20))\n"
   ]
  },
  {
   "cell_type": "code",
   "execution_count": 113,
   "id": "ef17d692",
   "metadata": {},
   "outputs": [
    {
     "name": "stdout",
     "output_type": "stream",
     "text": [
      "[9, 7, 5, 2, 1]\n"
     ]
    }
   ],
   "source": [
    "ticket_list = random.sample(range(10), 5)\n",
    "print(ticket_list)"
   ]
  }
 ],
 "metadata": {
  "kernelspec": {
   "display_name": "Python 3",
   "language": "python",
   "name": "python3"
  },
  "language_info": {
   "codemirror_mode": {
    "name": "ipython",
    "version": 3
   },
   "file_extension": ".py",
   "mimetype": "text/x-python",
   "name": "python",
   "nbconvert_exporter": "python",
   "pygments_lexer": "ipython3",
   "version": "3.9.21"
  }
 },
 "nbformat": 4,
 "nbformat_minor": 5
}
