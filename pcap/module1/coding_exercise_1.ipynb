{
 "cells": [
  {
   "cell_type": "code",
   "execution_count": 19,
   "id": "eff7a3b1",
   "metadata": {},
   "outputs": [],
   "source": [
    "import random\n",
    "\n",
    "def lottery(num_of_tickets, num_of_players):\n",
    "    ticket_list = random.sample(range(num_of_tickets), num_of_players)\n",
    "    print(f'Ticket list is: {ticket_list} ')\n",
    "    winning_ticket = random.choice(ticket_list)\n",
    "    print(f'Winning ticket is: {winning_ticket}')"
   ]
  },
  {
   "cell_type": "code",
   "execution_count": 26,
   "id": "ef17d692",
   "metadata": {},
   "outputs": [
    {
     "name": "stdout",
     "output_type": "stream",
     "text": [
      "Ticket list is: [8, 4, 1, 12, 16] \n",
      "Winning ticket is: 8\n"
     ]
    }
   ],
   "source": [
    "lottery(20, 5)"
   ]
  }
 ],
 "metadata": {
  "kernelspec": {
   "display_name": "venv",
   "language": "python",
   "name": "python3"
  },
  "language_info": {
   "codemirror_mode": {
    "name": "ipython",
    "version": 3
   },
   "file_extension": ".py",
   "mimetype": "text/x-python",
   "name": "python",
   "nbconvert_exporter": "python",
   "pygments_lexer": "ipython3",
   "version": "3.9.6"
  }
 },
 "nbformat": 4,
 "nbformat_minor": 5
}
