{
 "cells": [
  {
   "cell_type": "markdown",
   "id": "4322826f",
   "metadata": {},
   "source": [
    "- When we ask for random num, it cant use imagination. It makes predefined computations.\n",
    "- It starts from seed. If to use same seed, we get same pseudo-random num. \n",
    "- Seed need to change every time. Python takes current times and changes seed "
   ]
  },
  {
   "cell_type": "markdown",
   "id": "a51978c2",
   "metadata": {},
   "source": [
    "    Random produces a float num between 0 and 1.\n",
    "- By def Python changes seed for us, based on local time stamp on machine"
   ]
  },
  {
   "cell_type": "code",
   "execution_count": 2,
   "id": "e5fabc8f",
   "metadata": {},
   "outputs": [
    {
     "name": "stdout",
     "output_type": "stream",
     "text": [
      "0.09637951893369068\n",
      "0.1295569413391119\n",
      "0.8824077197061493\n"
     ]
    }
   ],
   "source": [
    "# 1. random() -->  Output changes\n",
    "import random\n",
    "\n",
    "print(random.random())\n",
    "print(random.random())\n",
    "print(random.random())"
   ]
  },
  {
   "cell_type": "markdown",
   "id": "7ec62c8f",
   "metadata": {},
   "source": [
    "- To manually set the seed, need to use seed() func"
   ]
  },
  {
   "cell_type": "code",
   "execution_count": null,
   "id": "18beb3f6",
   "metadata": {},
   "outputs": [
    {
     "name": "stdout",
     "output_type": "stream",
     "text": [
      "0.8444218515250481\n",
      "0.7579544029403025\n",
      "0.420571580830845\n"
     ]
    }
   ],
   "source": [
    "# 2. seed()\n",
    "# Output doesnt change because it is based on seed(0)\n",
    "import random\n",
    "\n",
    "random.seed(0)\n",
    "print(random.random())\n",
    "print(random.random())\n",
    "print(random.random())"
   ]
  },
  {
   "cell_type": "code",
   "execution_count": null,
   "id": "0f0ee9f0",
   "metadata": {},
   "outputs": [
    {
     "name": "stdout",
     "output_type": "stream",
     "text": [
      "4\n",
      "Jo\n"
     ]
    }
   ],
   "source": [
    "# 3. choice() --> works with both int and str. It accepts a seq as input and outputs random element from seq\n",
    "numbers = [1, 2, 3, 4, 5, 6, 7, 8, 9, 10]\n",
    "names = ['Alan', 'Kate', 'Mary', 'Kate', 'Jo', 'John']\n",
    "\n",
    "print(random.choice(numbers))\n",
    "print(random.choice(names))"
   ]
  },
  {
   "cell_type": "code",
   "execution_count": null,
   "id": "543827ff",
   "metadata": {},
   "outputs": [
    {
     "data": {
      "text/plain": [
       "'l'"
      ]
     },
     "execution_count": 17,
     "metadata": {},
     "output_type": "execute_result"
    }
   ],
   "source": [
    "random.choice('CanYouFeelThePowerOfPython')"
   ]
  },
  {
   "cell_type": "code",
   "execution_count": null,
   "id": "075996c5",
   "metadata": {},
   "outputs": [
    {
     "name": "stdout",
     "output_type": "stream",
     "text": [
      "6\n",
      "8\n",
      "9\n",
      "2\n",
      "6\n",
      "7\n",
      "6\n",
      "10\n",
      "4\n",
      "9\n"
     ]
    }
   ],
   "source": [
    "# 3. choice() --> outputs random and may have duplicates\n",
    "# Output of list can show elements twice. Not useful if need random element only once\n",
    "numbers = [1, 2, 3, 4, 5, 6, 7, 8, 9, 10]\n",
    "\n",
    "for i in range(10):\n",
    "    print(random.choice(numbers))"
   ]
  },
  {
   "cell_type": "code",
   "execution_count": null,
   "id": "9c298d58",
   "metadata": {},
   "outputs": [
    {
     "data": {
      "text/plain": [
       "['Jo', 'Kate', 'Mary']"
      ]
     },
     "execution_count": 23,
     "metadata": {},
     "output_type": "execute_result"
    }
   ],
   "source": [
    "# 4. sample() --> outputs random elements with no duplicate\n",
    "names = ['Alan', 'Kate', 'Mary', 'Kate', 'Jo', 'John']\n",
    "\n",
    "random.sample(names, 3)"
   ]
  },
  {
   "cell_type": "markdown",
   "id": "d0f8c522",
   "metadata": {},
   "source": [
    "    random.sample func randomly selects the given num of elem w/o duplicates. Func randomly selects the given num of unique elem (unique indexes) from list but doesn't check the content"
   ]
  }
 ],
 "metadata": {
  "kernelspec": {
   "display_name": ".venv",
   "language": "python",
   "name": "python3"
  },
  "language_info": {
   "codemirror_mode": {
    "name": "ipython",
    "version": 3
   },
   "file_extension": ".py",
   "mimetype": "text/x-python",
   "name": "python",
   "nbconvert_exporter": "python",
   "pygments_lexer": "ipython3",
   "version": "3.9.21"
  }
 },
 "nbformat": 4,
 "nbformat_minor": 5
}
