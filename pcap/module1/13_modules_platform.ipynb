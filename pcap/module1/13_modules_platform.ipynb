{
 "cells": [
  {
   "cell_type": "markdown",
   "id": "86dfc179",
   "metadata": {},
   "source": [
    "    The platform module can tell a bit about Python version, OS and hardware we are using\n",
    "Our code <-> Python <-> OS <-> Hardware"
   ]
  },
  {
   "cell_type": "code",
   "execution_count": 1,
   "id": "29670275",
   "metadata": {},
   "outputs": [],
   "source": [
    "import platform"
   ]
  },
  {
   "cell_type": "code",
   "execution_count": 2,
   "id": "a98431ac",
   "metadata": {},
   "outputs": [
    {
     "data": {
      "text/plain": [
       "'Linux-5.14.0-325.el9.x86_64-x86_64-with-glibc2.34'"
      ]
     },
     "execution_count": 2,
     "metadata": {},
     "output_type": "execute_result"
    }
   ],
   "source": [
    "platform.platform()"
   ]
  },
  {
   "cell_type": "code",
   "execution_count": 3,
   "id": "6a42b5ae",
   "metadata": {},
   "outputs": [
    {
     "data": {
      "text/plain": [
       "'Linux-5.14.0-325.el9.x86_64-x86_64-with-glibc2.34'"
      ]
     },
     "execution_count": 3,
     "metadata": {},
     "output_type": "execute_result"
    }
   ],
   "source": [
    "# By def is set to those\n",
    "platform.platform(aliased= False, terse= False)"
   ]
  },
  {
   "cell_type": "markdown",
   "id": "afd7fa68",
   "metadata": {},
   "source": [
    "- platform.platform()\n",
    "- Linux-5.14.0-325.el9.x86_64-x86_64-with-glibc2.34\n",
    "-------------\n",
    "- platform.platform(True, True)\n",
    "- linux-5.14 (if alias exists) or full string (if not)"
   ]
  },
  {
   "cell_type": "code",
   "execution_count": 4,
   "metadata": {},
   "outputs": [
    {
     "name": "stdout",
     "output_type": "stream",
     "text": [
      "Linux-5.14.0-325.el9.x86_64-x86_64-with-glibc2.34\n"
     ]
    }
   ],
   "source": [
    "print(platform.platform(True, True))"
   ]
  },
  {
   "cell_type": "code",
   "execution_count": 5,
   "id": "b6bd768c",
   "metadata": {},
   "outputs": [
    {
     "data": {
      "text/plain": [
       "'x86_64'"
      ]
     },
     "execution_count": 5,
     "metadata": {},
     "output_type": "execute_result"
    }
   ],
   "source": [
    "# platform.machine() --> returns generic name of processor which runs our OS\n",
    "platform.machine()"
   ]
  },
  {
   "cell_type": "code",
   "execution_count": 6,
   "id": "a6934708",
   "metadata": {},
   "outputs": [
    {
     "data": {
      "text/plain": [
       "'x86_64'"
      ]
     },
     "execution_count": 6,
     "metadata": {},
     "output_type": "execute_result"
    }
   ],
   "source": [
    "# platform.processor --> returns the real name of processor\n",
    "platform.processor()"
   ]
  },
  {
   "cell_type": "code",
   "execution_count": 7,
   "id": "89fd87ac",
   "metadata": {},
   "outputs": [
    {
     "data": {
      "text/plain": [
       "'Linux'"
      ]
     },
     "execution_count": 7,
     "metadata": {},
     "output_type": "execute_result"
    }
   ],
   "source": [
    "# platform.system() --> returns generic OS name\n",
    "platform.system()"
   ]
  },
  {
   "cell_type": "code",
   "execution_count": null,
   "id": "54b899b5",
   "metadata": {},
   "outputs": [
    {
     "data": {
      "text/plain": [
       "'CPython'"
      ]
     },
     "execution_count": 8,
     "metadata": {},
     "output_type": "execute_result"
    }
   ],
   "source": [
    "platform.python_implementation()"
   ]
  },
  {
   "cell_type": "code",
   "execution_count": 9,
   "id": "b298a81d",
   "metadata": {},
   "outputs": [
    {
     "data": {
      "text/plain": [
       "('3', '9', '21')"
      ]
     },
     "execution_count": 9,
     "metadata": {},
     "output_type": "execute_result"
    }
   ],
   "source": [
    "# Does not return str, instead returns a tupple with 3 elements: major, minor and patch of python\n",
    "platform.python_version_tuple()"
   ]
  }
 ],
 "metadata": {
  "kernelspec": {
   "display_name": "Python 3",
   "language": "python",
   "name": "python3"
  },
  "language_info": {
   "codemirror_mode": {
    "name": "ipython",
    "version": 3
   },
   "file_extension": ".py",
   "mimetype": "text/x-python",
   "name": "python",
   "nbconvert_exporter": "python",
   "pygments_lexer": "ipython3",
   "version": "3.9.21"
  }
 },
 "nbformat": 4,
 "nbformat_minor": 5
}
