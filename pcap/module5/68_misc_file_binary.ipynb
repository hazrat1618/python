{
 "cells": [
  {
   "cell_type": "markdown",
   "id": "c6153bc1",
   "metadata": {},
   "source": [
    "Data is stored in long sequence of bytes (ones and zeros)"
   ]
  },
  {
   "cell_type": "markdown",
   "id": "2a944a1d",
   "metadata": {},
   "source": [
    "Different file types use bytes differently, for ex:\n",
    "- text file -> each byte represents a single char according to encoding table -> understood by text editor\n",
    "- photo file(bitmap) -> each byte represents a single color of a single pixel -> understood by image editors"
   ]
  },
  {
   "cell_type": "markdown",
   "id": "4fe5ce4d",
   "metadata": {},
   "source": [
    "Python file handling:\n",
    "- binary files: raw data, hard to read\n",
    "- text files: text data, easy to read"
   ]
  },
  {
   "cell_type": "code",
   "execution_count": 1,
   "id": "475730a2",
   "metadata": {},
   "outputs": [],
   "source": [
    "# create byte array\n",
    "data = bytearray(100)   # maximal int that we can store in byte is to 255. smth bigger triggers error\n",
    "data[0] = 100"
   ]
  },
  {
   "cell_type": "code",
   "execution_count": 2,
   "id": "2ac32be5",
   "metadata": {},
   "outputs": [
    {
     "ename": "ValueError",
     "evalue": "byte must be in range(0, 256)",
     "output_type": "error",
     "traceback": [
      "\u001b[0;31m---------------------------------------------------------------------------\u001b[0m",
      "\u001b[0;31mValueError\u001b[0m                                Traceback (most recent call last)",
      "Cell \u001b[0;32mIn[2], line 2\u001b[0m\n\u001b[1;32m      1\u001b[0m data \u001b[38;5;241m=\u001b[39m \u001b[38;5;28mbytearray\u001b[39m(\u001b[38;5;241m100\u001b[39m)\n\u001b[0;32m----> 2\u001b[0m \u001b[43mdata\u001b[49m\u001b[43m[\u001b[49m\u001b[38;5;241;43m0\u001b[39;49m\u001b[43m]\u001b[49m \u001b[38;5;241m=\u001b[39m \u001b[38;5;241m270\u001b[39m\n",
      "\u001b[0;31mValueError\u001b[0m: byte must be in range(0, 256)"
     ]
    }
   ],
   "source": [
    "data = bytearray(100)\n",
    "data[0] = 270"
   ]
  },
  {
   "cell_type": "code",
   "execution_count": 3,
   "id": "36c3a101",
   "metadata": {},
   "outputs": [],
   "source": [
    "data = bytearray(100)\n",
    "data[0] = 100\n",
    "data[1] = 120\n",
    "\n",
    "try:\n",
    "    stream = open('file.bin', 'wb')     # wb -> write binary\n",
    "    stream.write(data)\n",
    "    stream.close()\n",
    "except Exception as e:\n",
    "    print('An error occured:', e)"
   ]
  },
  {
   "cell_type": "code",
   "execution_count": 4,
   "id": "29e540dd",
   "metadata": {},
   "outputs": [
    {
     "name": "stdout",
     "output_type": "stream",
     "text": [
      "b'dx\\x00\\x00\\x00\\x00\\x00\\x00\\x00\\x00\\x00\\x00\\x00\\x00\\x00\\x00\\x00\\x00\\x00\\x00\\x00\\x00\\x00\\x00\\x00\\x00\\x00\\x00\\x00\\x00\\x00\\x00\\x00\\x00\\x00\\x00\\x00\\x00\\x00\\x00\\x00\\x00\\x00\\x00\\x00\\x00\\x00\\x00\\x00\\x00\\x00\\x00\\x00\\x00\\x00\\x00\\x00\\x00\\x00\\x00\\x00\\x00\\x00\\x00\\x00\\x00\\x00\\x00\\x00\\x00\\x00\\x00\\x00\\x00\\x00\\x00\\x00\\x00\\x00\\x00\\x00\\x00\\x00\\x00\\x00\\x00\\x00\\x00\\x00\\x00\\x00\\x00\\x00\\x00\\x00\\x00\\x00\\x00\\x00\\x00'\n"
     ]
    }
   ],
   "source": [
    "try:\n",
    "    bf = open('file.bin', 'rb')     # rb -> read binary\n",
    "    byte_array = bf.read()  \n",
    "    bf.close()\n",
    "except Exception as e:\n",
    "    print('An error occured', e)\n",
    "\n",
    "print(byte_array)"
   ]
  },
  {
   "cell_type": "code",
   "execution_count": 5,
   "id": "d2990117",
   "metadata": {},
   "outputs": [
    {
     "name": "stdout",
     "output_type": "stream",
     "text": [
      "0x640x780x00x00x00x00x00x00x00x00x00x00x00x00x00x00x00x00x00x00x00x00x00x00x00x00x00x00x00x00x00x00x00x00x00x00x00x00x00x00x00x00x00x00x00x00x00x00x00x00x00x00x00x00x00x00x00x00x00x00x00x00x00x00x00x00x00x00x00x00x00x00x00x00x00x00x00x00x00x00x00x00x00x00x00x00x00x00x00x00x00x00x00x00x00x00x00x00x00x0"
     ]
    }
   ],
   "source": [
    "for byte in byte_array:\n",
    "    print(hex(byte), end='')"
   ]
  },
  {
   "cell_type": "code",
   "execution_count": 6,
   "id": "b5940242",
   "metadata": {},
   "outputs": [
    {
     "name": "stdout",
     "output_type": "stream",
     "text": [
      "10012000000000000000000000000000000000000000000000000000000000000000000000000000000000000000000000000000"
     ]
    }
   ],
   "source": [
    "for byte in byte_array:\n",
    "    print(int(byte), end='')"
   ]
  },
  {
   "cell_type": "code",
   "execution_count": null,
   "id": "2fa523ed",
   "metadata": {},
   "outputs": [
    {
     "name": "stdout",
     "output_type": "stream",
     "text": [
      "10012000000000"
     ]
    }
   ],
   "source": [
    "try:\n",
    "    bf = open('file.bin', 'rb')\n",
    "    byte_array = bf.read(10)\n",
    "    bf.close()\n",
    "except Exception as e:\n",
    "    print('An error occured', e)\n",
    "\n",
    "for byte in byte_array:\n",
    "    print(int(byte), end='')"
   ]
  }
 ],
 "metadata": {
  "kernelspec": {
   "display_name": "venv",
   "language": "python",
   "name": "python3"
  },
  "language_info": {
   "codemirror_mode": {
    "name": "ipython",
    "version": 3
   },
   "file_extension": ".py",
   "mimetype": "text/x-python",
   "name": "python",
   "nbconvert_exporter": "python",
   "pygments_lexer": "ipython3",
   "version": "3.9.6"
  }
 },
 "nbformat": 4,
 "nbformat_minor": 5
}
