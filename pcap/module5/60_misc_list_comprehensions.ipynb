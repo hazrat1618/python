{
 "cells": [
  {
   "cell_type": "code",
   "execution_count": 5,
   "id": "b33965af",
   "metadata": {},
   "outputs": [],
   "source": [
    "numbers = []\n",
    "for i in range(1, 101):\n",
    "    numbers.append(i)"
   ]
  },
  {
   "cell_type": "code",
   "execution_count": 6,
   "id": "d172be0a",
   "metadata": {},
   "outputs": [
    {
     "name": "stdout",
     "output_type": "stream",
     "text": [
      "Numbers: [1, 2, 3, 4, 5, 6, 7, 8, 9, 10, 11, 12, 13, 14, 15, 16, 17, 18, 19, 20, 21, 22, 23, 24, 25, 26, 27, 28, 29, 30, 31, 32, 33, 34, 35, 36, 37, 38, 39, 40, 41, 42, 43, 44, 45, 46, 47, 48, 49, 50, 51, 52, 53, 54, 55, 56, 57, 58, 59, 60, 61, 62, 63, 64, 65, 66, 67, 68, 69, 70, 71, 72, 73, 74, 75, 76, 77, 78, 79, 80, 81, 82, 83, 84, 85, 86, 87, 88, 89, 90, 91, 92, 93, 94, 95, 96, 97, 98, 99, 100]\n"
     ]
    }
   ],
   "source": [
    "print('Numbers:', numbers)"
   ]
  },
  {
   "cell_type": "code",
   "execution_count": 9,
   "id": "028dcd64",
   "metadata": {},
   "outputs": [
    {
     "ename": "SyntaxError",
     "evalue": "invalid syntax (4210938820.py, line 1)",
     "output_type": "error",
     "traceback": [
      "\u001b[0;36m  Cell \u001b[0;32mIn[9], line 1\u001b[0;36m\u001b[0m\n\u001b[0;31m    numbers = [for i in range(1,101)]\u001b[0m\n\u001b[0m               ^\u001b[0m\n\u001b[0;31mSyntaxError\u001b[0m\u001b[0;31m:\u001b[0m invalid syntax\n"
     ]
    }
   ],
   "source": [
    "numbers = [for i in range(1,101)]"
   ]
  },
  {
   "cell_type": "code",
   "execution_count": 7,
   "id": "18598260",
   "metadata": {},
   "outputs": [],
   "source": [
    "numbers = [i for i in range(1,101)]"
   ]
  },
  {
   "cell_type": "code",
   "execution_count": 8,
   "id": "addbd796",
   "metadata": {},
   "outputs": [
    {
     "name": "stdout",
     "output_type": "stream",
     "text": [
      "Numbers: [1, 2, 3, 4, 5, 6, 7, 8, 9, 10, 11, 12, 13, 14, 15, 16, 17, 18, 19, 20, 21, 22, 23, 24, 25, 26, 27, 28, 29, 30, 31, 32, 33, 34, 35, 36, 37, 38, 39, 40, 41, 42, 43, 44, 45, 46, 47, 48, 49, 50, 51, 52, 53, 54, 55, 56, 57, 58, 59, 60, 61, 62, 63, 64, 65, 66, 67, 68, 69, 70, 71, 72, 73, 74, 75, 76, 77, 78, 79, 80, 81, 82, 83, 84, 85, 86, 87, 88, 89, 90, 91, 92, 93, 94, 95, 96, 97, 98, 99, 100]\n"
     ]
    }
   ],
   "source": [
    "print('Numbers:', numbers)"
   ]
  },
  {
   "cell_type": "code",
   "execution_count": 11,
   "id": "839b25df",
   "metadata": {},
   "outputs": [],
   "source": [
    "numbers = [i for i in range(1, 101) if i % 3 != 0]"
   ]
  },
  {
   "cell_type": "code",
   "execution_count": 12,
   "id": "1e0f2f70",
   "metadata": {},
   "outputs": [
    {
     "name": "stdout",
     "output_type": "stream",
     "text": [
      "Numbers: [1, 2, 4, 5, 7, 8, 10, 11, 13, 14, 16, 17, 19, 20, 22, 23, 25, 26, 28, 29, 31, 32, 34, 35, 37, 38, 40, 41, 43, 44, 46, 47, 49, 50, 52, 53, 55, 56, 58, 59, 61, 62, 64, 65, 67, 68, 70, 71, 73, 74, 76, 77, 79, 80, 82, 83, 85, 86, 88, 89, 91, 92, 94, 95, 97, 98, 100]\n"
     ]
    }
   ],
   "source": [
    "print('Numbers:', numbers)"
   ]
  },
  {
   "cell_type": "code",
   "execution_count": 13,
   "id": "6e61ee98",
   "metadata": {},
   "outputs": [],
   "source": [
    "numbers = [0 if i % 2 == 0 else 1 for i in range(100)]"
   ]
  },
  {
   "cell_type": "code",
   "execution_count": 14,
   "id": "dbfb942e",
   "metadata": {},
   "outputs": [
    {
     "name": "stdout",
     "output_type": "stream",
     "text": [
      "Numbers: [0, 1, 0, 1, 0, 1, 0, 1, 0, 1, 0, 1, 0, 1, 0, 1, 0, 1, 0, 1, 0, 1, 0, 1, 0, 1, 0, 1, 0, 1, 0, 1, 0, 1, 0, 1, 0, 1, 0, 1, 0, 1, 0, 1, 0, 1, 0, 1, 0, 1, 0, 1, 0, 1, 0, 1, 0, 1, 0, 1, 0, 1, 0, 1, 0, 1, 0, 1, 0, 1, 0, 1, 0, 1, 0, 1, 0, 1, 0, 1, 0, 1, 0, 1, 0, 1, 0, 1, 0, 1, 0, 1, 0, 1, 0, 1, 0, 1, 0, 1]\n"
     ]
    }
   ],
   "source": [
    "print('Numbers:', numbers)"
   ]
  },
  {
   "cell_type": "code",
   "execution_count": 15,
   "id": "9ab9f3f6",
   "metadata": {},
   "outputs": [
    {
     "name": "stdout",
     "output_type": "stream",
     "text": [
      "[[1, 2, 3, 4, 5], [1, 2, 3, 4, 5], [1, 2, 3, 4, 5], [1, 2, 3, 4, 5], [1, 2, 3, 4, 5]]\n"
     ]
    }
   ],
   "source": [
    "# 1 2 3 4 5\n",
    "# 1 2 3 4 5\n",
    "# 1 2 3 4 5\n",
    "# 1 2 3 4 5\n",
    "# 1 2 3 4 5\n",
    "table = [[i for i in range(1, 6)] for j in range(5)]\n",
    "print(table)"
   ]
  },
  {
   "cell_type": "markdown",
   "id": "e6e10f94",
   "metadata": {},
   "source": [
    "Note in above code: The inner list comprehension uses the `i` control variable's value before the for keyword, but in outer list comprehension we put the entire inner list comprehension instead of `j` control var.\n",
    "\n",
    "- That outer list comprehension means repeat the inner list comprehension until the control var of `j` reaches 5"
   ]
  }
 ],
 "metadata": {
  "kernelspec": {
   "display_name": "venv",
   "language": "python",
   "name": "python3"
  },
  "language_info": {
   "codemirror_mode": {
    "name": "ipython",
    "version": 3
   },
   "file_extension": ".py",
   "mimetype": "text/x-python",
   "name": "python",
   "nbconvert_exporter": "python",
   "pygments_lexer": "ipython3",
   "version": "3.9.6"
  }
 },
 "nbformat": 4,
 "nbformat_minor": 5
}
