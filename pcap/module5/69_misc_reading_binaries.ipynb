{
 "cells": [
  {
   "cell_type": "markdown",
   "id": "9f01c758",
   "metadata": {},
   "source": [
    "# Reading binary files: read() vs readinto()"
   ]
  },
  {
   "cell_type": "markdown",
   "id": "c5ea7ca6",
   "metadata": {},
   "source": [
    "- The `read()` method mentioned in the previous lesson reads all the contents of the file into the memory. This method creates an object of a special class called bytes (see variable `newly_created` below):"
   ]
  },
  {
   "cell_type": "code",
   "execution_count": 2,
   "id": "b391071b",
   "metadata": {},
   "outputs": [],
   "source": [
    "try:\n",
    "\tbf = open('file.bin', 'rb')\n",
    "\tnewly_created = bf.read()\n",
    "\tbf.close()\n",
    "except Exception as e:\n",
    "\tprint('An error occured:', e)"
   ]
  },
  {
   "cell_type": "markdown",
   "id": "ffcbaaed",
   "metadata": {},
   "source": [
    "The bytes class is very similar to bytearray that we mentioned in that video. There is one difference: the bytes class is immutable (once created, it can't be changed).\n",
    "\n",
    "If, for some reason, you need a bytearray object rather than a bytes object, you can simply wrap the bf.read() method call like this: bytearray(bf.read()). This will return a bytearray rather than a bytes object.\n",
    "\n",
    "Another option to get a bytearray is to create it manually and then use bf.readinto(bytearray) instead of bf.read():"
   ]
  },
  {
   "cell_type": "code",
   "execution_count": 1,
   "id": "fe4e2d7a",
   "metadata": {},
   "outputs": [],
   "source": [
    "data = bytearray(10)\n",
    "try:\n",
    "    bf = open('file.bin', 'rb')\n",
    "    bf.readinto(data)\n",
    "    bf.close()\n",
    "except Exception as e:\n",
    "    print('An error occured:', e)"
   ]
  }
 ],
 "metadata": {
  "kernelspec": {
   "display_name": "venv",
   "language": "python",
   "name": "python3"
  },
  "language_info": {
   "codemirror_mode": {
    "name": "ipython",
    "version": 3
   },
   "file_extension": ".py",
   "mimetype": "text/x-python",
   "name": "python",
   "nbconvert_exporter": "python",
   "pygments_lexer": "ipython3",
   "version": "3.9.6"
  }
 },
 "nbformat": 4,
 "nbformat_minor": 5
}
