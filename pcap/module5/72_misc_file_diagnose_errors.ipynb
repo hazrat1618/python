{
 "cells": [
  {
   "cell_type": "code",
   "execution_count": 1,
   "id": "a07803f9",
   "metadata": {},
   "outputs": [
    {
     "name": "stdout",
     "output_type": "stream",
     "text": [
      "An error occured:  [Errno 2] No such file or directory: 'nonexistent.txt'\n"
     ]
    }
   ],
   "source": [
    "try:\n",
    "    stream = open('nonexistent.txt')\n",
    "    stream.close()\n",
    "except Exception as e:\n",
    "    print('An error occured: ', e)"
   ]
  },
  {
   "cell_type": "markdown",
   "id": "e77dd7d6",
   "metadata": {},
   "source": [
    "Errno 2 -> is error number 2"
   ]
  },
  {
   "cell_type": "code",
   "execution_count": 2,
   "id": "50b10d2a",
   "metadata": {},
   "outputs": [
    {
     "name": "stdout",
     "output_type": "stream",
     "text": [
      "2\n"
     ]
    }
   ],
   "source": [
    "try:\n",
    "    stream = open('nonexistent.txt')\n",
    "    stream.close()\n",
    "except Exception as e:\n",
    "    print(e.errno)"
   ]
  },
  {
   "cell_type": "code",
   "execution_count": 3,
   "id": "900951b2",
   "metadata": {},
   "outputs": [
    {
     "name": "stdout",
     "output_type": "stream",
     "text": [
      "No such file or directory\n"
     ]
    }
   ],
   "source": [
    "from os import strerror\n",
    "\n",
    "try:\n",
    "    stream = open('nonexistent.txt')\n",
    "    stream.close()\n",
    "except Exception as e:\n",
    "    print(strerror(e.errno))"
   ]
  }
 ],
 "metadata": {
  "kernelspec": {
   "display_name": "venv",
   "language": "python",
   "name": "python3"
  },
  "language_info": {
   "codemirror_mode": {
    "name": "ipython",
    "version": 3
   },
   "file_extension": ".py",
   "mimetype": "text/x-python",
   "name": "python",
   "nbconvert_exporter": "python",
   "pygments_lexer": "ipython3",
   "version": "3.9.6"
  }
 },
 "nbformat": 4,
 "nbformat_minor": 5
}
