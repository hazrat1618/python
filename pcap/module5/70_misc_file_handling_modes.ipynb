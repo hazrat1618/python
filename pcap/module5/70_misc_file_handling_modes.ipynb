{
 "cells": [
  {
   "cell_type": "markdown",
   "id": "7a11689b",
   "metadata": {},
   "source": [
    "open(file, mode='r', buffering=-1, encoding=None, errors=None, newline=None, closefd=True, opener=None)"
   ]
  },
  {
   "cell_type": "markdown",
   "id": "9ff2a270",
   "metadata": {},
   "source": [
    "Characters and Meanings:\n",
    "- 'r' - open for reading\n",
    "- 'w' - open for writing, truncating the file first\n",
    "- 'x' - open for exclusive creation, failing if the file already exists\n",
    "- 'a' - open for writing, append\n",
    "- 'b' - binary mode\n",
    "- 't' - text mode (by default)\n",
    "- '+' - open for updating(reading and writing)\n",
    "\n",
    "we can do w+ and etc"
   ]
  }
 ],
 "metadata": {
  "kernelspec": {
   "display_name": "venv",
   "language": "python",
   "name": "python3"
  },
  "language_info": {
   "name": "python",
   "version": "3.9.6"
  }
 },
 "nbformat": 4,
 "nbformat_minor": 5
}
