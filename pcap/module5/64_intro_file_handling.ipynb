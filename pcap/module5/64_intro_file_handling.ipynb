{
 "cells": [
  {
   "cell_type": "markdown",
   "id": "c8bfa271",
   "metadata": {},
   "source": [
    "- Windows: C:\\users\\adrian\\text-files\n",
    "- Linux: /users/adrian/text-files"
   ]
  },
  {
   "cell_type": "markdown",
   "id": "5e43b9a5",
   "metadata": {},
   "source": [
    "To work with files Python uses intermediate entites that behave based on OS.\n",
    "\n",
    "- Intermediary entites are called `handles` or `streams`.\n",
    "\n",
    "open file --stream-->  our file operations  --stream--> close file"
   ]
  },
  {
   "cell_type": "markdown",
   "id": "b31cdb95",
   "metadata": {},
   "source": [
    "The object to handle the file will come from one of the classes below:\n",
    "IOBase: RawIOBase, BufferedIOBase, TextIOBase"
   ]
  },
  {
   "cell_type": "markdown",
   "id": "61e2271e",
   "metadata": {},
   "source": [
    "File types:\n",
    "- Text file. ex: line break: \\n (Linux), \\r\\n (Windows)\n",
    "- Binary file"
   ]
  }
 ],
 "metadata": {
  "kernelspec": {
   "display_name": "venv",
   "language": "python",
   "name": "python3"
  },
  "language_info": {
   "name": "python",
   "version": "3.9.6"
  }
 },
 "nbformat": 4,
 "nbformat_minor": 5
}
