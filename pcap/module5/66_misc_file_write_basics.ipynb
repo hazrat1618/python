{
 "cells": [
  {
   "cell_type": "markdown",
   "id": "a21acfcd",
   "metadata": {},
   "source": [
    "        stream is a file object — a connection or “channel” between your Python program and the file newfile.txt."
   ]
  },
  {
   "cell_type": "code",
   "execution_count": 1,
   "id": "a36fdf49",
   "metadata": {},
   "outputs": [],
   "source": [
    "try:\n",
    "    stream = open('newfile.txt', 'w')\n",
    "    stream.write('This is the first message!\\n')\n",
    "    stream.write('This is the second message!')\n",
    "    stream.close()\n",
    "except Exception as e:\n",
    "    print('An error occured:', e)"
   ]
  },
  {
   "cell_type": "markdown",
   "id": "b43512a8",
   "metadata": {},
   "source": [
    "\t•\topen(..., 'w'): opens file for writing (overwrites if file exists)\n",
    "\t•\tstream.write(...): sends data to the file\n",
    "\t•\t\\n: newline character — moves the cursor to the next line\n",
    "\t•\tstream.close(): finalizes writing and closes the file safely\n",
    "\t•\ttry-except: catches and handles any exceptions that might occur"
   ]
  },
  {
   "cell_type": "code",
   "execution_count": null,
   "id": "00055d2a",
   "metadata": {},
   "outputs": [],
   "source": [
    "try:\n",
    "    stream = open('newfile.txt', 'w')   \n",
    "    stream.write('This is a brand-new message!')\n",
    "    stream.close()\n",
    "except Exception as e:\n",
    "    print('An error occured:', e)"
   ]
  },
  {
   "cell_type": "markdown",
   "id": "aeacb557",
   "metadata": {},
   "source": [
    "- `w` mode, is either Python will create file for us, or if file already exists it will erase all the content from it and put new content according to code"
   ]
  }
 ],
 "metadata": {
  "kernelspec": {
   "display_name": "venv",
   "language": "python",
   "name": "python3"
  },
  "language_info": {
   "codemirror_mode": {
    "name": "ipython",
    "version": 3
   },
   "file_extension": ".py",
   "mimetype": "text/x-python",
   "name": "python",
   "nbconvert_exporter": "python",
   "pygments_lexer": "ipython3",
   "version": "3.9.6"
  }
 },
 "nbformat": 4,
 "nbformat_minor": 5
}
