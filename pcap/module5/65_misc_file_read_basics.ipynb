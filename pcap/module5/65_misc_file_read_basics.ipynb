{
 "cells": [
  {
   "cell_type": "code",
   "execution_count": 1,
   "id": "82827084",
   "metadata": {},
   "outputs": [],
   "source": [
    "try:\n",
    "    stream = open('animals.txt')\n",
    "    # your code goes here\n",
    "    stream.close()      # make sure to close code \n",
    "except Exception as e:\n",
    "    print('An error occured: ', e)"
   ]
  },
  {
   "cell_type": "code",
   "execution_count": 2,
   "id": "d2edbd87",
   "metadata": {},
   "outputs": [
    {
     "name": "stdout",
     "output_type": "stream",
     "text": [
      "An error occured:  [Errno 2] No such file or directory: 'animalssd.txt'\n"
     ]
    }
   ],
   "source": [
    "try:\n",
    "    stream = open('animalssd.txt')\n",
    "    # your code goes here\n",
    "    stream.close()      # make sure to close code \n",
    "except Exception as e:\n",
    "    print('An error occured: ', e)"
   ]
  },
  {
   "cell_type": "code",
   "execution_count": 4,
   "id": "985f1cf3",
   "metadata": {},
   "outputs": [
    {
     "name": "stdout",
     "output_type": "stream",
     "text": [
      "PIG is a domestic animal.\n",
      "LION is a wild animal.\n",
      "FOX is a wild animal that is sometimes kept as a pet.\n",
      "\n"
     ]
    }
   ],
   "source": [
    "try:\n",
    "    stream = open('animals.txt')\n",
    "    print(stream.read())\n",
    "    stream.close()      # make sure to close code \n",
    "except Exception as e:\n",
    "    print('An error occured: ', e)"
   ]
  },
  {
   "cell_type": "code",
   "execution_count": 6,
   "id": "c5796aa5",
   "metadata": {},
   "outputs": [
    {
     "name": "stdout",
     "output_type": "stream",
     "text": [
      "PIG is a d\n",
      "omestic an\n"
     ]
    }
   ],
   "source": [
    "try:\n",
    "    stream = open('animals.txt')\n",
    "    print(stream.read(10))  # we invoke bytes   \n",
    "    print(stream.read(10))  # we invoke bytes \n",
    "    stream.close()      # make sure to close code \n",
    "except Exception as e:\n",
    "    print('An error occured: ', e)"
   ]
  },
  {
   "cell_type": "code",
   "execution_count": null,
   "id": "877a4518",
   "metadata": {},
   "outputs": [
    {
     "name": "stdout",
     "output_type": "stream",
     "text": [
      "PIG is a domestic animal.\n",
      "LION is a wild animal.\n",
      "FOX is a wild animal that is sometimes kept as a pet.\n",
      "\n",
      "\n"
     ]
    }
   ],
   "source": [
    "try:\n",
    "    stream = open('animals.txt')\n",
    "    print(stream.read(10000))  # we invoke bytes   \n",
    "    print(stream.read(1))  # we invoke bytes, but we get empty line\n",
    "    stream.close()      # make sure to close code \n",
    "except Exception as e:\n",
    "    print('An error occured: ', e)"
   ]
  },
  {
   "cell_type": "code",
   "execution_count": null,
   "id": "b26dbfec",
   "metadata": {},
   "outputs": [
    {
     "name": "stdout",
     "output_type": "stream",
     "text": [
      "P-I-G- -i-s- -a- -d-o-m-e-s-t-i-c- -a-n-i-m-a-l-.-\n",
      "-L-I-O-N- -i-s- -a- -w-i-l-d- -a-n-i-m-a-l-.-\n",
      "-F-O-X- -i-s- -a- -w-i-l-d- -a-n-i-m-a-l- -t-h-a-t- -i-s- -s-o-m-e-t-i-m-e-s- -k-e-p-t- -a-s- -a- -p-e-t-.-\n",
      "-"
     ]
    }
   ],
   "source": [
    "try:\n",
    "    stream = open('animals.txt')        # Opens the file\n",
    "    character = stream.read(1)          # Reads 1 character\n",
    "    while character != '':              # Loop until end of file\n",
    "        print(character, end='-')       # Print each character with '-' after it\n",
    "        character = stream.read(1)      # Read next character\n",
    "    stream.close()                      # Close the file\n",
    "except Exception as e:\n",
    "    print('An error occured: ', e)"
   ]
  },
  {
   "cell_type": "code",
   "execution_count": null,
   "id": "cb17812e",
   "metadata": {},
   "outputs": [
    {
     "name": "stdout",
     "output_type": "stream",
     "text": [
      "P-I-G- -i-s- -a- -d-o-m-e-s-t-i-c- -a-n-i-m-a-l-.-\n",
      "-L-I-O-N- -i-s- -a- -w-i-l-d- -a-n-i-m-a-l-.-\n",
      "-F-O-X- -i-s- -a- -w-i-l-d- -a-n-i-m-a-l- -t-h-a-t- -i-s- -s-o-m-e-t-i-m-e-s- -k-e-p-t- -a-s- -a- -p-e-t-.-\n",
      "-\n",
      "Number of characters: 103\n"
     ]
    }
   ],
   "source": [
    "# Read file char-by-char\n",
    "try:\n",
    "    stream = open('animals.txt')       \n",
    "    counter = 0\n",
    "    character = stream.read(1)        \n",
    "    while character != '':   \n",
    "        counter += 1         \n",
    "        print(character, end='-')     \n",
    "        character = stream.read(1)     \n",
    "    stream.close()\n",
    "    print('\\nNumber of characters:', counter)                 \n",
    "except Exception as e:\n",
    "    print('An error occured: ', e)"
   ]
  },
  {
   "cell_type": "code",
   "execution_count": null,
   "id": "0ab09868",
   "metadata": {},
   "outputs": [
    {
     "name": "stdout",
     "output_type": "stream",
     "text": [
      "PIG is a domestic animal.\n",
      "LION is a wild animal.\n",
      "FOX is a wild animal that is sometimes kept as a pet.\n",
      "\n",
      "Number of lines: 3\n"
     ]
    }
   ],
   "source": [
    "# Read file line-by-line\n",
    "try:\n",
    "    stream = open('animals.txt')       \n",
    "    counter = 0\n",
    "    line = stream.readline()     \n",
    "    while line != '':   \n",
    "        counter += 1         \n",
    "        print(line, end='-')     \n",
    "        line = stream.readline()     \n",
    "    stream.close()\n",
    "    print('\\nNumber of lines:', counter)                 \n",
    "except Exception as e:\n",
    "    print('An error occured: ', e)"
   ]
  },
  {
   "cell_type": "code",
   "execution_count": 19,
   "id": "a82017bc",
   "metadata": {},
   "outputs": [
    {
     "name": "stdout",
     "output_type": "stream",
     "text": [
      "Content of the lines var: ['PIG is a domestic animal.\\n', 'LION is a wild animal.\\n', 'FOX is a wild animal that is sometimes kept as a pet.\\n']\n",
      "Number of lines in the file: 3\n",
      "PIG is a domestic animal.\n",
      "LION is a wild animal.\n",
      "FOX is a wild animal that is sometimes kept as a pet.\n"
     ]
    }
   ],
   "source": [
    "# Read file line-by-line\n",
    "try:\n",
    "    stream = open('animals.txt')       \n",
    "    lines = stream.readlines()     \n",
    "    print('Content of the lines var:', lines)\n",
    "    print('Number of lines in the file:', len(lines))\n",
    "    for line in lines:\n",
    "        print(line, end='')\n",
    "    stream.close()\n",
    "except Exception as e:\n",
    "    print('An error occured: ', e)"
   ]
  },
  {
   "cell_type": "markdown",
   "id": "07f674db",
   "metadata": {},
   "source": [
    "- If you get an empty list, it means that you've reached the end of the file"
   ]
  },
  {
   "cell_type": "code",
   "execution_count": 21,
   "id": "2963c918",
   "metadata": {},
   "outputs": [
    {
     "name": "stdout",
     "output_type": "stream",
     "text": [
      "PIG is a domestic animal.\n",
      "\n",
      "LION is a wild animal.\n",
      "\n",
      "FOX is a wild animal that is sometimes kept as a pet.\n",
      "\n"
     ]
    }
   ],
   "source": [
    "try:\n",
    "    stream = open('animals.txt')       \n",
    "    lines = stream.readlines(2)     # Read up to ~2 bytes, not 2 lines!\n",
    "    while len(lines) != 0:\n",
    "        for line in lines:\n",
    "            print(line, sep='')     # 'sep' doesn't apply here\n",
    "        lines = stream.readlines(2)\n",
    "    stream.close()\n",
    "except Exception as e:\n",
    "    print('An error occurred: ', e)"
   ]
  },
  {
   "cell_type": "code",
   "execution_count": null,
   "id": "95f0d081",
   "metadata": {},
   "outputs": [
    {
     "name": "stdout",
     "output_type": "stream",
     "text": [
      "PIG is a domestic animal.\n",
      "LION is a wild animal.\n",
      "FOX is a wild animal that is sometimes kept as a pet.\n"
     ]
    }
   ],
   "source": [
    "try:\n",
    "    stream = open('animals.txt')\n",
    "    for line in stream:\n",
    "        print(line, end='')     # avoid double newlines (line already has \\n)\n",
    "except Exception as e:\n",
    "    print('An error occured: ', e)"
   ]
  }
 ],
 "metadata": {
  "kernelspec": {
   "display_name": "venv",
   "language": "python",
   "name": "python3"
  },
  "language_info": {
   "codemirror_mode": {
    "name": "ipython",
    "version": 3
   },
   "file_extension": ".py",
   "mimetype": "text/x-python",
   "name": "python",
   "nbconvert_exporter": "python",
   "pygments_lexer": "ipython3",
   "version": "3.9.6"
  }
 },
 "nbformat": 4,
 "nbformat_minor": 5
}
