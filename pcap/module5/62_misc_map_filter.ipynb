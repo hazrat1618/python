{
 "cells": [
  {
   "cell_type": "markdown",
   "id": "abf7124b",
   "metadata": {},
   "source": [
    "- map() -> takes 2 arg: first is func, second is sequence with elements. Then map applies the func to all elements in the seq. Instead of creating output it retrieves iterator\n",
    "\n",
    "- An `iterator` is an object that allows us to retrieve the elements one by one in a loop or convert them into a list\n"
   ]
  },
  {
   "cell_type": "markdown",
   "id": "e43344c1",
   "metadata": {},
   "source": [
    "        map() --> purpose: Apply a func on each item in seq and return the modified results\n",
    "\n",
    "        filter() --> purpose: Apply a func that return True/False to each item and keep only ones that return True."
   ]
  },
  {
   "cell_type": "code",
   "execution_count": 1,
   "id": "3d86e980",
   "metadata": {},
   "outputs": [],
   "source": [
    "lambda_func = lambda i: i * 2\n",
    "initial_list = [1, 2, 3, 4, 5]"
   ]
  },
  {
   "cell_type": "code",
   "execution_count": 3,
   "id": "c41d5568",
   "metadata": {},
   "outputs": [
    {
     "data": {
      "text/plain": [
       "<map at 0x1078ed190>"
      ]
     },
     "execution_count": 3,
     "metadata": {},
     "output_type": "execute_result"
    }
   ],
   "source": [
    "map(lambda_func, initial_list)"
   ]
  },
  {
   "cell_type": "code",
   "execution_count": 6,
   "id": "ddc3edd2",
   "metadata": {},
   "outputs": [
    {
     "name": "stdout",
     "output_type": "stream",
     "text": [
      "2\n",
      "4\n",
      "6\n",
      "8\n",
      "10\n"
     ]
    },
    {
     "ename": "StopIteration",
     "evalue": "",
     "output_type": "error",
     "traceback": [
      "\u001b[0;31m---------------------------------------------------------------------------\u001b[0m",
      "\u001b[0;31mStopIteration\u001b[0m                             Traceback (most recent call last)",
      "Cell \u001b[0;32mIn[6], line 7\u001b[0m\n\u001b[1;32m      5\u001b[0m \u001b[38;5;28mprint\u001b[39m(\u001b[38;5;28mnext\u001b[39m(map_result))\n\u001b[1;32m      6\u001b[0m \u001b[38;5;28mprint\u001b[39m(\u001b[38;5;28mnext\u001b[39m(map_result))\n\u001b[0;32m----> 7\u001b[0m \u001b[38;5;28mprint\u001b[39m(\u001b[38;5;28;43mnext\u001b[39;49m\u001b[43m(\u001b[49m\u001b[43mmap_result\u001b[49m\u001b[43m)\u001b[49m)\n",
      "\u001b[0;31mStopIteration\u001b[0m: "
     ]
    }
   ],
   "source": [
    "map_result = map(lambda_func, initial_list)\n",
    "print(next(map_result))\n",
    "print(next(map_result))\n",
    "print(next(map_result))\n",
    "print(next(map_result))\n",
    "print(next(map_result))\n",
    "print(next(map_result))"
   ]
  },
  {
   "cell_type": "code",
   "execution_count": 7,
   "id": "6769c3f8",
   "metadata": {},
   "outputs": [
    {
     "name": "stdout",
     "output_type": "stream",
     "text": [
      "2,4,6,8,10,"
     ]
    }
   ],
   "source": [
    "map_result = map(lambda_func, initial_list)\n",
    "for element in map_result:\n",
    "    print(element, end=',')"
   ]
  },
  {
   "cell_type": "code",
   "execution_count": 8,
   "id": "1cec6322",
   "metadata": {},
   "outputs": [
    {
     "name": "stdout",
     "output_type": "stream",
     "text": [
      "[2, 4, 6, 8, 10]\n"
     ]
    }
   ],
   "source": [
    "map_result = map(lambda_func, initial_list)\n",
    "print(list(map_result))"
   ]
  },
  {
   "cell_type": "code",
   "execution_count": 9,
   "id": "da123071",
   "metadata": {},
   "outputs": [
    {
     "name": "stdout",
     "output_type": "stream",
     "text": [
      "[2, 4, 6, 8, 10]\n"
     ]
    }
   ],
   "source": [
    "lambda_func = lambda i: i * 2\n",
    "initial_list = [1, 2, 3, 4, 5]\n",
    "map_result = map(lambda_func, initial_list)\n",
    "print(list(map_result))"
   ]
  },
  {
   "cell_type": "markdown",
   "id": "64f22161",
   "metadata": {},
   "source": [
    "map() purpose in above code -> transform each item, double it\n",
    "\n",
    "map() purpose in below code ->  select items based on a condition"
   ]
  },
  {
   "cell_type": "code",
   "execution_count": 11,
   "id": "c5df87aa",
   "metadata": {},
   "outputs": [
    {
     "name": "stdout",
     "output_type": "stream",
     "text": [
      "[2, 4, 6, 8, 10]\n"
     ]
    }
   ],
   "source": [
    "# map() way -> We reduced 4 lines of codes in single line \n",
    "print(list(map(lambda i: i * 2, [1, 2, 3, 4, 5])))"
   ]
  },
  {
   "cell_type": "markdown",
   "id": "4bc214e7",
   "metadata": {},
   "source": [
    "filter() -> uses functions to filter elements of the sequence\n",
    "\n",
    "- In below ex filter() checks if num is even, if it is filter() func keeps element, if not filter() func removes element from result"
   ]
  },
  {
   "cell_type": "code",
   "execution_count": 12,
   "id": "54fbbfef",
   "metadata": {},
   "outputs": [
    {
     "name": "stdout",
     "output_type": "stream",
     "text": [
      "[2, 4, 6, 8]\n"
     ]
    }
   ],
   "source": [
    "# filter()\n",
    "print(list(filter(lambda i: i % 2 == 0, [1, 2, 3, 4, 5, 6, 7, 8])))"
   ]
  },
  {
   "cell_type": "code",
   "execution_count": 17,
   "id": "8865e09f",
   "metadata": {},
   "outputs": [
    {
     "data": {
      "text/plain": [
       "['frank@gmail.com', 'johnsmith@yahoo.com', 'whereareyou@gmail.com']"
      ]
     },
     "execution_count": 17,
     "metadata": {},
     "output_type": "execute_result"
    }
   ],
   "source": [
    "emails = [\n",
    "    'frank@gmail.com',\n",
    "    'i love python',\n",
    "    '98237434',\n",
    "    'johnsmith@yahoo.com',\n",
    "    'whereareyou@gmail.com',\n",
    "    'fs3dfss'\n",
    "\n",
    "]\n",
    "list(filter(lambda x: '@' in x, emails))"
   ]
  }
 ],
 "metadata": {
  "kernelspec": {
   "display_name": "venv",
   "language": "python",
   "name": "python3"
  },
  "language_info": {
   "codemirror_mode": {
    "name": "ipython",
    "version": 3
   },
   "file_extension": ".py",
   "mimetype": "text/x-python",
   "name": "python",
   "nbconvert_exporter": "python",
   "pygments_lexer": "ipython3",
   "version": "3.9.6"
  }
 },
 "nbformat": 4,
 "nbformat_minor": 5
}
