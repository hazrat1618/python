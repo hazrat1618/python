{
 "cells": [
  {
   "cell_type": "markdown",
   "id": "bf658add",
   "metadata": {},
   "source": [
    "Lambda func are used to simplify code to make it easier to understand.\n",
    "\n",
    "- Lambda can be used w/o giving it a name\n",
    "- Lambda can only contain a single instr"
   ]
  },
  {
   "cell_type": "markdown",
   "id": "f8bc1852",
   "metadata": {},
   "source": [
    "Typical func\n",
    "\n",
    "def function_name(parameter1, parameter2):\n",
    "    # instr 1\n",
    "    # instr 2"
   ]
  },
  {
   "cell_type": "markdown",
   "id": "5c621779",
   "metadata": {},
   "source": [
    "- Lambda functions are called functions w/o names or anonymous functions"
   ]
  },
  {
   "cell_type": "markdown",
   "id": "c374d2ab",
   "metadata": {},
   "source": [
    "Lambda func\n",
    "\n",
    "lambda parameter1, parameter2: # instr"
   ]
  },
  {
   "cell_type": "code",
   "execution_count": 2,
   "id": "1b0e4bcc",
   "metadata": {},
   "outputs": [],
   "source": [
    "def sum(a, b):\n",
    "    return a + b"
   ]
  },
  {
   "cell_type": "code",
   "execution_count": 3,
   "id": "8460d479",
   "metadata": {},
   "outputs": [
    {
     "data": {
      "text/plain": [
       "<function __main__.<lambda>(a, b)>"
      ]
     },
     "execution_count": 3,
     "metadata": {},
     "output_type": "execute_result"
    }
   ],
   "source": [
    "lambda a, b: a + b"
   ]
  },
  {
   "cell_type": "code",
   "execution_count": 4,
   "id": "de37bc11",
   "metadata": {},
   "outputs": [
    {
     "data": {
      "text/plain": [
       "<function __main__.<lambda>(x, y)>"
      ]
     },
     "execution_count": 4,
     "metadata": {},
     "output_type": "execute_result"
    }
   ],
   "source": [
    "lambda x, y: x + y"
   ]
  },
  {
   "cell_type": "code",
   "execution_count": 5,
   "id": "cf502e63",
   "metadata": {},
   "outputs": [
    {
     "data": {
      "text/plain": [
       "8"
      ]
     },
     "execution_count": 5,
     "metadata": {},
     "output_type": "execute_result"
    }
   ],
   "source": [
    "sum(5, 3)"
   ]
  },
  {
   "cell_type": "code",
   "execution_count": 6,
   "id": "1c52b4d4",
   "metadata": {},
   "outputs": [],
   "source": [
    "another_sum = lambda a, b: a + b"
   ]
  },
  {
   "cell_type": "code",
   "execution_count": 7,
   "id": "aa9b8a5e",
   "metadata": {},
   "outputs": [
    {
     "data": {
      "text/plain": [
       "8"
      ]
     },
     "execution_count": 7,
     "metadata": {},
     "output_type": "execute_result"
    }
   ],
   "source": [
    "another_sum(5, 3)"
   ]
  },
  {
   "cell_type": "markdown",
   "id": "7dfe5a08",
   "metadata": {},
   "source": [
    "Lambdas can be passed around like var"
   ]
  },
  {
   "cell_type": "code",
   "execution_count": 8,
   "id": "37043acb",
   "metadata": {},
   "outputs": [],
   "source": [
    "def apply_func(elements, func):\n",
    "    for element in elements:\n",
    "        print(func(element))"
   ]
  },
  {
   "cell_type": "code",
   "execution_count": 9,
   "id": "db685309",
   "metadata": {},
   "outputs": [
    {
     "name": "stdout",
     "output_type": "stream",
     "text": [
      "1\n",
      "4\n",
      "9\n",
      "16\n",
      "25\n"
     ]
    }
   ],
   "source": [
    "my_func = lambda x: x * x\n",
    "apply_func([1, 2, 3, 4, 5], my_func)"
   ]
  },
  {
   "cell_type": "code",
   "execution_count": 10,
   "id": "12bf43ac",
   "metadata": {},
   "outputs": [
    {
     "name": "stdout",
     "output_type": "stream",
     "text": [
      "1.0\n",
      "0.5\n",
      "0.3333333333333333\n",
      "0.25\n",
      "0.2\n"
     ]
    }
   ],
   "source": [
    "my_func = lambda x: 1/x\n",
    "apply_func([1, 2, 3, 4, 5], my_func)"
   ]
  },
  {
   "cell_type": "code",
   "execution_count": 11,
   "id": "243b1d26",
   "metadata": {},
   "outputs": [
    {
     "name": "stdout",
     "output_type": "stream",
     "text": [
      "0\n",
      "0\n",
      "0\n",
      "0\n",
      "0\n"
     ]
    }
   ],
   "source": [
    "my_func = lambda x: 0\n",
    "apply_func([1, 2, 3, 4, 5], my_func)"
   ]
  },
  {
   "cell_type": "code",
   "execution_count": 13,
   "id": "098a607c",
   "metadata": {},
   "outputs": [
    {
     "name": "stdout",
     "output_type": "stream",
     "text": [
      "1\n",
      "4\n",
      "9\n",
      "16\n",
      "25\n"
     ]
    }
   ],
   "source": [
    "apply_func([1, 2, 3, 4, 5], lambda x: x * x)"
   ]
  }
 ],
 "metadata": {
  "kernelspec": {
   "display_name": "venv",
   "language": "python",
   "name": "python3"
  },
  "language_info": {
   "codemirror_mode": {
    "name": "ipython",
    "version": 3
   },
   "file_extension": ".py",
   "mimetype": "text/x-python",
   "name": "python",
   "nbconvert_exporter": "python",
   "pygments_lexer": "ipython3",
   "version": "3.9.6"
  }
 },
 "nbformat": 4,
 "nbformat_minor": 5
}
