{
 "cells": [
  {
   "cell_type": "markdown",
   "id": "7a86c9f5",
   "metadata": {},
   "source": [
    "        A closure is a technique for implementing lexically scoped name binding in a language with first-class functioins.\n",
    "\n",
    "another definition\n",
    "\n",
    "        A closure is a function defined inside another function that remembers the values of the outer function"
   ]
  },
  {
   "cell_type": "code",
   "execution_count": null,
   "id": "79af40ce",
   "metadata": {},
   "outputs": [
    {
     "name": "stdout",
     "output_type": "stream",
     "text": [
      "Hello\n"
     ]
    }
   ],
   "source": [
    "def greet(text):  # Outer function that takes a parameter 'text'\n",
    "\n",
    "    def print_greet():  # Nested function (inner function), takes no arguments\n",
    "        print(text)     # Accesses 'text' from the outer function — this is a closure\n",
    "\n",
    "    return print_greet  # Returns the inner function WITHOUT calling it (closure is formed)\n",
    "\n",
    "# Create a closure by calling greet('Hello') — now 'say_hello' holds the inner function\n",
    "say_hello = greet('Hello')\n",
    "say_hello()     # Call the returned function — prints 'Hello'"
   ]
  },
  {
   "cell_type": "code",
   "execution_count": null,
   "id": "3060c416",
   "metadata": {},
   "outputs": [
    {
     "name": "stdout",
     "output_type": "stream",
     "text": [
      "50\n",
      "100\n",
      "120\n",
      "240\n"
     ]
    }
   ],
   "source": [
    "def make_multiply_closure(x):\n",
    "    # Outer function that takes 'x' and returns an inner function\n",
    "\n",
    "    def multiply(y):\n",
    "        # Inner function that uses 'x' from the outer scope\n",
    "        return x * y\n",
    "\n",
    "    return multiply  # Return the inner function — this creates a closure\n",
    "\n",
    "# Create two different closures with different values for 'x'\n",
    "multiply_5 = make_multiply_closure(5)     # Now multiply_5(y) will return 5 * y\n",
    "multiply_12 = make_multiply_closure(12)   # Now multiply_12(y) will return 12 * y\n",
    "\n",
    "# Call the closures with different 'y' values\n",
    "print(multiply_5(10))   # Output: 50\n",
    "print(multiply_5(20))   # Output: 100\n",
    "\n",
    "print(multiply_12(10))  # Output: 120\n",
    "print(multiply_12(20))  # Output: 240"
   ]
  }
 ],
 "metadata": {
  "kernelspec": {
   "display_name": "venv",
   "language": "python",
   "name": "python3"
  },
  "language_info": {
   "codemirror_mode": {
    "name": "ipython",
    "version": 3
   },
   "file_extension": ".py",
   "mimetype": "text/x-python",
   "name": "python",
   "nbconvert_exporter": "python",
   "pygments_lexer": "ipython3",
   "version": "3.9.6"
  }
 },
 "nbformat": 4,
 "nbformat_minor": 5
}
