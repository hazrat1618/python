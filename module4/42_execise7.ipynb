{
 "cells": [
  {
   "cell_type": "code",
   "execution_count": 1,
   "id": "dc179a2d",
   "metadata": {},
   "outputs": [
    {
     "name": "stdout",
     "output_type": "stream",
     "text": [
      "Low counts were 1, normal counts were 5, high counts were 6\n"
     ]
    }
   ],
   "source": [
    "spendings = [1346.0, 987.50, 1734.40, 2567.0, 3271.45, 2500.0, 2130.0, 2510.30, 2987.34, 3120.50, 4069.78, 1000.0]\n",
    "\n",
    "low_count = 0\n",
    "normal_count = 0\n",
    "high_count = 0\n",
    "\n",
    "for spending in spendings:\n",
    "    if spending < 1000.0:\n",
    "        low_count += 1\n",
    "    elif 1000.0 <= spending <= 2500.0:\n",
    "        normal_count += 1\n",
    "    elif spending > 2500.0:\n",
    "        high_count += 1\n",
    "print(f'Low counts were {low_count}, normal counts were {normal_count}, high counts were {high_count}')"
   ]
  }
 ],
 "metadata": {
  "kernelspec": {
   "display_name": ".venv",
   "language": "python",
   "name": "python3"
  },
  "language_info": {
   "codemirror_mode": {
    "name": "ipython",
    "version": 3
   },
   "file_extension": ".py",
   "mimetype": "text/x-python",
   "name": "python",
   "nbconvert_exporter": "python",
   "pygments_lexer": "ipython3",
   "version": "3.9.21"
  }
 },
 "nbformat": 4,
 "nbformat_minor": 5
}
