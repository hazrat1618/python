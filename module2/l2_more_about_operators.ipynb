{
 "cells": [
  {
   "cell_type": "markdown",
   "id": "c1bd08a3",
   "metadata": {},
   "source": [
    "Binary + and - operators"
   ]
  },
  {
   "cell_type": "code",
   "execution_count": null,
   "id": "90c51310",
   "metadata": {},
   "outputs": [
    {
     "data": {
      "text/plain": [
       "-2"
      ]
     },
     "execution_count": 2,
     "metadata": {},
     "output_type": "execute_result"
    }
   ],
   "source": [
    "5 + 7"
   ]
  },
  {
   "cell_type": "markdown",
   "id": "6f157640",
   "metadata": {},
   "source": [
    "Unary operators\n"
   ]
  },
  {
   "cell_type": "code",
   "execution_count": 3,
   "id": "52e8f68e",
   "metadata": {},
   "outputs": [
    {
     "name": "stdout",
     "output_type": "stream",
     "text": [
      "12\n"
     ]
    }
   ],
   "source": [
    "print(+12)"
   ]
  },
  {
   "cell_type": "markdown",
   "id": "7b618282",
   "metadata": {},
   "source": [
    "Order of operators:\n",
    "1. **\n",
    "2. * / // %\n",
    "3. + -"
   ]
  },
  {
   "cell_type": "code",
   "execution_count": 4,
   "id": "1d968970",
   "metadata": {},
   "outputs": [
    {
     "data": {
      "text/plain": [
       "8"
      ]
     },
     "execution_count": 4,
     "metadata": {},
     "output_type": "execute_result"
    }
   ],
   "source": [
    "2 + 3 * 2"
   ]
  },
  {
   "cell_type": "code",
   "execution_count": 5,
   "id": "c5993ebb",
   "metadata": {},
   "outputs": [
    {
     "data": {
      "text/plain": [
       "10"
      ]
     },
     "execution_count": 5,
     "metadata": {},
     "output_type": "execute_result"
    }
   ],
   "source": [
    "(2 + 3) * 2"
   ]
  },
  {
   "cell_type": "markdown",
   "id": "f30e67a4",
   "metadata": {},
   "source": [
    "The precision of floats in python is limited"
   ]
  },
  {
   "cell_type": "code",
   "execution_count": 6,
   "id": "71ade8d0",
   "metadata": {},
   "outputs": [
    {
     "name": "stdout",
     "output_type": "stream",
     "text": [
      "0.1\n"
     ]
    }
   ],
   "source": [
    "print(0.1)"
   ]
  },
  {
   "cell_type": "code",
   "execution_count": 7,
   "id": "e789b4e8",
   "metadata": {},
   "outputs": [
    {
     "name": "stdout",
     "output_type": "stream",
     "text": [
      "0.0010000000000000002\n"
     ]
    }
   ],
   "source": [
    "print(0.1 * 0.1 * 0.1)"
   ]
  },
  {
   "cell_type": "markdown",
   "id": "ff8bb237",
   "metadata": {},
   "source": [
    "Remember:\n",
    "The exponential operator ( ** ) uses right-sided binding (starts from the right)"
   ]
  },
  {
   "cell_type": "code",
   "execution_count": 12,
   "id": "1f6922db",
   "metadata": {},
   "outputs": [
    {
     "data": {
      "text/plain": [
       "256"
      ]
     },
     "execution_count": 12,
     "metadata": {},
     "output_type": "execute_result"
    }
   ],
   "source": [
    "2 ** 2 ** 3"
   ]
  }
 ],
 "metadata": {
  "kernelspec": {
   "display_name": ".venv",
   "language": "python",
   "name": "python3"
  },
  "language_info": {
   "codemirror_mode": {
    "name": "ipython",
    "version": 3
   },
   "file_extension": ".py",
   "mimetype": "text/x-python",
   "name": "python",
   "nbconvert_exporter": "python",
   "pygments_lexer": "ipython3",
   "version": "3.9.21"
  }
 },
 "nbformat": 4,
 "nbformat_minor": 5
}
