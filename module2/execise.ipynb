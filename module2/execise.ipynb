{
 "cells": [
  {
   "cell_type": "code",
   "execution_count": 1,
   "id": "94a213fa",
   "metadata": {},
   "outputs": [
    {
     "name": "stdout",
     "output_type": "stream",
     "text": [
      "Last month, you earned 800.0 dollars\n"
     ]
    }
   ],
   "source": [
    "work_hours = float(input('Hey, how many hours have you worked last month?: '))\n",
    "hour_rate = float(input('What was your hour rate?: '))\n",
    "\n",
    "print('Last month, you earned', work_hours * hour_rate, 'dollars')"
   ]
  },
  {
   "cell_type": "code",
   "execution_count": 2,
   "id": "8f39cefc",
   "metadata": {},
   "outputs": [
    {
     "name": "stdout",
     "output_type": "stream",
     "text": [
      "Last month, you earned 315.0 dollars\n"
     ]
    }
   ],
   "source": [
    "work_hours = 30\n",
    "hour_rate = 10.5\n",
    "print('Last month, you earned', work_hours * hour_rate,'dollars')"
   ]
  }
 ],
 "metadata": {
  "kernelspec": {
   "display_name": ".venv",
   "language": "python",
   "name": "python3"
  },
  "language_info": {
   "codemirror_mode": {
    "name": "ipython",
    "version": 3
   },
   "file_extension": ".py",
   "mimetype": "text/x-python",
   "name": "python",
   "nbconvert_exporter": "python",
   "pygments_lexer": "ipython3",
   "version": "3.9.21"
  }
 },
 "nbformat": 4,
 "nbformat_minor": 5
}
