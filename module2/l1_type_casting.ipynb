{
 "cells": [
  {
   "cell_type": "code",
   "execution_count": 3,
   "id": "964e6a14",
   "metadata": {},
   "outputs": [
    {
     "name": "stdout",
     "output_type": "stream",
     "text": [
      "Your height in feet is: 4.921259842519685\n"
     ]
    }
   ],
   "source": [
    "height_cm = input('Height converter: enter your height in cm: ')\n",
    "float_height_cm = float(height_cm)\n",
    "print('Your height in feet is:', float_height_cm / 30.48 )"
   ]
  },
  {
   "cell_type": "code",
   "execution_count": 5,
   "id": "9e1b23ec",
   "metadata": {},
   "outputs": [
    {
     "name": "stdout",
     "output_type": "stream",
     "text": [
      "Your height in feet is: 6.266404199475065\n"
     ]
    }
   ],
   "source": [
    "height_cm = float(input('Height converter: enter your height in cm: '))\n",
    "print('Your height in feet is:', height_cm / 30.48 )\n",
    "\n"
   ]
  },
  {
   "cell_type": "code",
   "execution_count": 2,
   "id": "7bbbc41c",
   "metadata": {},
   "outputs": [
    {
     "name": "stdout",
     "output_type": "stream",
     "text": [
      "In 2100, you will be 19000 years old, provided you live this long!\n"
     ]
    }
   ],
   "source": [
    "year_born = int(input('What year were you born?'))\n",
    "print('In 2100, you will be', 21000 - year_born, 'years old, provided you live this long!')"
   ]
  },
  {
   "cell_type": "code",
   "execution_count": null,
   "id": "64b8a1ef",
   "metadata": {},
   "outputs": [
    {
     "name": "stdout",
     "output_type": "stream",
     "text": [
      "22degrees Celcius equals 71.6 degrees Fahrenheit\n"
     ]
    }
   ],
   "source": [
    "temp_c = input('Enter the temperature today in Celcius degrees: ')\n",
    "temp_f = float(temp_c) * 1.8 + 32\n",
    "temp_statement = str(temp_c) + ' degrees Celcius equals ' + str(temp_f) + ' degrees Fahrenheit'\n",
    "print(temp_statement)"
   ]
  },
  {
   "cell_type": "markdown",
   "id": "06ea0fa3",
   "metadata": {},
   "source": [
    "Remember:\n",
    "Changing between data types (e.g. strings to floats) is called type casting"
   ]
  },
  {
   "cell_type": "markdown",
   "id": "0ec9e686",
   "metadata": {},
   "source": [
    "float()\n",
    "int()\n",
    "str()"
   ]
  }
 ],
 "metadata": {
  "kernelspec": {
   "display_name": ".venv",
   "language": "python",
   "name": "python3"
  },
  "language_info": {
   "codemirror_mode": {
    "name": "ipython",
    "version": 3
   },
   "file_extension": ".py",
   "mimetype": "text/x-python",
   "name": "python",
   "nbconvert_exporter": "python",
   "pygments_lexer": "ipython3",
   "version": "3.9.21"
  }
 },
 "nbformat": 4,
 "nbformat_minor": 5
}
