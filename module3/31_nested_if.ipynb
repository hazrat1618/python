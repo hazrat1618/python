{
 "cells": [
  {
   "cell_type": "markdown",
   "id": "8f43b867",
   "metadata": {},
   "source": [
    "We can use if statement inside of another if statement"
   ]
  },
  {
   "cell_type": "code",
   "execution_count": 4,
   "id": "d734ff70",
   "metadata": {},
   "outputs": [
    {
     "name": "stdout",
     "output_type": "stream",
     "text": [
      "Sorry to hear that!\n"
     ]
    }
   ],
   "source": [
    "answer_a = input('Do you like travelling? y/n: ')\n",
    "if answer_a == 'y':\n",
    "    answer_b = input('And do you like Asia? y/n: ')\n",
    "    if answer_b == 'y':\n",
    "        print('Excellent! You can win a ticket to Thailand!')\n",
    "    else:\n",
    "        print('Sorry to hear that!')\n",
    "else:\n",
    "    print('Sorry to hear that!')"
   ]
  }
 ],
 "metadata": {
  "kernelspec": {
   "display_name": ".venv",
   "language": "python",
   "name": "python3"
  },
  "language_info": {
   "codemirror_mode": {
    "name": "ipython",
    "version": 3
   },
   "file_extension": ".py",
   "mimetype": "text/x-python",
   "name": "python",
   "nbconvert_exporter": "python",
   "pygments_lexer": "ipython3",
   "version": "3.9.21"
  }
 },
 "nbformat": 4,
 "nbformat_minor": 5
}
