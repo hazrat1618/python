{
 "cells": [
  {
   "cell_type": "code",
   "execution_count": null,
   "id": "f8bf2f71",
   "metadata": {},
   "outputs": [],
   "source": [
    "while True:\n",
    "    answer = int(input('When was Python 1.0 released? '))\n",
    "    if answer > 1994:\n",
    "        print('It was earlier than that!')\n",
    "    elif answer < 1994:\n",
    "        print('It was later than that!')\n",
    "    else:\n",
    "        print('Correct!')\n",
    "        break"
   ]
  }
 ],
 "metadata": {
  "language_info": {
   "name": "python"
  }
 },
 "nbformat": 4,
 "nbformat_minor": 5
}
