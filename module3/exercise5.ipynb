{
 "cells": [
  {
   "cell_type": "code",
   "execution_count": null,
   "id": "e3022601",
   "metadata": {},
   "outputs": [
    {
     "name": "stdout",
     "output_type": "stream",
     "text": [
      "You cannot get a refund.\n"
     ]
    }
   ],
   "source": [
    "# My version\n",
    "\n",
    "purchase_days = int(input('How many days ago have you purchased the item? '))\n",
    "usage = input('Have you used the item at all [y/n]?')\n",
    "breakeage = input('Has the item broken down on its own [y/n]?')\n",
    "\n",
    "if purchase_days <= 10 and usage == 'n':\n",
    "    print('You can get a refund.')\n",
    "elif breakeage == 'y':\n",
    "    print('You cannot get a refund.')\n",
    "else:\n",
    "    print('You cannot get a refund.')\n",
    "\n"
   ]
  },
  {
   "cell_type": "code",
   "execution_count": null,
   "id": "083ee54b",
   "metadata": {},
   "outputs": [],
   "source": [
    "# Couch Solution\n",
    "\n",
    "purchase_days_ago = int(input('How many days ago have you purchased the item? '))\n",
    "is_used = input('Have you used the item at all [y/n]? ')\n",
    "is_broken = input('Has the item broken down on its own [y/n]? ')\n",
    " \n",
    "if(is_broken == 'y' or (purchase_days_ago <= 10 and is_used == 'n')):\n",
    "  print('You can get a refund.')\n",
    "else:\n",
    "  print('You cannot get a refund.')"
   ]
  }
 ],
 "metadata": {
  "kernelspec": {
   "display_name": ".venv",
   "language": "python",
   "name": "python3"
  },
  "language_info": {
   "codemirror_mode": {
    "name": "ipython",
    "version": 3
   },
   "file_extension": ".py",
   "mimetype": "text/x-python",
   "name": "python",
   "nbconvert_exporter": "python",
   "pygments_lexer": "ipython3",
   "version": "3.9.16"
  }
 },
 "nbformat": 4,
 "nbformat_minor": 5
}
