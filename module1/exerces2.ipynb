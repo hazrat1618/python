{
 "cells": [
  {
   "cell_type": "code",
   "execution_count": null,
   "id": "a2ea1390",
   "metadata": {},
   "outputs": [
    {
     "name": "stdout",
     "output_type": "stream",
     "text": [
      "Your income is 250000 and you would pay 12500.0 income tax in Lowtaxland or 107500.0 income tax in Ripoffland. You would save 95000.0 by paying taxes in Lowtaxland!\n"
     ]
    }
   ],
   "source": [
    "income = 250_000\n",
    "lowtaxland_rate = 0.05\n",
    "ripoffland_rate = 0.43\n",
    "difference = income*ripoffland_rate - income*lowtaxland_rate\n",
    "print('Your income is',income,'and you would pay',income*lowtaxland_rate,'income tax in Lowtaxland or',income*ripoffland_rate,'income tax in Ripoffland. You would save',difference,'by paying taxes in Lowtaxland!')"
   ]
  }
 ],
 "metadata": {
  "kernelspec": {
   "display_name": ".venv",
   "language": "python",
   "name": "python3"
  },
  "language_info": {
   "codemirror_mode": {
    "name": "ipython",
    "version": 3
   },
   "file_extension": ".py",
   "mimetype": "text/x-python",
   "name": "python",
   "nbconvert_exporter": "python",
   "pygments_lexer": "ipython3",
   "version": "3.9.16"
  }
 },
 "nbformat": 4,
 "nbformat_minor": 5
}
