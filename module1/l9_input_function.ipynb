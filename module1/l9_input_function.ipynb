{
 "cells": [
  {
   "cell_type": "code",
   "execution_count": null,
   "id": "83e5790b",
   "metadata": {},
   "outputs": [
    {
     "name": "stdout",
     "output_type": "stream",
     "text": [
      "What is your name?\n",
      "Hello, Jonas\n"
     ]
    }
   ],
   "source": [
    "print('What is your name?')\n",
    "user_name = input ()\n",
    "print('Hello,', user_name)"
   ]
  },
  {
   "cell_type": "code",
   "execution_count": 2,
   "id": "06576cf1",
   "metadata": {},
   "outputs": [
    {
     "name": "stdout",
     "output_type": "stream",
     "text": [
      "Hello, Jonas\n"
     ]
    }
   ],
   "source": [
    "user_name = input('What is your name?')\n",
    "print('Hello,', user_name)"
   ]
  },
  {
   "cell_type": "markdown",
   "id": "b46703f0",
   "metadata": {},
   "source": [
    "Remember\n",
    "Input functions in Python can:\n",
    "1. Cause some effect\n",
    "2. Return a value\n",
    "\n",
    "The input function always return a string value Even the user enters a number, Python will always treat it as a string value"
   ]
  }
 ],
 "metadata": {
  "kernelspec": {
   "display_name": ".venv",
   "language": "python",
   "name": "python3"
  },
  "language_info": {
   "codemirror_mode": {
    "name": "ipython",
    "version": 3
   },
   "file_extension": ".py",
   "mimetype": "text/x-python",
   "name": "python",
   "nbconvert_exporter": "python",
   "pygments_lexer": "ipython3",
   "version": "3.9.16"
  }
 },
 "nbformat": 4,
 "nbformat_minor": 5
}
