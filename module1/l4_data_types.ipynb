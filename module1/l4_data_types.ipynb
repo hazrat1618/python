{
 "cells": [
  {
   "cell_type": "code",
   "execution_count": null,
   "id": "51f5d8df",
   "metadata": {},
   "outputs": [],
   "source": [
    "greeting = 'Hello, friend'"
   ]
  },
  {
   "cell_type": "code",
   "execution_count": null,
   "id": "568e9844",
   "metadata": {},
   "outputs": [],
   "source": [
    "age = 35"
   ]
  },
  {
   "cell_type": "markdown",
   "id": "32ad13c5",
   "metadata": {},
   "source": [
    "When we surround number with apostrophies ' ' , it is no longer integer, it will be string. ex: age = '35'"
   ]
  },
  {
   "cell_type": "markdown",
   "id": "612e1200",
   "metadata": {},
   "source": [
    "Floats in Python are numbers that have decimal fraction introduced with a dot ex below"
   ]
  },
  {
   "cell_type": "code",
   "execution_count": null,
   "id": "85e5ec92",
   "metadata": {},
   "outputs": [],
   "source": [
    "speed1 = 4.5\n",
    "speed2 = 4.0\n",
    "speed3 = 4. \n",
    "speed4 = 4"
   ]
  },
  {
   "cell_type": "markdown",
   "id": "d2d7e03d",
   "metadata": {},
   "source": [
    "A boolean value is either True or False. Need to start with capital letter"
   ]
  },
  {
   "cell_type": "code",
   "execution_count": 1,
   "id": "c04fb9df",
   "metadata": {},
   "outputs": [],
   "source": [
    "am_i_ugly = True"
   ]
  },
  {
   "cell_type": "markdown",
   "id": "44980d7f",
   "metadata": {},
   "source": [
    "In programming true is equivalent 1 and false is 0"
   ]
  }
 ],
 "metadata": {
  "kernelspec": {
   "display_name": ".venv",
   "language": "python",
   "name": "python3"
  },
  "language_info": {
   "codemirror_mode": {
    "name": "ipython",
    "version": 3
   },
   "file_extension": ".py",
   "mimetype": "text/x-python",
   "name": "python",
   "nbconvert_exporter": "python",
   "pygments_lexer": "ipython3",
   "version": "3.9.16"
  }
 },
 "nbformat": 4,
 "nbformat_minor": 5
}
