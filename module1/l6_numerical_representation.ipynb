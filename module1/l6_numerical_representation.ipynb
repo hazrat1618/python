{
 "cells": [
  {
   "cell_type": "markdown",
   "id": "d2e8538e",
   "metadata": {},
   "source": [
    "Underscores ( _ ) can be in numbers. They don't change the meaning of the numbers, but improve readability"
   ]
  },
  {
   "cell_type": "code",
   "execution_count": null,
   "id": "0c8439bd",
   "metadata": {},
   "outputs": [],
   "source": [
    "# underscores in numbers\n",
    "12000300\n",
    "12_000_300"
   ]
  },
  {
   "cell_type": "code",
   "execution_count": 2,
   "id": "a45b3112",
   "metadata": {},
   "outputs": [
    {
     "name": "stdout",
     "output_type": "stream",
     "text": [
      "3e-27\n"
     ]
    }
   ],
   "source": [
    "# scientific notation\n",
    "# 3e4 = 3E4 = 3 * 10000 = 30000\n",
    "# 3e-4 = 3E-4 = 3 * 1/10000 = 0.0003\n",
    "print(0.000000000000000000000000003)"
   ]
  },
  {
   "cell_type": "code",
   "execution_count": null,
   "id": "6700ab6e",
   "metadata": {},
   "outputs": [
    {
     "name": "stdout",
     "output_type": "stream",
     "text": [
      "83\n"
     ]
    }
   ],
   "source": [
    "# octal numbers\n",
    "# start with 0O or 0o (Digits must be from 0-7 only, 8 and 9 are not allowed)\n",
    "print(0o123)"
   ]
  },
  {
   "cell_type": "markdown",
   "id": "83e3cf0b",
   "metadata": {},
   "source": [
    "0o123 = (1×8²) + (2×8¹) + (3×8⁰)\n",
    "      = (1×64) + (2×8) + (3×1)\n",
    "      = 64 + 16 + 3\n",
    "      = 83"
   ]
  },
  {
   "cell_type": "code",
   "execution_count": 4,
   "id": "d202061d",
   "metadata": {},
   "outputs": [
    {
     "name": "stdout",
     "output_type": "stream",
     "text": [
      "291\n"
     ]
    }
   ],
   "source": [
    "# hexadecimal numbers\n",
    "# start with 0X or 0x\n",
    "print(0x123)"
   ]
  },
  {
   "cell_type": "markdown",
   "id": "a9e944b6",
   "metadata": {},
   "source": [
    "0x123 = (1×16²) + (2×16¹) + (3×16⁰)\n",
    "      = (1×256) + (2×16) + (3×1)\n",
    "      = 256 + 32 + 3\n",
    "      = 291"
   ]
  },
  {
   "cell_type": "markdown",
   "id": "bd75cbc0",
   "metadata": {},
   "source": [
    "Octal and hexadecimal are not widely used. Just remember octal starts with 0O or 0o, and hexadecimal start with 0X or 0x"
   ]
  }
 ],
 "metadata": {
  "kernelspec": {
   "display_name": ".venv",
   "language": "python",
   "name": "python3"
  },
  "language_info": {
   "codemirror_mode": {
    "name": "ipython",
    "version": 3
   },
   "file_extension": ".py",
   "mimetype": "text/x-python",
   "name": "python",
   "nbconvert_exporter": "python",
   "pygments_lexer": "ipython3",
   "version": "3.9.16"
  }
 },
 "nbformat": 4,
 "nbformat_minor": 5
}
